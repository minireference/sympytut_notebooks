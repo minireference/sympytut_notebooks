{
 "cells": [
  {
   "cell_type": "markdown",
   "metadata": {},
   "source": [
    "# Taming math and physics using `SymPy`"
   ]
  },
  {
   "cell_type": "markdown",
   "metadata": {},
   "source": [
    "Tutorial based on the [No bullshit guide](http://minireference.com/) series of textbooks by [Ivan Savov](&#109;&#097;&#105;&#108;&#116;&#111;:&#105;&#118;&#097;&#110;&#046;&#115;&#097;&#118;&#111;&#118;+&#083;&#089;&#077;&#080;&#089;&#084;&#085;&#084;&#064;&#103;&#109;&#097;&#105;&#108;&#046;&#099;&#111;&#109;)"
   ]
  },
  {
   "cell_type": "markdown",
   "metadata": {},
   "source": [
    "## Abstract"
   ]
  },
  {
   "cell_type": "markdown",
   "metadata": {},
   "source": [
    "Most people consider math and physics to be scary\n",
    "beasts from which it is best to keep one's distance. Computers,\n",
    "however, can help us tame the complexity and tedious arithmetic\n",
    "manipulations associated with these subjects. Indeed, math and\n",
    "physics are much more approachable once you have the power of\n",
    "computers on your side.\n",
    "\n",
    "This tutorial serves a dual purpose. On one hand, it serves\n",
    "as a review of the fundamental concepts of mathematics for\n",
    "computer-literate people. On the other hand, this tutorial serves\n",
    "to demonstrate to students how a computer algebra system can\n",
    "help them with their classwork. A word of warning is in order.\n",
    "Please don't use `SymPy` to avoid the suffering associated with your\n",
    "homework! Teachers assign homework problems to you because\n",
    "they want you to learn. Do your homework by hand, but if you\n",
    "want, you can check your answers using `SymPy`. Better yet, use\n",
    "`SymPy` to invent extra practice problems for yourself."
   ]
  },
  {
   "cell_type": "markdown",
   "metadata": {},
   "source": [
    "## Contents"
   ]
  },
  {
   "cell_type": "markdown",
   "metadata": {},
   "source": [
    "* [Fundamentals of mathematics](Fundamentals-of-mathematics.ipynb)\n",
    "* [Complex numbers](Complex-numbers.ipynb)\n",
    "* [Calculus](Calculus.ipynb)\n",
    "* [Vectors](Vectors.ipynb)\n",
    "* [Mechanics](Mechanics.ipynb)\n",
    "* [Linear algebra](Linear-algebra.ipynb)"
   ]
  },
  {
   "cell_type": "markdown",
   "metadata": {},
   "source": [
    "## Introduction"
   ]
  },
  {
   "cell_type": "markdown",
   "metadata": {},
   "source": [
    "You can use a computer algebra system (CAS) to compute complicated\n",
    "math expressions, solve equations, perform calculus procedures,\n",
    "and simulate physics systems.\n",
    "\n",
    "All computer algebra systems offer essentially the same functionality,\n",
    "so it doesn't matter which system you use: there are free\n",
    "systems like `SymPy`, `Magma`, or `Octave`, and commercial systems like\n",
    "`Maple`, `MATLAB`, and `Mathematica`. This tutorial is an introduction to\n",
    "`SymPy`, which is a *symbolic* computer algebra system written in the\n",
    "programming language `Python`. In a symbolic CAS, numbers and\n",
    "operations are represented symbolically, so the answers obtained are\n",
    "exact. For example, the number &radic;2 is represented in `SymPy` as the\n",
    "object `Pow(2,1/2)`, whereas in numerical computer algebra systems\n",
    "like `Octave`, the number &radic;2 is represented as the approximation\n",
    "1.41421356237310 (a `float`). For most purposes the approximation\n",
    "is okay, but sometimes approximations can lead to problems:\n",
    "`float(sqrt(2))*float(sqrt(2))` = 2.00000000000000044 &ne; 2. Because\n",
    "`SymPy` uses exact representations, you'll never run into such\n",
    "problems: `Pow(2,1/2)*Pow(2,1/2)` = 2.\n",
    "\n",
    "This tutorial is organized as follows. We'll begin by introducing the\n",
    "`SymPy` basics and the bread-and-butter functions used for manipulating\n",
    "expressions and solving equations. Afterward, we'll discuss the\n",
    "`SymPy` functions that implement calculus operations like differentiation\n",
    "and integration. We'll also introduce the functions used to deal with\n",
    "vectors and complex numbers. Later we'll see how to use vectors and\n",
    "integrals to understand Newtonian mechanics. In the last section,\n",
    "we'll introduce the linear algebra functions available in `SymPy`.\n",
    "\n",
    "This tutorial presents many explanations as blocks of code. Be sure\n",
    "to try the code examples on your own by typing the commands into\n",
    "`SymPy`. It's always important to verify for yourself!"
   ]
  },
  {
   "cell_type": "markdown",
   "metadata": {},
   "source": [
    "## Using SymPy"
   ]
  },
  {
   "cell_type": "markdown",
   "metadata": {},
   "source": [
    "The easiest way to use `SymPy`, provided you're connected to the\n",
    "Internet, is to visit http://live.sympy.org. You'll be presented with\n",
    "an interactive prompt into which you can enter your commands&mdash;right\n",
    "in your browser.\n",
    "\n",
    "If you want to use `SymPy` on your own computer, you must install\n",
    "`Python` and the python package `sympy`. You can then open a command\n",
    "prompt and start a `SymPy` session using:\n",
    "\n",
    "```\n",
    "you@host$ python\n",
    "Python X.Y.Z\n",
    "[GCC a.b.c (Build Info)] on platform\n",
    "Type \"help\", \"copyright\", or \"license\" for more information.\n",
    ">>> from sympy import *\n",
    ">>>\n",
    "```\n",
    "\n",
    "The `>>>` prompt indicates you're in the Python shell which accepts\n",
    "Python commands. The command `from sympy import *` imports all\n",
    "the `SymPy` functions into the current namespace. All `SymPy` functions\n",
    "are now available to you. To exit the python shell press `CTRL+D`.\n",
    "\n",
    "I highly recommend you also install `ipython`, which is an improved\n",
    "interactive python shell. If you have `ipython` and `SymPy` installed,\n",
    "you can start an `ipython` shell with `SymPy` pre-imported using the\n",
    "command `isympy`. For an even better experience, you can try `ipython notebook`,\n",
    "which is a web frontend for the `ipython` shell.\n",
    "\n",
    "You can start your session the same way as `isympy` do, by running following commands, which will be detaily described latter."
   ]
  },
  {
   "cell_type": "code",
   "execution_count": 1,
   "metadata": {
    "collapsed": false,
    "jupyter": {
     "outputs_hidden": false
    }
   },
   "outputs": [
    {
     "name": "stdout",
     "output_type": "stream",
     "text": [
      "IPython console for SymPy 0.7.6 (Python 3.4.2-64-bit) (ground types: gmpy)\n",
      "\n",
      "These commands were executed:\n",
      ">>> from __future__ import division\n",
      ">>> from sympy import *\n",
      ">>> x, y, z, t = symbols('x y z t')\n",
      ">>> k, m, n = symbols('k m n', integer=True)\n",
      ">>> f, g, h = symbols('f g h', cls=Function)\n",
      ">>> init_printing()\n",
      "\n",
      "Documentation can be found at http://www.sympy.org\n"
     ]
    }
   ],
   "source": [
    "from sympy import init_session\n",
    "init_session()"
   ]
  },
  {
   "cell_type": "markdown",
   "metadata": {},
   "source": [
    "## Conclusion"
   ]
  },
  {
   "cell_type": "markdown",
   "metadata": {},
   "source": [
    "I would like to conclude with some words of caution about the overuse of computers.\n",
    "Computer technology is very powerful and is everywhere around us,\n",
    "but let's not forget that computers are actually very dumb:\n",
    "computers are mere calculators and they depend on your knowledge to direct them.\n",
    "It's important that you learn how to do complicated math by hand in order to be \n",
    "able to instruct computers to do math for you and to check the results of your computer calculations.\n",
    "I don't want you to use the tricks you learned in this tutorial to avoid math problems from now on\n",
    "and simply rely blindly on `SymPy` for all your math needs.\n",
    "I want both you and the computer to become math powerhouses!\n",
    "The computer will help you with tedious calculations (they're good at that)\n",
    "and you'll help the computer by guiding it when it gets  stuck (humans are good at that)."
   ]
  },
  {
   "cell_type": "markdown",
   "metadata": {},
   "source": [
    "## Links"
   ]
  },
  {
   "cell_type": "markdown",
   "metadata": {},
   "source": [
    "* [Installation instructions for `ipython notebook`](http://ipython.org/install.html)\n",
    "* [The official `SymPy` tutorial](http://docs.sympy.org/latest/tutorial/intro.html)\n",
    "* [A list of `SymPy` gotchas](http://docs.sympy.org/dev/gotchas.html)\n",
    "* [`SymPy` video tutorials by Matthew Rocklin](http://pyvideo.org/speaker/583/matthew-rocklin)"
   ]
  },
  {
   "cell_type": "markdown",
   "metadata": {},
   "source": [
    "## Book plug"
   ]
  },
  {
   "cell_type": "markdown",
   "metadata": {},
   "source": [
    "![Cover](http://minireference.com/miniref/lib/tpl/miniref/dist/images/productshots/noBSguide_math_physics_softcover.png)\n",
    "\n",
    "The examples and math explanations in this tutorial are sourced from the \n",
    "*No bullshit guide* series of books published by Minireference&nbsp;Co.\n",
    "We publish textbooks that make math and physics accessible and affordable for everyone.\n",
    "If you're interested in learning more about the math, physics, and calculus topics discussed in this tutorial,\n",
    "check out the **No bullshit guide to math and physics**.\n",
    "The book contains the distilled information that normally comes in two first-year university books:\n",
    "the introductory physics book (1000+ pages) and the first-year calculus book (1000+ pages).\n",
    "Would you believe me if I told you that you can learn the \n",
    "same material from a single book that is 1/7<sup>th</sup> the size and 1/10<sup>th</sup> of the \n",
    "price of mainstream textbooks?\n",
    "\n",
    "This book contains short lessons on math and physics, calculus.\n",
    "Often calculus and mechanics are taught as separate subjects.\n",
    "It shouldn't be like that.\n",
    "If you learn calculus without mechanics, it will be boring.\n",
    "If you learn mechanics without calculus, you won't truly understand what is going on.\n",
    "This textbook covers both subjects in an integrated manner.\n",
    "    \n",
    "Contents:\n",
    "\n",
    "* High school math\n",
    "* Vectors\n",
    "* Mechanics\n",
    "* Differential calculus\n",
    "* Integral calculus\n",
    "* 250+ practice problems\n",
    "\n",
    "For more information, see the book's website at [minireference.com](http://minireference.com/)\n",
    "\n",
    "The presented linear algebra examples are \n",
    "sourced from the [**No bullshit guide to linear algebra**](https://gum.co/noBSLA).\n",
    "Check out the book if you're taking a linear algebra course of if you're missing the prerequisites \n",
    "for learning machine learning, computer graphics, or quantum mechanics.\n",
    "\n",
    "I'll close on a note for potential readers who suffer from math-phobia.\n",
    "Both books start with an introductory chapter that reviews all \n",
    "high school math concepts needed to make math and physics \n",
    "accessible to everyone.\n",
    "Don't worry, we'll fix this math-phobia thing right up for you;\n",
    "**when you've got `SymPy` skills, math fears *you*!**\n",
    "\n",
    "To stay informed about upcoming titles,\n",
    "follow [@minireference](https://twitter.com/minireference) on twitter \n",
    "and check out the facebook page at [fb.me/noBSguide](http://fb.me/noBSguide)."
   ]
  }
 ],
 "metadata": {
  "kernelspec": {
   "display_name": "Python 3",
   "language": "python",
   "name": "python3"
  },
  "language_info": {
   "codemirror_mode": {
    "name": "ipython",
    "version": 3
   },
   "file_extension": ".py",
   "mimetype": "text/x-python",
   "name": "python",
   "nbconvert_exporter": "python",
   "pygments_lexer": "ipython3",
   "version": "3.6.9"
  }
 },
 "nbformat": 4,
 "nbformat_minor": 4
}
