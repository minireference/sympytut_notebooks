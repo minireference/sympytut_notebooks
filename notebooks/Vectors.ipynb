{
 "cells": [
  {
   "cell_type": "code",
   "execution_count": 1,
   "metadata": {},
   "outputs": [],
   "source": [
    "from sympy import *\n",
    "x, y, z, t = symbols('x y z t')"
   ]
  },
  {
   "cell_type": "markdown",
   "metadata": {},
   "source": [
    "## Vectors"
   ]
  },
  {
   "cell_type": "markdown",
   "metadata": {},
   "source": [
    "A vector $\\vec{v} \\in \\mathbb{R}^n$ is an $n$-tuple of real numbers. \n",
    "For example, consider a vector that has three components:  \n",
    "\n",
    "$$\n",
    " \\vec{v} = (v_1,v_2,v_3) \\  \\in \\  (\\mathbb{R},\\mathbb{R},\\mathbb{R}) \\equiv \\mathbb{R}^3.\n",
    "$$\n",
    "\n",
    "To specify the vector $\\vec{v}$, \n",
    "we specify the values for its three components $v_1$, $v_2$, and $v_3$. \n",
    "\n",
    "A matrix $A \\in \\mathbb{R}^{m\\times n}$ is a rectangular array of real numbers with $m$ rows and $n$ columns.\n",
    "A vector is a special type of matrix; we can think of a vector $\\vec{v}\\in \\mathbb{R}^n$\n",
    "either as a row vector ($1\\times n$ matrix) or a column vector ($n \\times 1$ matrix).\n",
    "Because of this equivalence between vectors and matrices,\n",
    "there is no need for a special vector object in `SymPy`, \n",
    "and `Matrix` objects are used for vectors as well.\n",
    "\n",
    "This is how we define vectors\n",
    "and compute their properties:"
   ]
  },
  {
   "cell_type": "code",
   "execution_count": 2,
   "metadata": {
    "collapsed": false,
    "jupyter": {
     "outputs_hidden": false
    }
   },
   "outputs": [],
   "source": [
    "u = Matrix([[4,5,6]])  # a row vector = 1x3 matrix\n",
    "v = Matrix([[7],\n",
    "            [8],       # a col vector = 3x1 matrix \n",
    "            [9]])"
   ]
  },
  {
   "cell_type": "code",
   "execution_count": 3,
   "metadata": {
    "collapsed": false,
    "jupyter": {
     "outputs_hidden": false
    }
   },
   "outputs": [
    {
     "data": {
      "text/latex": [
       "$\\displaystyle \\left[\\begin{matrix}7 & 8 & 9\\end{matrix}\\right]$"
      ],
      "text/plain": [
       "Matrix([[7, 8, 9]])"
      ]
     },
     "execution_count": 3,
     "metadata": {},
     "output_type": "execute_result"
    }
   ],
   "source": [
    "v.T                    # use the transpose operation to convert a col vec to a row vec"
   ]
  },
  {
   "cell_type": "code",
   "execution_count": 4,
   "metadata": {
    "collapsed": false,
    "jupyter": {
     "outputs_hidden": false
    }
   },
   "outputs": [
    {
     "data": {
      "text/latex": [
       "$\\displaystyle 4$"
      ],
      "text/plain": [
       "4"
      ]
     },
     "execution_count": 4,
     "metadata": {},
     "output_type": "execute_result"
    }
   ],
   "source": [
    "u[0]                   # 0-based indexing for entries"
   ]
  },
  {
   "cell_type": "code",
   "execution_count": 5,
   "metadata": {
    "collapsed": false,
    "jupyter": {
     "outputs_hidden": false
    }
   },
   "outputs": [
    {
     "data": {
      "text/latex": [
       "$\\displaystyle \\sqrt{77}$"
      ],
      "text/plain": [
       "sqrt(77)"
      ]
     },
     "execution_count": 5,
     "metadata": {},
     "output_type": "execute_result"
    }
   ],
   "source": [
    "u.norm()               # length of u"
   ]
  },
  {
   "cell_type": "code",
   "execution_count": 6,
   "metadata": {
    "collapsed": false,
    "jupyter": {
     "outputs_hidden": false
    }
   },
   "outputs": [
    {
     "data": {
      "text/latex": [
       "$\\displaystyle \\left[\\begin{matrix}\\frac{4 \\sqrt{77}}{77} & \\frac{5 \\sqrt{77}}{77} & \\frac{6 \\sqrt{77}}{77}\\end{matrix}\\right]$"
      ],
      "text/plain": [
       "Matrix([[4*sqrt(77)/77, 5*sqrt(77)/77, 6*sqrt(77)/77]])"
      ]
     },
     "execution_count": 6,
     "metadata": {},
     "output_type": "execute_result"
    }
   ],
   "source": [
    "uhat = u/u.norm()      # unit-length vec in same dir as u\n",
    "uhat"
   ]
  },
  {
   "cell_type": "code",
   "execution_count": 7,
   "metadata": {
    "collapsed": false,
    "jupyter": {
     "outputs_hidden": false
    }
   },
   "outputs": [
    {
     "data": {
      "text/latex": [
       "$\\displaystyle 1$"
      ],
      "text/plain": [
       "1"
      ]
     },
     "execution_count": 7,
     "metadata": {},
     "output_type": "execute_result"
    }
   ],
   "source": [
    "uhat.norm()"
   ]
  },
  {
   "cell_type": "markdown",
   "metadata": {},
   "source": [
    "### Dot product"
   ]
  },
  {
   "cell_type": "markdown",
   "metadata": {},
   "source": [
    "The dot product of the 3-vectors $\\vec{u}$ and $\\vec{v}$ can be defined two ways:\n",
    "\n",
    "$$\n",
    "  \\vec{u}\\cdot\\vec{v}\n",
    "  \t\\equiv \n",
    "\t\\underbrace{u_xv_x+u_yv_y+u_zv_z}_{\\textrm{algebraic def.}} \n",
    "\t\\equiv \n",
    "\t\\underbrace{\\|\\vec{u}\\|\\|\\vec{v}\\|\\cos(\\varphi)}_{\\textrm{geometric def.}} \n",
    "\t\\quad \\in \\mathbb{R},\n",
    "$$\n",
    "\n",
    "where $\\varphi$ is the angle between the vectors $\\vec{u}$ and $\\vec{v}$.\n",
    "In `SymPy`,"
   ]
  },
  {
   "cell_type": "code",
   "execution_count": 8,
   "metadata": {
    "collapsed": false,
    "jupyter": {
     "outputs_hidden": false
    }
   },
   "outputs": [
    {
     "data": {
      "text/latex": [
       "$\\displaystyle 13$"
      ],
      "text/plain": [
       "13"
      ]
     },
     "execution_count": 8,
     "metadata": {},
     "output_type": "execute_result"
    }
   ],
   "source": [
    "u = Matrix([ 4,5,6])\n",
    "v = Matrix([-1,1,2])\n",
    "u.dot(v)"
   ]
  },
  {
   "cell_type": "markdown",
   "metadata": {},
   "source": [
    "We can combine the algebraic and geometric formulas for the dot product\n",
    "to obtain the cosine of the angle between the vectors \n",
    "\n",
    "$$\n",
    "    \\cos(\\varphi)\n",
    "        = \\frac{ \\vec{u}\\cdot\\vec{v} }{  \\|\\vec{u}\\|\\|\\vec{v}\\| }\n",
    "        = \\frac{ u_xv_x+u_yv_y+u_zv_z  }{  \\|\\vec{u}\\|\\|\\vec{v}\\| },\n",
    "$$\n",
    "\n",
    "and use the `acos` function to find the angle measure:"
   ]
  },
  {
   "cell_type": "code",
   "execution_count": 9,
   "metadata": {
    "collapsed": false,
    "jupyter": {
     "outputs_hidden": false
    }
   },
   "outputs": [
    {
     "data": {
      "text/latex": [
       "$\\displaystyle 0.921263115666387$"
      ],
      "text/plain": [
       "0.921263115666387"
      ]
     },
     "execution_count": 9,
     "metadata": {},
     "output_type": "execute_result"
    }
   ],
   "source": [
    "acos(u.dot(v)/(u.norm()*v.norm())).evalf()  # in radians = 52.76 degrees"
   ]
  },
  {
   "cell_type": "markdown",
   "metadata": {},
   "source": [
    "Just by looking at the coordinates of the vectors $\\vec{u}$ and $\\vec{v}$,\n",
    "it's difficult to determine their relative direction. \n",
    "Thanks to the dot product, however,\n",
    "we know the angle between the vectors is $52.76^\\circ$,\n",
    "which means they *kind of* point in the same direction.\n",
    "Vectors that are at an angle $\\varphi=90^\\circ$ are called *orthogonal*, meaning at right angles with each other.\n",
    "The dot product of vectors for which $\\varphi > 90^\\circ$ is negative because they point *mostly* in opposite directions.\n",
    "\n",
    "The notion of the &ldquo;angle between vectors&rdquo; applies more generally to vectors with any number of dimensions.\n",
    "The dot product for $n$-dimensional vectors is $\\vec{u}\\cdot\\vec{v}=\\sum_{i=1}^n u_iv_i$.\n",
    "This means we can talk about &ldquo;the angle between&rdquo; 1000-dimensional vectors.\n",
    "That's pretty crazy if you think about it&mdash;there is no way we could possibly &ldquo;visualize&rdquo; 1000-dimensional vectors,\n",
    "yet given two such vectors we can tell if they point mostly in the same direction,\n",
    "in perpendicular directions, or mostly in opposite directions. \n",
    "\n",
    "The dot product is a commutative operation $\\vec{u}\\cdot\\vec{v} = \\vec{v}\\cdot\\vec{u}$:"
   ]
  },
  {
   "cell_type": "code",
   "execution_count": 10,
   "metadata": {
    "collapsed": false,
    "jupyter": {
     "outputs_hidden": false
    }
   },
   "outputs": [
    {
     "data": {
      "text/plain": [
       "True"
      ]
     },
     "execution_count": 10,
     "metadata": {},
     "output_type": "execute_result"
    }
   ],
   "source": [
    "u.dot(v) == v.dot(u)"
   ]
  },
  {
   "cell_type": "markdown",
   "metadata": {},
   "source": [
    "### Projections"
   ]
  },
  {
   "cell_type": "markdown",
   "metadata": {},
   "source": [
    "Dot products are used for computing projections.\n",
    "Assume you're given two vectors $\\vec{u}$ and $\\vec{n}$ and you want to find the component\n",
    "of $\\vec{u}$ that points in the $\\vec{n}$ direction.\n",
    "The following formula based on the dot product will give you the answer:\n",
    "\n",
    "$$\n",
    " \\Pi_{\\vec{n}}( \\vec{u} ) \\equiv \\frac{  \\vec{u} \\cdot \\vec{n}  }{ \\| \\vec{n} \\|^2 } \\vec{n}.\n",
    "$$\n",
    "\n",
    "This is how to implement this formula in `SymPy`:"
   ]
  },
  {
   "cell_type": "code",
   "execution_count": 11,
   "metadata": {
    "collapsed": false,
    "jupyter": {
     "outputs_hidden": false
    }
   },
   "outputs": [
    {
     "data": {
      "text/latex": [
       "$\\displaystyle \\left[\\begin{matrix}5\\\\5\\\\5\\end{matrix}\\right]$"
      ],
      "text/plain": [
       "Matrix([\n",
       "[5],\n",
       "[5],\n",
       "[5]])"
      ]
     },
     "execution_count": 11,
     "metadata": {},
     "output_type": "execute_result"
    }
   ],
   "source": [
    "u = Matrix([4,5,6])\n",
    "n = Matrix([1,1,1])\n",
    "(u.dot(n) / n.norm()**2)*n  # projection of v in the n dir"
   ]
  },
  {
   "cell_type": "markdown",
   "metadata": {},
   "source": [
    "In the case where the direction vector $\\hat{n}$ is of unit length $\\|\\hat{n}\\| = 1$,\n",
    "the projection formula simplifies to $\\Pi_{\\hat{n}}( \\vec{u} ) \\equiv (\\vec{u}\\cdot\\hat{n})\\hat{n}$.\n",
    "\n",
    "Consider now the plane $P$ defined by $(1,1,1)\\cdot[(x,y,z)-(0,0,0)]=0$.\n",
    "A plane is a two dimensional subspace of $\\mathbb{R}^3$.\n",
    "We can decompose any vector $\\vec{u} \\in \\mathbb{R}^3$ into two parts $\\vec{u}=\\vec{v} + \\vec{w}$\n",
    "such that $\\vec{v}$ lies inside the plane and $\\vec{w}$ is perpendicular to the plane (parallel to $\\vec{n}=(1,1,1)$).\n",
    "\n",
    "To obtain the perpendicular-to-$P$ component of $\\vec{u}$,\n",
    "compute the projection of $\\vec{u}$ in the direction $\\vec{n}$:"
   ]
  },
  {
   "cell_type": "code",
   "execution_count": 12,
   "metadata": {
    "collapsed": false,
    "jupyter": {
     "outputs_hidden": false
    }
   },
   "outputs": [
    {
     "data": {
      "text/latex": [
       "$\\displaystyle \\left[\\begin{matrix}5\\\\5\\\\5\\end{matrix}\\right]$"
      ],
      "text/plain": [
       "Matrix([\n",
       "[5],\n",
       "[5],\n",
       "[5]])"
      ]
     },
     "execution_count": 12,
     "metadata": {},
     "output_type": "execute_result"
    }
   ],
   "source": [
    "w = (u.dot(n) / n.norm()**2)*n\n",
    "w"
   ]
  },
  {
   "cell_type": "markdown",
   "metadata": {},
   "source": [
    "To obtain the in-the-plane-$P$ component of $\\vec{u}$,\n",
    "start with $\\vec{u}$ and subtract the perpendicular-to-$P$ part:"
   ]
  },
  {
   "cell_type": "code",
   "execution_count": 13,
   "metadata": {
    "collapsed": false,
    "jupyter": {
     "outputs_hidden": false
    }
   },
   "outputs": [
    {
     "data": {
      "text/latex": [
       "$\\displaystyle \\left[\\begin{matrix}-1\\\\0\\\\1\\end{matrix}\\right]$"
      ],
      "text/plain": [
       "Matrix([\n",
       "[-1],\n",
       "[ 0],\n",
       "[ 1]])"
      ]
     },
     "execution_count": 13,
     "metadata": {},
     "output_type": "execute_result"
    }
   ],
   "source": [
    "v = u - (u.dot(n)/n.norm()**2)*n  # same as u - w\n",
    "v"
   ]
  },
  {
   "cell_type": "markdown",
   "metadata": {},
   "source": [
    "You should check on your own that $\\vec{v}+\\vec{w}=\\vec{u}$ as claimed."
   ]
  },
  {
   "cell_type": "markdown",
   "metadata": {},
   "source": [
    "### Cross product"
   ]
  },
  {
   "cell_type": "markdown",
   "metadata": {},
   "source": [
    "The *cross product*, denoted $\\times$, takes two vectors as inputs and produces a vector as output.\n",
    "The cross products of individual basis elements are defined as follows:\n",
    "\n",
    "$$\n",
    " \\hat{\\imath}\\times\\hat{\\jmath} =\\hat{k}, \\qquad\n",
    " \\hat{\\jmath}\\times\\hat{k} =\\hat{\\imath}, \\qquad\n",
    " \\hat{k}\\times \\hat{\\imath}= \\hat{\\jmath}.\n",
    "$$\n",
    "\n",
    "Here is how to compute the cross product of two vectors in `SymPy`:"
   ]
  },
  {
   "cell_type": "code",
   "execution_count": 14,
   "metadata": {
    "collapsed": false,
    "jupyter": {
     "outputs_hidden": false
    }
   },
   "outputs": [
    {
     "data": {
      "text/latex": [
       "$\\displaystyle \\left[\\begin{matrix}4\\\\-14\\\\9\\end{matrix}\\right]$"
      ],
      "text/plain": [
       "Matrix([\n",
       "[  4],\n",
       "[-14],\n",
       "[  9]])"
      ]
     },
     "execution_count": 14,
     "metadata": {},
     "output_type": "execute_result"
    }
   ],
   "source": [
    "u = Matrix([ 4,5,6])\n",
    "v = Matrix([-1,1,2])\n",
    "u.cross(v)"
   ]
  },
  {
   "cell_type": "markdown",
   "metadata": {},
   "source": [
    "The vector $\\vec{u}\\times \\vec{v}$ is orthogonal to both $\\vec{u}$ and $\\vec{v}$.\n",
    "The norm of the cross product  $\\|\\vec{u}\\times \\vec{v}\\|$ is proportional to the lengths of the vectors \n",
    "and the sine of the angle between them:"
   ]
  },
  {
   "cell_type": "code",
   "execution_count": 15,
   "metadata": {
    "collapsed": false,
    "jupyter": {
     "outputs_hidden": false
    }
   },
   "outputs": [
    {
     "data": {
      "text/latex": [
       "$\\displaystyle 0.796366206088088$"
      ],
      "text/plain": [
       "0.796366206088088"
      ]
     },
     "execution_count": 15,
     "metadata": {},
     "output_type": "execute_result"
    }
   ],
   "source": [
    "(u.cross(v).norm()/(u.norm()*v.norm())).n()"
   ]
  },
  {
   "cell_type": "markdown",
   "metadata": {},
   "source": [
    "The name &ldquo;cross product&rdquo; is well-suited for this operation since it is\n",
    "calculated by &ldquo;cross-multiplying&rdquo; the coefficients of the vectors:\n",
    "\n",
    "$$\n",
    "   \\vec{u}\\times\\vec{v}=\n",
    "   \\left( \n",
    "     u_yv_z-u_zv_y, \\ u_zv_x-u_xv_z, \\ u_xv_y-u_yv_x \n",
    "    \\right).\n",
    "$$\n",
    "\n",
    "By defining individual symbols for the entries of two vectors,\n",
    "we can make `SymPy` show us the cross-product formula:"
   ]
  },
  {
   "cell_type": "code",
   "execution_count": 16,
   "metadata": {
    "collapsed": false,
    "jupyter": {
     "outputs_hidden": false
    }
   },
   "outputs": [
    {
     "data": {
      "text/latex": [
       "$\\displaystyle \\left[\\begin{matrix}u_{2} v_{3} - u_{3} v_{2}\\\\- u_{1} v_{3} + u_{3} v_{1}\\\\u_{1} v_{2} - u_{2} v_{1}\\end{matrix}\\right]$"
      ],
      "text/plain": [
       "Matrix([\n",
       "[ u2*v3 - u3*v2],\n",
       "[-u1*v3 + u3*v1],\n",
       "[ u1*v2 - u2*v1]])"
      ]
     },
     "execution_count": 16,
     "metadata": {},
     "output_type": "execute_result"
    }
   ],
   "source": [
    "u1,u2,u3 = symbols('u1:4')\n",
    "v1,v2,v3 = symbols('v1:4')\n",
    "Matrix([u1,u2,u3]).cross(Matrix([v1,v2,v3]))"
   ]
  },
  {
   "cell_type": "markdown",
   "metadata": {},
   "source": [
    "The dot product is anti-commutative $\\vec{u}\\times\\vec{v} = -\\vec{v}\\times\\vec{u}$:"
   ]
  },
  {
   "cell_type": "code",
   "execution_count": 17,
   "metadata": {
    "collapsed": false,
    "jupyter": {
     "outputs_hidden": false
    }
   },
   "outputs": [
    {
     "data": {
      "text/latex": [
       "$\\displaystyle \\left[\\begin{matrix}4\\\\-14\\\\9\\end{matrix}\\right]$"
      ],
      "text/plain": [
       "Matrix([\n",
       "[  4],\n",
       "[-14],\n",
       "[  9]])"
      ]
     },
     "execution_count": 17,
     "metadata": {},
     "output_type": "execute_result"
    }
   ],
   "source": [
    "u.cross(v)"
   ]
  },
  {
   "cell_type": "code",
   "execution_count": 18,
   "metadata": {
    "collapsed": false,
    "jupyter": {
     "outputs_hidden": false
    }
   },
   "outputs": [
    {
     "data": {
      "text/latex": [
       "$\\displaystyle \\left[\\begin{matrix}-4\\\\14\\\\-9\\end{matrix}\\right]$"
      ],
      "text/plain": [
       "Matrix([\n",
       "[-4],\n",
       "[14],\n",
       "[-9]])"
      ]
     },
     "execution_count": 18,
     "metadata": {},
     "output_type": "execute_result"
    }
   ],
   "source": [
    "v.cross(u)"
   ]
  },
  {
   "cell_type": "markdown",
   "metadata": {},
   "source": [
    "The product of two numbers and the dot product of two vectors are commutative operations.\n",
    "The cross product, however, is not commutative: $\\vec{u}\\times\\vec{v} \\neq \\vec{v}\\times\\vec{u}$."
   ]
  }
 ],
 "metadata": {
  "kernelspec": {
   "display_name": "Python 3",
   "language": "python",
   "name": "python3"
  },
  "language_info": {
   "codemirror_mode": {
    "name": "ipython",
    "version": 3
   },
   "file_extension": ".py",
   "mimetype": "text/x-python",
   "name": "python",
   "nbconvert_exporter": "python",
   "pygments_lexer": "ipython3",
   "version": "3.6.9"
  }
 },
 "nbformat": 4,
 "nbformat_minor": 4
}
