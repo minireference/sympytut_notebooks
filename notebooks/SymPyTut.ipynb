{
 "cells": [
  {
   "cell_type": "markdown",
   "metadata": {},
   "source": [
    "# Taming math and physics using `SymPy`"
   ]
  },
  {
   "cell_type": "markdown",
   "metadata": {},
   "source": [
    "Tutorial based on the [No bullshit guide](http://minireference.com/) series of textbooks by [Ivan Savov](&#109;&#097;&#105;&#108;&#116;&#111;:&#105;&#118;&#097;&#110;&#046;&#115;&#097;&#118;&#111;&#118;+&#083;&#089;&#077;&#080;&#089;&#084;&#085;&#084;&#064;&#103;&#109;&#097;&#105;&#108;&#046;&#099;&#111;&#109;)"
   ]
  },
  {
   "cell_type": "markdown",
   "metadata": {},
   "source": [
    "## Abstract"
   ]
  },
  {
   "cell_type": "markdown",
   "metadata": {},
   "source": [
    "Most people consider math and physics to be scary\n",
    "beasts from which it is best to keep one's distance. Computers,\n",
    "however, can help us tame the complexity and tedious arithmetic\n",
    "manipulations associated with these subjects. Indeed, math and\n",
    "physics are much more approachable once you have the power of\n",
    "computers on your side.\n",
    "\n",
    "This tutorial serves a dual purpose. On one hand, it serves\n",
    "as a review of the fundamental concepts of mathematics for\n",
    "computer-literate people. On the other hand, this tutorial serves\n",
    "to demonstrate to students how a computer algebra system can\n",
    "help them with their classwork. A word of warning is in order.\n",
    "Please don't use `SymPy` to avoid the suffering associated with your\n",
    "homework! Teachers assign homework problems to you because\n",
    "they want you to learn. Do your homework by hand, but if you\n",
    "want, you can check your answers using `SymPy`. Better yet, use\n",
    "`SymPy` to invent extra practice problems for yourself."
   ]
  },
  {
   "cell_type": "markdown",
   "metadata": {},
   "source": [
    "## Contents"
   ]
  },
  {
   "cell_type": "markdown",
   "metadata": {},
   "source": [
    "* [Fundamentals of mathematics](#Fundamentals-of-mathematics)\n",
    "* [Complex numbers](#Complex-numbers)\n",
    "* [Calculus](#Calculus)\n",
    "* [Vectors](#Vectors)\n",
    "* [Mechanics](#Mechanics)\n",
    "* [Linear algebra](#Linear-algebra)"
   ]
  },
  {
   "cell_type": "markdown",
   "metadata": {},
   "source": [
    "## Introduction"
   ]
  },
  {
   "cell_type": "markdown",
   "metadata": {},
   "source": [
    "You can use a computer algebra system (CAS) to compute complicated\n",
    "math expressions, solve equations, perform calculus procedures,\n",
    "and simulate physics systems.\n",
    "\n",
    "All computer algebra systems offer essentially the same functionality,\n",
    "so it doesn't matter which system you use: there are free\n",
    "systems like `SymPy`, `Magma`, or `Octave`, and commercial systems like\n",
    "`Maple`, `MATLAB`, and `Mathematica`. This tutorial is an introduction to\n",
    "`SymPy`, which is a *symbolic* computer algebra system written in the\n",
    "programming language `Python`. In a symbolic CAS, numbers and\n",
    "operations are represented symbolically, so the answers obtained are\n",
    "exact. For example, the number &radic;2 is represented in `SymPy` as the\n",
    "object `Pow(2,1/2)`, whereas in numerical computer algebra systems\n",
    "like `Octave`, the number &radic;2 is represented as the approximation\n",
    "1.41421356237310 (a `float`). For most purposes the approximation\n",
    "is okay, but sometimes approximations can lead to problems:\n",
    "`float(sqrt(2))*float(sqrt(2))` = 2.00000000000000044 &ne; 2. Because\n",
    "`SymPy` uses exact representations, you'll never run into such\n",
    "problems: `Pow(2,1/2)*Pow(2,1/2)` = 2.\n",
    "\n",
    "This tutorial is organized as follows. We'll begin by introducing the\n",
    "`SymPy` basics and the bread-and-butter functions used for manipulating\n",
    "expressions and solving equations. Afterward, we'll discuss the\n",
    "`SymPy` functions that implement calculus operations like differentiation\n",
    "and integration. We'll also introduce the functions used to deal with\n",
    "vectors and complex numbers. Later we'll see how to use vectors and\n",
    "integrals to understand Newtonian mechanics. In the last section,\n",
    "we'll introduce the linear algebra functions available in `SymPy`.\n",
    "\n",
    "This tutorial presents many explanations as blocks of code. Be sure\n",
    "to try the code examples on your own by typing the commands into\n",
    "`SymPy`. It's always important to verify for yourself!"
   ]
  },
  {
   "cell_type": "markdown",
   "metadata": {},
   "source": [
    "## Using SymPy"
   ]
  },
  {
   "cell_type": "markdown",
   "metadata": {},
   "source": [
    "The easiest way to use `SymPy`, provided you're connected to the\n",
    "Internet, is to visit http://live.sympy.org. You'll be presented with\n",
    "an interactive prompt into which you can enter your commands&mdash;right\n",
    "in your browser.\n",
    "\n",
    "If you want to use `SymPy` on your own computer, you must install\n",
    "`Python` and the python package `sympy`. You can then open a command\n",
    "prompt and start a `SymPy` session using:\n",
    "\n",
    "```\n",
    "you@host$ python\n",
    "Python X.Y.Z\n",
    "[GCC a.b.c (Build Info)] on platform\n",
    "Type \"help\", \"copyright\", or \"license\" for more information.\n",
    ">>> from sympy import *\n",
    ">>>\n",
    "```\n",
    "\n",
    "The `>>>` prompt indicates you're in the Python shell which accepts\n",
    "Python commands. The command `from sympy import *` imports all\n",
    "the `SymPy` functions into the current namespace. All `SymPy` functions\n",
    "are now available to you. To exit the python shell press `CTRL+D`.\n",
    "\n",
    "I highly recommend you also install `ipython`, which is an improved\n",
    "interactive python shell. If you have `ipython` and `SymPy` installed,\n",
    "you can start an `ipython` shell with `SymPy` pre-imported using the\n",
    "command `isympy`. For an even better experience, you can try `ipython notebook`,\n",
    "which is a web frontend for the `ipython` shell.\n",
    "\n",
    "You can start your session the same way as `isympy` do, by running following commands, which will be detaily described latter."
   ]
  },
  {
   "cell_type": "code",
   "execution_count": 1,
   "metadata": {
    "collapsed": false,
    "jupyter": {
     "outputs_hidden": false
    }
   },
   "outputs": [
    {
     "name": "stdout",
     "output_type": "stream",
     "text": [
      "IPython console for SymPy 0.7.6 (Python 3.4.2-64-bit) (ground types: gmpy)\n",
      "\n",
      "These commands were executed:\n",
      ">>> from __future__ import division\n",
      ">>> from sympy import *\n",
      ">>> x, y, z, t = symbols('x y z t')\n",
      ">>> k, m, n = symbols('k m n', integer=True)\n",
      ">>> f, g, h = symbols('f g h', cls=Function)\n",
      ">>> init_printing()\n",
      "\n",
      "Documentation can be found at http://www.sympy.org\n"
     ]
    }
   ],
   "source": [
    "from sympy import init_session\n",
    "init_session()"
   ]
  },
  {
   "cell_type": "markdown",
   "metadata": {},
   "source": [
    "## Fundamentals of mathematics"
   ]
  },
  {
   "cell_type": "markdown",
   "metadata": {},
   "source": [
    "Let's begin by learning about the basic `SymPy` objects and the\n",
    "operations we can carry out on them. We'll learn the `SymPy` equivalents\n",
    "of many math verbs like &ldquo;to solve&rdquo; (an equation), &ldquo;to expand&rdquo; (an\n",
    "expression), &ldquo;to factor&rdquo; (a polynomial)."
   ]
  },
  {
   "cell_type": "markdown",
   "metadata": {},
   "source": [
    "### Numbers"
   ]
  },
  {
   "cell_type": "markdown",
   "metadata": {},
   "source": [
    "In `Python`, there are two types of number objects: `int`s and `float`s."
   ]
  },
  {
   "cell_type": "code",
   "execution_count": 2,
   "metadata": {
    "collapsed": false,
    "jupyter": {
     "outputs_hidden": false
    }
   },
   "outputs": [
    {
     "data": {
      "image/png": "[encoded data removed]",
      "text/latex": [
       "$$3$$"
      ],
      "text/plain": [
       "3"
      ]
     },
     "execution_count": 2,
     "metadata": {},
     "output_type": "execute_result"
    }
   ],
   "source": [
    "3         # an int"
   ]
  },
  {
   "cell_type": "code",
   "execution_count": 3,
   "metadata": {
    "collapsed": false,
    "jupyter": {
     "outputs_hidden": false
    }
   },
   "outputs": [
    {
     "data": {
      "image/png": "[encoded data removed]",
      "text/latex": [
       "$$3.0$$"
      ],
      "text/plain": [
       "3.0"
      ]
     },
     "execution_count": 3,
     "metadata": {},
     "output_type": "execute_result"
    }
   ],
   "source": [
    "3.0       # a float"
   ]
  },
  {
   "cell_type": "markdown",
   "metadata": {},
   "source": [
    "Integer objects in `Python` are a faithful representation of the set of\n",
    "integers $\\mathbb{Z}=\\{\\ldots,-2,-1,0,1,2,\\ldots\\}$. Floating point numbers are\n",
    "approximate representations of the reals $\\mathbb{R}$. Regardless of its absolute\n",
    "size, a floating point number is only accurate to 16 decimals.\n",
    "\n",
    "Special care is required when specifying rational numbers, because\n",
    "integer division might not produce the answer you want. In other\n",
    "words, Python will not automatically convert the answer to a floating\n",
    "point number, but instead round the answer to the closest integer:"
   ]
  },
  {
   "cell_type": "code",
   "execution_count": 4,
   "metadata": {
    "collapsed": false,
    "jupyter": {
     "outputs_hidden": false
    }
   },
   "outputs": [
    {
     "data": {
      "image/png": "[encoded data removed]",
      "text/latex": [
       "$$0.14285714285714285$$"
      ],
      "text/plain": [
       "0.14285714285714285"
      ]
     },
     "execution_count": 4,
     "metadata": {},
     "output_type": "execute_result"
    }
   ],
   "source": [
    "1/7       # int/int gives int"
   ]
  },
  {
   "cell_type": "markdown",
   "metadata": {},
   "source": [
    "To avoid this problem, you can force `float` division by using the\n",
    "number `1.0` instead of `1`:"
   ]
  },
  {
   "cell_type": "code",
   "execution_count": 5,
   "metadata": {
    "collapsed": false,
    "jupyter": {
     "outputs_hidden": false
    }
   },
   "outputs": [
    {
     "data": {
      "image/png": "[encoded data removed]",
      "text/latex": [
       "$$0.14285714285714285$$"
      ],
      "text/plain": [
       "0.14285714285714285"
      ]
     },
     "execution_count": 5,
     "metadata": {},
     "output_type": "execute_result"
    }
   ],
   "source": [
    "1.0/7     # float/int gives float"
   ]
  },
  {
   "cell_type": "markdown",
   "metadata": {},
   "source": [
    "This result is better, but it's still only an approximation of the exact\n",
    "number $\\frac{1}{7} \\in \\mathbb{Q}$, since a `float` has 16 decimals while the decimal\n",
    "expansion of $\\frac{1}{7}$ is infinitely long. To obtain an *exact* representation\n",
    "of $\\frac{1}{7}$ you need to create a `SymPy` expression. You can sympify any\n",
    "expression using the shortcut function `S()`:"
   ]
  },
  {
   "cell_type": "code",
   "execution_count": 6,
   "metadata": {
    "collapsed": false,
    "jupyter": {
     "outputs_hidden": false
    }
   },
   "outputs": [
    {
     "data": {
      "image/png": "[encoded data removed]",
      "text/latex": [
       "$$\\frac{1}{7}$$"
      ],
      "text/plain": [
       "1/7"
      ]
     },
     "execution_count": 6,
     "metadata": {},
     "output_type": "execute_result"
    }
   ],
   "source": [
    "S('1/7')  # = Rational(1,7)"
   ]
  },
  {
   "cell_type": "markdown",
   "metadata": {},
   "source": [
    "Note the input to `S()` is specified as a text string delimited by quotes.\n",
    "We could have achieved the same result using `S('1')/7` since a `SymPy`\n",
    "object divided by an `int` is a `SymPy` object.\n",
    "\n",
    "Except for the tricky `Python` division operator, other math operators\n",
    "like addition `+`, subtraction `-`, and multiplication `*` work as you would\n",
    "expect. The syntax `**` is used in `Python` to denote exponentiation:"
   ]
  },
  {
   "cell_type": "code",
   "execution_count": 7,
   "metadata": {
    "collapsed": false,
    "jupyter": {
     "outputs_hidden": false
    }
   },
   "outputs": [
    {
     "data": {
      "image/png": "[encoded data removed]",
      "text/latex": [
       "$$1024$$"
      ],
      "text/plain": [
       "1024"
      ]
     },
     "execution_count": 7,
     "metadata": {},
     "output_type": "execute_result"
    }
   ],
   "source": [
    "2**10     # same as S('2^10')"
   ]
  },
  {
   "cell_type": "markdown",
   "metadata": {},
   "source": [
    "When solving math problems, it's best to work with `SymPy` objects,\n",
    "and wait to compute the numeric answer in the end. To obtain a\n",
    "numeric approximation of a `SymPy` object as a `float`, call its `.evalf()`\n",
    "method:"
   ]
  },
  {
   "cell_type": "code",
   "execution_count": 8,
   "metadata": {
    "collapsed": false,
    "jupyter": {
     "outputs_hidden": false
    }
   },
   "outputs": [
    {
     "data": {
      "image/png": "[encoded data removed]",
      "text/latex": [
       "$$\\pi$$"
      ],
      "text/plain": [
       "π"
      ]
     },
     "execution_count": 8,
     "metadata": {},
     "output_type": "execute_result"
    }
   ],
   "source": [
    "pi"
   ]
  },
  {
   "cell_type": "code",
   "execution_count": 9,
   "metadata": {
    "collapsed": false,
    "jupyter": {
     "outputs_hidden": false
    }
   },
   "outputs": [
    {
     "data": {
      "image/png": "[encoded data removed]",
      "text/latex": [
       "$$3.14159265358979$$"
      ],
      "text/plain": [
       "3.14159265358979"
      ]
     },
     "execution_count": 9,
     "metadata": {},
     "output_type": "execute_result"
    }
   ],
   "source": [
    "pi.evalf()"
   ]
  },
  {
   "cell_type": "markdown",
   "metadata": {},
   "source": [
    "The method `.n()` is equivalent to `.evalf()`. The global `SymPy`\n",
    "function `N()` can also be used to to compute numerical values. You can\n",
    "easily change the number of digits of precision of the approximation.\n",
    "Enter `pi.n(400)` to obtain an approximation of $\\pi$ to 400 decimals."
   ]
  },
  {
   "cell_type": "markdown",
   "metadata": {},
   "source": [
    "### Symbols"
   ]
  },
  {
   "cell_type": "markdown",
   "metadata": {},
   "source": [
    "Python is a civilized language so there's no need to define variables\n",
    "before assigning values to them. When you write `a = 3`, you define a\n",
    "new name `a` and set it to the value `3`. You can now use the name `a`\n",
    "in subsequent calculations.\n",
    "\n",
    "Most interesting `SymPy` calculations require us to define `symbols`,\n",
    "which are the `SymPy` objects for representing variables and unknowns.\n",
    "For your convenience, when [live.sympy.org](http://live.sympy.org) starts, it runs the\n",
    "following commands automatically:"
   ]
  },
  {
   "cell_type": "code",
   "execution_count": 10,
   "metadata": {
    "collapsed": false,
    "jupyter": {
     "outputs_hidden": false
    }
   },
   "outputs": [],
   "source": [
    "from __future__ import division\n",
    "from sympy import *\n",
    "x, y, z, t = symbols('x y z t')\n",
    "k, m, n = symbols('k m n', integer=True)\n",
    "f, g, h = symbols('f g h', cls=Function)"
   ]
  },
  {
   "cell_type": "markdown",
   "metadata": {},
   "source": [
    "The first statement instructs python to convert `1/7` to `1.0/7` when\n",
    "dividing, potentially saving you from any int division confusion. The\n",
    "second statement imports all the `SymPy` functions. The remaining\n",
    "statements define some generic symbols `x`, `y`, `z`, and `t`, and several\n",
    "other symbols with special properties.\n",
    "\n",
    "Note the difference between the following two statements:"
   ]
  },
  {
   "cell_type": "code",
   "execution_count": 11,
   "metadata": {
    "collapsed": false,
    "jupyter": {
     "outputs_hidden": false
    }
   },
   "outputs": [
    {
     "data": {
      "image/png": "[encoded data removed]",
      "text/latex": [
       "$$x + 2$$"
      ],
      "text/plain": [
       "x + 2"
      ]
     },
     "execution_count": 11,
     "metadata": {},
     "output_type": "execute_result"
    }
   ],
   "source": [
    "x + 2            # an Add expression"
   ]
  },
  {
   "cell_type": "code",
   "execution_count": 12,
   "metadata": {
    "collapsed": false,
    "jupyter": {
     "outputs_hidden": false
    }
   },
   "outputs": [
    {
     "ename": "NameError",
     "evalue": "name 'p' is not defined",
     "output_type": "error",
     "traceback": [
      "\u001b[1;31m---------------------------------------------------------------------------\u001b[0m\n\u001b[1;31mNameError\u001b[0m                                 Traceback (most recent call last)",
      "\u001b[1;32m<ipython-input-12-d62eaef0cf31>\u001b[0m in \u001b[0;36m<module>\u001b[1;34m()\u001b[0m\n\u001b[1;32m----> 1\u001b[1;33m \u001b[0mp\u001b[0m \u001b[1;33m+\u001b[0m \u001b[1;36m2\u001b[0m\u001b[1;33m\u001b[0m\u001b[0m\n\u001b[0m",
      "\u001b[1;31mNameError\u001b[0m: name 'p' is not defined"
     ]
    }
   ],
   "source": [
    "p + 2"
   ]
  },
  {
   "cell_type": "markdown",
   "metadata": {},
   "source": [
    "The name `x` is defined as a symbol, so `SymPy` knows that `x + 2` is an\n",
    "expression; but the variable `p` is not defined, so `SymPy` doesn't know\n",
    "what to make of `p + 2`. To use `p` in expressions, you must first define\n",
    "it as a symbol:"
   ]
  },
  {
   "cell_type": "code",
   "execution_count": 13,
   "metadata": {
    "collapsed": false,
    "jupyter": {
     "outputs_hidden": false
    }
   },
   "outputs": [
    {
     "data": {
      "image/png": "[encoded data removed]",
      "text/latex": [
       "$$p + 2$$"
      ],
      "text/plain": [
       "p + 2"
      ]
     },
     "execution_count": 13,
     "metadata": {},
     "output_type": "execute_result"
    }
   ],
   "source": [
    "p = Symbol('p')  # the same as p = symbols('p')\n",
    "p + 2            # = Add(Symbol('p'), Integer(2))"
   ]
  },
  {
   "cell_type": "markdown",
   "metadata": {},
   "source": [
    "You can define a sequence of variables using the following notation:"
   ]
  },
  {
   "cell_type": "code",
   "execution_count": 14,
   "metadata": {
    "collapsed": false,
    "jupyter": {
     "outputs_hidden": false
    }
   },
   "outputs": [],
   "source": [
    "a0, a1, a2, a3 = symbols('a0:4')"
   ]
  },
  {
   "cell_type": "markdown",
   "metadata": {},
   "source": [
    "You can use any name you want for a variable, but it's best if you\n",
    "avoid the letters `Q,C,O,S,I,N` and `E` because they have special uses\n",
    "in `SymPy`: `I` is the unit imaginary number $i \\equiv \\sqrt(-1)$, `E` is the base of\n",
    "the natural logarithm, `S()` is the sympify function, `N()` is used to\n",
    "obtain numeric approximations, and `O` is used for big-O notation.\n",
    "\n",
    "The underscore symbol `_` is a special variable that contains the result\n",
    "of the last printed value. The variable `_` is analogous to the `ans` button\n",
    "on certain calculators, and is useful in multi-step calculations:"
   ]
  },
  {
   "cell_type": "code",
   "execution_count": 15,
   "metadata": {
    "collapsed": false,
    "jupyter": {
     "outputs_hidden": false
    }
   },
   "outputs": [
    {
     "data": {
      "image/png": "[encoded data removed]",
      "text/latex": [
       "$$6$$"
      ],
      "text/plain": [
       "6"
      ]
     },
     "execution_count": 15,
     "metadata": {},
     "output_type": "execute_result"
    }
   ],
   "source": [
    "3+3"
   ]
  },
  {
   "cell_type": "code",
   "execution_count": 16,
   "metadata": {
    "collapsed": false,
    "jupyter": {
     "outputs_hidden": false
    }
   },
   "outputs": [
    {
     "data": {
      "image/png": "[encoded data removed]",
      "text/latex": [
       "$$12$$"
      ],
      "text/plain": [
       "12"
      ]
     },
     "execution_count": 16,
     "metadata": {},
     "output_type": "execute_result"
    }
   ],
   "source": [
    "_*2"
   ]
  },
  {
   "cell_type": "markdown",
   "metadata": {},
   "source": [
    "### Expresions"
   ]
  },
  {
   "cell_type": "markdown",
   "metadata": {},
   "source": [
    "You define `SymPy` expressions by combining symbols with basic math\n",
    "operations and other functions:"
   ]
  },
  {
   "cell_type": "code",
   "execution_count": 17,
   "metadata": {
    "collapsed": false,
    "jupyter": {
     "outputs_hidden": false
    }
   },
   "outputs": [
    {
     "data": {
      "image/png": "[encoded data removed]",
      "text/latex": [
       "$$2 x - \\sin{\\left (x \\right )} + 42$$"
      ],
      "text/plain": [
       "2⋅x - sin(x) + 42"
      ]
     },
     "execution_count": 17,
     "metadata": {},
     "output_type": "execute_result"
    }
   ],
   "source": [
    "expr = 2*x + 3*x - sin(x) - 3*x + 42\n",
    "simplify(expr)"
   ]
  },
  {
   "cell_type": "markdown",
   "metadata": {},
   "source": [
    "The function `simplify` can be used on any expression to simplify\n",
    "it. The examples below illustrate other useful `SymPy` functions that\n",
    "correspond to common mathematical operations on expressions:"
   ]
  },
  {
   "cell_type": "code",
   "execution_count": 18,
   "metadata": {
    "collapsed": false,
    "jupyter": {
     "outputs_hidden": false
    }
   },
   "outputs": [
    {
     "data": {
      "image/png": "[encoded data removed]",
      "text/latex": [
       "$$\\left(x - 4\\right) \\left(x + 2\\right)$$"
      ],
      "text/plain": [
       "(x - 4)⋅(x + 2)"
      ]
     },
     "execution_count": 18,
     "metadata": {},
     "output_type": "execute_result"
    }
   ],
   "source": [
    "factor( x**2-2*x-8 )"
   ]
  },
  {
   "cell_type": "code",
   "execution_count": 19,
   "metadata": {
    "collapsed": false,
    "jupyter": {
     "outputs_hidden": false
    }
   },
   "outputs": [
    {
     "data": {
      "image/png": "[encoded data removed]",
      "text/latex": [
       "$$x^{2} - 2 x - 8$$"
      ],
      "text/plain": [
       " 2          \n",
       "x  - 2⋅x - 8"
      ]
     },
     "execution_count": 19,
     "metadata": {},
     "output_type": "execute_result"
    }
   ],
   "source": [
    "expand( (x-4)*(x+2) )"
   ]
  },
  {
   "cell_type": "code",
   "execution_count": 20,
   "metadata": {
    "collapsed": false,
    "jupyter": {
     "outputs_hidden": false
    }
   },
   "outputs": [
    {
     "data": {
      "image/png": "[encoded data removed]",
      "text/latex": [
       "$$a b + x^{2} + x \\left(a + b\\right)$$"
      ],
      "text/plain": [
       "       2            \n",
       "a⋅b + x  + x⋅(a + b)"
      ]
     },
     "execution_count": 20,
     "metadata": {},
     "output_type": "execute_result"
    }
   ],
   "source": [
    "a, b = symbols('a b')\n",
    "collect(x**2 + x*b + a*x + a*b, x)  # collect terms for diff. pows of x"
   ]
  },
  {
   "cell_type": "markdown",
   "metadata": {},
   "source": [
    "To substitute a given value into an expression, call the `.subs()`\n",
    "method, passing in a python dictionary object `{ key:val, ... }`\n",
    "with the symbol&ndash;value substitutions you want to make:"
   ]
  },
  {
   "cell_type": "code",
   "execution_count": 21,
   "metadata": {
    "collapsed": false,
    "jupyter": {
     "outputs_hidden": false
    }
   },
   "outputs": [
    {
     "data": {
      "image/png": "[encoded data removed]",
      "text/latex": [
       "$$\\sin{\\left (x \\right )} + \\cos{\\left (y \\right )}$$"
      ],
      "text/plain": [
       "sin(x) + cos(y)"
      ]
     },
     "execution_count": 21,
     "metadata": {},
     "output_type": "execute_result"
    }
   ],
   "source": [
    "expr = sin(x) + cos(y)\n",
    "expr"
   ]
  },
  {
   "cell_type": "code",
   "execution_count": 22,
   "metadata": {
    "collapsed": false,
    "jupyter": {
     "outputs_hidden": false
    }
   },
   "outputs": [
    {
     "data": {
      "image/png": "[encoded data removed]",
      "text/latex": [
       "$$\\cos{\\left (2 \\right )} + \\sin{\\left (1 \\right )}$$"
      ],
      "text/plain": [
       "cos(2) + sin(1)"
      ]
     },
     "execution_count": 22,
     "metadata": {},
     "output_type": "execute_result"
    }
   ],
   "source": [
    "expr.subs({x:1, y:2})"
   ]
  },
  {
   "cell_type": "code",
   "execution_count": 23,
   "metadata": {
    "collapsed": false,
    "jupyter": {
     "outputs_hidden": false
    }
   },
   "outputs": [
    {
     "data": {
      "image/png": "[encoded data removed]",
      "text/latex": [
       "$$0.425324148260754$$"
      ],
      "text/plain": [
       "0.425324148260754"
      ]
     },
     "execution_count": 23,
     "metadata": {},
     "output_type": "execute_result"
    }
   ],
   "source": [
    "expr.subs({x:1, y:2}).n()"
   ]
  },
  {
   "cell_type": "markdown",
   "metadata": {},
   "source": [
    "Note how we used `.n()` to obtain the expression's numeric value."
   ]
  },
  {
   "cell_type": "markdown",
   "metadata": {},
   "source": [
    "### Solving equations"
   ]
  },
  {
   "cell_type": "markdown",
   "metadata": {},
   "source": [
    "The function `solve` is the main workhorse in `SymPy`. This incredibly\n",
    "powerful function knows how to solve all kinds of equations. In fact\n",
    "`solve` can solve pretty much any equation! When high school students\n",
    "learn about this function, they get really angry&mdash;why did they spend\n",
    "five years of their life learning to solve various equations by hand,\n",
    "when all along there was this `solve` thing that could do all the math\n",
    "for them? Don't worry, learning math is never a waste of time.\n",
    "\n",
    "The function `solve` takes two arguments. Use `solve(expr,var)` to\n",
    "solve the equation `expr==0` for the variable `var`. You can rewrite any\n",
    "equation in the form `expr==0` by moving all the terms to one side\n",
    "of the equation; the solutions to $A(x) = B(x)$ are the same as the\n",
    "solutions to $A(x) - B(x) = 0$.\n",
    "\n",
    "For example, to solve the quadratic equation $x^2 + 2x - 8 = 0$, use"
   ]
  },
  {
   "cell_type": "code",
   "execution_count": 24,
   "metadata": {
    "collapsed": false,
    "jupyter": {
     "outputs_hidden": false
    }
   },
   "outputs": [
    {
     "data": {
      "image/png": "[encoded data removed]",
      "text/latex": [
       "$$\\left [ -4, \\quad 2\\right ]$$"
      ],
      "text/plain": [
       "[-4, 2]"
      ]
     },
     "execution_count": 24,
     "metadata": {},
     "output_type": "execute_result"
    }
   ],
   "source": [
    "solve( x**2 + 2*x - 8, x)"
   ]
  },
  {
   "cell_type": "markdown",
   "metadata": {},
   "source": [
    "In this case the equation has two solutions so `solve` returns a list.\n",
    "Check that $x = 2$ and $x = -4$ satisfy the equation $x^2 + 2x - 8 = 0$.\n",
    "\n",
    "The best part about `solve` and `SymPy` is that you can obtain symbolic\n",
    "answers when solving equations. Instead of solving one specific\n",
    "quadratic equation, we can solve all possible equations of the form\n",
    "$ax^2 + bx + c = 0$ using the following steps:"
   ]
  },
  {
   "cell_type": "code",
   "execution_count": 25,
   "metadata": {
    "collapsed": false,
    "jupyter": {
     "outputs_hidden": false
    }
   },
   "outputs": [
    {
     "data": {
      "image/png": "[encoded data removed]",
      "text/latex": [
       "$$\\left [ \\frac{1}{2 a} \\left(- b + \\sqrt{- 4 a c + b^{2}}\\right), \\quad - \\frac{1}{2 a} \\left(b + \\sqrt{- 4 a c + b^{2}}\\right)\\right ]$$"
      ],
      "text/plain": [
       "⎡        _____________   ⎛       _____________⎞ ⎤\n",
       "⎢       ╱           2    ⎜      ╱           2 ⎟ ⎥\n",
       "⎢-b + ╲╱  -4⋅a⋅c + b    -⎝b + ╲╱  -4⋅a⋅c + b  ⎠ ⎥\n",
       "⎢─────────────────────, ────────────────────────⎥\n",
       "⎣         2⋅a                     2⋅a           ⎦"
      ]
     },
     "execution_count": 25,
     "metadata": {},
     "output_type": "execute_result"
    }
   ],
   "source": [
    "a, b, c = symbols('a b c')\n",
    "solve( a*x**2 + b*x + c, x)"
   ]
  },
  {
   "cell_type": "markdown",
   "metadata": {},
   "source": [
    "In this case `solve` calculated the solution in terms of the symbols\n",
    "`a`, `b`, and `c`. You should be able to recognize the expressions in the\n",
    "solution&mdash;it's the quadratic formula $x_{1,2} = \\frac{-b \\pm \\sqrt{b^2 - 4ac}}{2a}$.\n",
    "\n",
    "To solve a specific equation like $x^2 + 2x - 8 = 0$, we can substitute\n",
    "the coefficients $a = 1$, $b = 2$, and $c = -8$ into the general solution to\n",
    "obtain the same result:"
   ]
  },
  {
   "cell_type": "code",
   "execution_count": 26,
   "metadata": {
    "collapsed": false,
    "jupyter": {
     "outputs_hidden": false
    }
   },
   "outputs": [
    {
     "data": {
      "image/png": "[encoded data removed]",
      "text/latex": [
       "$$\\left [ 2, \\quad -4\\right ]$$"
      ],
      "text/plain": [
       "[2, -4]"
      ]
     },
     "execution_count": 26,
     "metadata": {},
     "output_type": "execute_result"
    }
   ],
   "source": [
    "gen_sol = solve( a*x**2 + b*x + c, x)\n",
    "[ gen_sol[0].subs({'a':1,'b':2,'c':-8}),\n",
    "  gen_sol[1].subs({'a':1,'b':2,'c':-8}) ]"
   ]
  },
  {
   "cell_type": "markdown",
   "metadata": {},
   "source": [
    "To solve a *system of equations*, you can feed `solve` with the list of\n",
    "equations as the first argument, and specify the list of unknowns you\n",
    "want to solve for as the second argument. For example, to solve for $x$\n",
    "and $y$ in the system of equations $x + y = 3$ and $3x - 2y = 0$, use"
   ]
  },
  {
   "cell_type": "code",
   "execution_count": 27,
   "metadata": {
    "collapsed": false,
    "jupyter": {
     "outputs_hidden": false
    }
   },
   "outputs": [
    {
     "data": {
      "image/png": "[encoded data removed]",
      "text/latex": [
       "$$\\left \\{ x : \\frac{6}{5}, \\quad y : \\frac{9}{5}\\right \\}$$"
      ],
      "text/plain": [
       "{x: 6/5, y: 9/5}"
      ]
     },
     "execution_count": 27,
     "metadata": {},
     "output_type": "execute_result"
    }
   ],
   "source": [
    "solve([x + y - 3, 3*x - 2*y], [x, y])"
   ]
  },
  {
   "cell_type": "markdown",
   "metadata": {},
   "source": [
    "The function `solve` is like a Swiss Army knife you can use to solve\n",
    "all kind of problems. Suppose you want to *complete the square* in the\n",
    "expression $x^2 - 4x + 7$, that is, you want to find constants $h$ and $k$\n",
    "such that $x^2 -4x + 7 = (x-h)^2 + k$. There is no special &ldquo;complete the\n",
    "square&rdquo; function in `SymPy`, but you can call solve on the equation\n",
    "$(x - h)^2 + k - (x^2 - 4x + 7) = 0$ to find the unknowns $h$ and $k$:"
   ]
  },
  {
   "cell_type": "code",
   "execution_count": 28,
   "metadata": {
    "collapsed": false,
    "jupyter": {
     "outputs_hidden": false
    }
   },
   "outputs": [
    {
     "data": {
      "image/png": "[encoded data removed]",
      "text/latex": [
       "$$\\left [ \\left ( 2, \\quad 3\\right )\\right ]$$"
      ],
      "text/plain": [
       "[(2, 3)]"
      ]
     },
     "execution_count": 28,
     "metadata": {},
     "output_type": "execute_result"
    }
   ],
   "source": [
    "h, k = symbols('h k')\n",
    "solve( (x-h)**2 + k - (x**2-4*x+7), [h,k] )"
   ]
  },
  {
   "cell_type": "code",
   "execution_count": 29,
   "metadata": {
    "collapsed": false,
    "jupyter": {
     "outputs_hidden": false
    }
   },
   "outputs": [
    {
     "data": {
      "image/png": "[encoded data removed]",
      "text/latex": [
       "$$x^{2} - 4 x + 7$$"
      ],
      "text/plain": [
       " 2          \n",
       "x  - 4⋅x + 7"
      ]
     },
     "execution_count": 29,
     "metadata": {},
     "output_type": "execute_result"
    }
   ],
   "source": [
    "((x-2)**2+3).expand()  # so h = 2 and k = 3, verify..."
   ]
  },
  {
   "cell_type": "markdown",
   "metadata": {},
   "source": [
    "Learn the basic `SymPy` commands and you'll never need to suffer\n",
    "another tedious arithmetic calculation painstakingly performed by\n",
    "hand again!"
   ]
  },
  {
   "cell_type": "markdown",
   "metadata": {},
   "source": [
    "### Rational functions"
   ]
  },
  {
   "cell_type": "markdown",
   "metadata": {},
   "source": [
    "By default, `SymPy` will not combine or split rational expressions.\n",
    "You need to use `together` to symbolically calculate the addition of\n",
    "fractions:"
   ]
  },
  {
   "cell_type": "code",
   "execution_count": 30,
   "metadata": {
    "collapsed": false,
    "jupyter": {
     "outputs_hidden": false
    }
   },
   "outputs": [
    {
     "data": {
      "image/png": "[encoded data removed]",
      "text/latex": [
       "$$\\frac{a}{b} + \\frac{c}{d}$$"
      ],
      "text/plain": [
       "a   c\n",
       "─ + ─\n",
       "b   d"
      ]
     },
     "execution_count": 30,
     "metadata": {},
     "output_type": "execute_result"
    }
   ],
   "source": [
    "a, b, c, d = symbols('a b c d')\n",
    "a/b + c/d"
   ]
  },
  {
   "cell_type": "code",
   "execution_count": 31,
   "metadata": {
    "collapsed": false,
    "jupyter": {
     "outputs_hidden": false
    }
   },
   "outputs": [
    {
     "data": {
      "image/png": "[encoded data removed]",
      "text/latex": [
       "$$\\frac{1}{b d} \\left(a d + b c\\right)$$"
      ],
      "text/plain": [
       "a⋅d + b⋅c\n",
       "─────────\n",
       "   b⋅d   "
      ]
     },
     "execution_count": 31,
     "metadata": {},
     "output_type": "execute_result"
    }
   ],
   "source": [
    "together(a/b + c/d)"
   ]
  },
  {
   "cell_type": "markdown",
   "metadata": {},
   "source": [
    "Alternately, if you have a rational expression and want to divide the\n",
    "numerator by the denominator, use the `apart` function:"
   ]
  },
  {
   "cell_type": "code",
   "execution_count": 32,
   "metadata": {
    "collapsed": false,
    "jupyter": {
     "outputs_hidden": false
    }
   },
   "outputs": [
    {
     "data": {
      "image/png": "[encoded data removed]",
      "text/latex": [
       "$$x - 1 + \\frac{6}{x + 2}$$"
      ],
      "text/plain": [
       "          6  \n",
       "x - 1 + ─────\n",
       "        x + 2"
      ]
     },
     "execution_count": 32,
     "metadata": {},
     "output_type": "execute_result"
    }
   ],
   "source": [
    "apart( (x**2+x+4)/(x+2) )"
   ]
  },
  {
   "cell_type": "markdown",
   "metadata": {},
   "source": [
    "### Exponentials and logarithms"
   ]
  },
  {
   "cell_type": "markdown",
   "metadata": {},
   "source": [
    "Euler's constant $e = 2.71828\\dots$ is defined one of several ways,\n",
    "\n",
    "$$\n",
    "e \\equiv \\lim_{n\\to\\infty}\\left(1+\\frac{1}{n}\\right)^n\n",
    "  \\equiv \\lim_{\\epsilon\\to 0}(1+\\epsilon)^{1/\\epsilon}\n",
    "  \\equiv \\sum_{n=0}^{\\infty}\\frac{1}{n!},\n",
    "$$\n",
    "\n",
    "and is denoted `E` in `SymPy`. Using `exp(x)` is equivalent to `E**x`.\n",
    "\n",
    "The functions `log` and `ln` both compute the logarithm base $e$:"
   ]
  },
  {
   "cell_type": "code",
   "execution_count": 33,
   "metadata": {
    "collapsed": false,
    "jupyter": {
     "outputs_hidden": false
    }
   },
   "outputs": [
    {
     "data": {
      "image/png": "[encoded data removed]",
      "text/latex": [
       "$$3$$"
      ],
      "text/plain": [
       "3"
      ]
     },
     "execution_count": 33,
     "metadata": {},
     "output_type": "execute_result"
    }
   ],
   "source": [
    "log(E**3)  # same as ln(E**3)"
   ]
  },
  {
   "cell_type": "markdown",
   "metadata": {},
   "source": [
    "By default, `SymPy` assumes the inputs to functions like `exp` and `log` are\n",
    "complex numbers, so it will not expand certain logarithmic expressions.\n",
    "However, indicating to `SymPy` that the inputs are positive real numbers\n",
    "will make the expansions work:"
   ]
  },
  {
   "cell_type": "code",
   "execution_count": 34,
   "metadata": {
    "collapsed": false,
    "jupyter": {
     "outputs_hidden": false
    }
   },
   "outputs": [
    {
     "data": {
      "image/png": "[encoded data removed]",
      "text/latex": [
       "$$\\log{\\left (x y \\right )}$$"
      ],
      "text/plain": [
       "log(x⋅y)"
      ]
     },
     "execution_count": 34,
     "metadata": {},
     "output_type": "execute_result"
    }
   ],
   "source": [
    "x, y = symbols('x y')\n",
    "log(x*y).expand()"
   ]
  },
  {
   "cell_type": "code",
   "execution_count": 35,
   "metadata": {
    "collapsed": false,
    "jupyter": {
     "outputs_hidden": false
    }
   },
   "outputs": [
    {
     "data": {
      "image/png": "[encoded data removed]",
      "text/latex": [
       "$$\\log{\\left (a \\right )} + \\log{\\left (b \\right )}$$"
      ],
      "text/plain": [
       "log(a) + log(b)"
      ]
     },
     "execution_count": 35,
     "metadata": {},
     "output_type": "execute_result"
    }
   ],
   "source": [
    "a, b = symbols('a b', positive=True)\n",
    "log(a*b).expand()"
   ]
  },
  {
   "cell_type": "markdown",
   "metadata": {},
   "source": [
    "### Polynomials"
   ]
  },
  {
   "cell_type": "markdown",
   "metadata": {},
   "source": [
    "Let's define a polynomial $P$ with roots at $x = 1$, $x = 2$, and $x = 3$:"
   ]
  },
  {
   "cell_type": "code",
   "execution_count": 36,
   "metadata": {
    "collapsed": false,
    "jupyter": {
     "outputs_hidden": false
    }
   },
   "outputs": [
    {
     "data": {
      "image/png": "[encoded data removed]",
      "text/latex": [
       "$$\\left(x - 3\\right) \\left(x - 2\\right) \\left(x - 1\\right)$$"
      ],
      "text/plain": [
       "(x - 3)⋅(x - 2)⋅(x - 1)"
      ]
     },
     "execution_count": 36,
     "metadata": {},
     "output_type": "execute_result"
    }
   ],
   "source": [
    "P = (x-1)*(x-2)*(x-3)\n",
    "P"
   ]
  },
  {
   "cell_type": "markdown",
   "metadata": {},
   "source": [
    "To see the expanded version of the polynomial, call its `expand` method:"
   ]
  },
  {
   "cell_type": "code",
   "execution_count": 37,
   "metadata": {
    "collapsed": false,
    "jupyter": {
     "outputs_hidden": false
    }
   },
   "outputs": [
    {
     "data": {
      "image/png": "[encoded data removed]",
      "text/latex": [
       "$$x^{3} - 6 x^{2} + 11 x - 6$$"
      ],
      "text/plain": [
       " 3      2           \n",
       "x  - 6⋅x  + 11⋅x - 6"
      ]
     },
     "execution_count": 37,
     "metadata": {},
     "output_type": "execute_result"
    }
   ],
   "source": [
    "P.expand()"
   ]
  },
  {
   "cell_type": "markdown",
   "metadata": {},
   "source": [
    "When the polynomial is expressed in it's expanded form $P(x) =\n",
    "x^3 - 6x^2 + 11x - 6$, we can't immediately identify its roots. This is\n",
    "why the factored form $P(x) = (x - 1)(x - 2)(x - 3)$ is preferable. To\n",
    "factor a polynomial, call its `factor` method or simplify it:"
   ]
  },
  {
   "cell_type": "code",
   "execution_count": 38,
   "metadata": {
    "collapsed": false,
    "jupyter": {
     "outputs_hidden": false
    }
   },
   "outputs": [
    {
     "data": {
      "image/png": "[encoded data removed]",
      "text/latex": [
       "$$\\left(x - 3\\right) \\left(x - 2\\right) \\left(x - 1\\right)$$"
      ],
      "text/plain": [
       "(x - 3)⋅(x - 2)⋅(x - 1)"
      ]
     },
     "execution_count": 38,
     "metadata": {},
     "output_type": "execute_result"
    }
   ],
   "source": [
    "P.factor()"
   ]
  },
  {
   "cell_type": "code",
   "execution_count": 39,
   "metadata": {
    "collapsed": false,
    "jupyter": {
     "outputs_hidden": false
    }
   },
   "outputs": [
    {
     "data": {
      "image/png": "[encoded data removed]",
      "text/latex": [
       "$$\\left(x - 3\\right) \\left(x - 2\\right) \\left(x - 1\\right)$$"
      ],
      "text/plain": [
       "(x - 3)⋅(x - 2)⋅(x - 1)"
      ]
     },
     "execution_count": 39,
     "metadata": {},
     "output_type": "execute_result"
    }
   ],
   "source": [
    "P.simplify()"
   ]
  },
  {
   "cell_type": "markdown",
   "metadata": {},
   "source": [
    "Recall that the roots of the polynomial $P(x)$ are defined as the\n",
    "solutions to the equation $P(x) = 0$. We can use the `solve` function\n",
    "to find the roots of the polynomial:"
   ]
  },
  {
   "cell_type": "code",
   "execution_count": 40,
   "metadata": {
    "collapsed": false,
    "jupyter": {
     "outputs_hidden": false
    }
   },
   "outputs": [
    {
     "data": {
      "image/png": "[encoded data removed]",
      "text/latex": [
       "$$\\left [ 1, \\quad 2, \\quad 3\\right ]$$"
      ],
      "text/plain": [
       "[1, 2, 3]"
      ]
     },
     "execution_count": 40,
     "metadata": {},
     "output_type": "execute_result"
    }
   ],
   "source": [
    "roots = solve(P,x)\n",
    "roots"
   ]
  },
  {
   "cell_type": "code",
   "execution_count": 41,
   "metadata": {
    "collapsed": false,
    "jupyter": {
     "outputs_hidden": false
    }
   },
   "outputs": [
    {
     "data": {
      "image/png": "[encoded data removed]",
      "text/latex": [
       "$$0$$"
      ],
      "text/plain": [
       "0"
      ]
     },
     "execution_count": 41,
     "metadata": {},
     "output_type": "execute_result"
    }
   ],
   "source": [
    "# let's check if P equals (x-1)(x-2)(x-3)\n",
    "simplify( P - (x-roots[0])*(x-roots[1])*(x-roots[2]) )"
   ]
  },
  {
   "cell_type": "markdown",
   "metadata": {},
   "source": [
    "### Equality checking"
   ]
  },
  {
   "cell_type": "markdown",
   "metadata": {},
   "source": [
    "In the last example, we used the `simplify` function to check whether\n",
    "two expressions were equal. This way of checking equality works\n",
    "because $P = Q$ if and only if $P - Q = 0$. This is the best way to\n",
    "check if two expressions are equal in `SymPy` because it attempts all\n",
    "possible simplifications when comparing the expressions. Below is\n",
    "a list of other ways to check whether two quantities are equal with\n",
    "example cases where they fail:"
   ]
  },
  {
   "cell_type": "code",
   "execution_count": 42,
   "metadata": {
    "collapsed": false,
    "jupyter": {
     "outputs_hidden": false
    }
   },
   "outputs": [],
   "source": [
    "p = (x-5)*(x+5)\n",
    "q = x**2 - 25"
   ]
  },
  {
   "cell_type": "code",
   "execution_count": 43,
   "metadata": {
    "collapsed": false,
    "jupyter": {
     "outputs_hidden": false
    }
   },
   "outputs": [
    {
     "data": {
      "text/plain": [
       "False"
      ]
     },
     "execution_count": 43,
     "metadata": {},
     "output_type": "execute_result"
    }
   ],
   "source": [
    "p == q                      # fail"
   ]
  },
  {
   "cell_type": "code",
   "execution_count": 44,
   "metadata": {
    "collapsed": false,
    "jupyter": {
     "outputs_hidden": false
    }
   },
   "outputs": [
    {
     "data": {
      "text/plain": [
       "False"
      ]
     },
     "execution_count": 44,
     "metadata": {},
     "output_type": "execute_result"
    }
   ],
   "source": [
    "p - q == 0                  # fail"
   ]
  },
  {
   "cell_type": "code",
   "execution_count": 45,
   "metadata": {
    "collapsed": false,
    "jupyter": {
     "outputs_hidden": false
    }
   },
   "outputs": [
    {
     "data": {
      "text/plain": [
       "True"
      ]
     },
     "execution_count": 45,
     "metadata": {},
     "output_type": "execute_result"
    }
   ],
   "source": [
    "simplify(p - q) == 0"
   ]
  },
  {
   "cell_type": "code",
   "execution_count": 46,
   "metadata": {
    "collapsed": false,
    "jupyter": {
     "outputs_hidden": false
    }
   },
   "outputs": [
    {
     "data": {
      "text/plain": [
       "False"
      ]
     },
     "execution_count": 46,
     "metadata": {},
     "output_type": "execute_result"
    }
   ],
   "source": [
    "sin(x)**2 + cos(x)**2 == 1  # fail"
   ]
  },
  {
   "cell_type": "code",
   "execution_count": 47,
   "metadata": {
    "collapsed": false,
    "jupyter": {
     "outputs_hidden": false
    }
   },
   "outputs": [
    {
     "data": {
      "text/plain": [
       "True"
      ]
     },
     "execution_count": 47,
     "metadata": {},
     "output_type": "execute_result"
    }
   ],
   "source": [
    "simplify( sin(x)**2 + cos(x)**2 - 1) == 0"
   ]
  },
  {
   "cell_type": "markdown",
   "metadata": {},
   "source": [
    "### Trigonometry"
   ]
  },
  {
   "cell_type": "markdown",
   "metadata": {},
   "source": [
    "The trigonometric functions `sin` and `cos` take inputs in radians:"
   ]
  },
  {
   "cell_type": "code",
   "execution_count": 48,
   "metadata": {
    "collapsed": false,
    "jupyter": {
     "outputs_hidden": false
    }
   },
   "outputs": [
    {
     "data": {
      "image/png": "[encoded data removed]",
      "text/latex": [
       "$$\\frac{1}{2}$$"
      ],
      "text/plain": [
       "1/2"
      ]
     },
     "execution_count": 48,
     "metadata": {},
     "output_type": "execute_result"
    }
   ],
   "source": [
    "sin(pi/6)"
   ]
  },
  {
   "cell_type": "code",
   "execution_count": 49,
   "metadata": {
    "collapsed": false,
    "jupyter": {
     "outputs_hidden": false
    }
   },
   "outputs": [
    {
     "data": {
      "image/png": "[encoded data removed]",
      "text/latex": [
       "$$\\frac{\\sqrt{3}}{2}$$"
      ],
      "text/plain": [
       "  ___\n",
       "╲╱ 3 \n",
       "─────\n",
       "  2  "
      ]
     },
     "execution_count": 49,
     "metadata": {},
     "output_type": "execute_result"
    }
   ],
   "source": [
    "cos(pi/6)"
   ]
  },
  {
   "cell_type": "markdown",
   "metadata": {},
   "source": [
    "For angles in degrees, you need a conversion factor of $\\frac{\\pi}{180}$[rad/$^\\circ$]:"
   ]
  },
  {
   "cell_type": "code",
   "execution_count": 50,
   "metadata": {
    "collapsed": false,
    "jupyter": {
     "outputs_hidden": false
    }
   },
   "outputs": [
    {
     "data": {
      "image/png": "[encoded data removed]",
      "text/latex": [
       "$$\\frac{1}{2}$$"
      ],
      "text/plain": [
       "1/2"
      ]
     },
     "execution_count": 50,
     "metadata": {},
     "output_type": "execute_result"
    }
   ],
   "source": [
    "sin(30*pi/180)  # 30 deg = pi/6 rads"
   ]
  },
  {
   "cell_type": "markdown",
   "metadata": {},
   "source": [
    "The inverse trigonometric functions $\\sin^{-1}(x) \\equiv \\arcsin(x)$ and\n",
    "$\\cos^{-1}(x) \\equiv \\arccos(x)$ are used as follows:"
   ]
  },
  {
   "cell_type": "code",
   "execution_count": 51,
   "metadata": {
    "collapsed": false,
    "jupyter": {
     "outputs_hidden": false
    }
   },
   "outputs": [
    {
     "data": {
      "image/png": "[encoded data removed]",
      "text/latex": [
       "$$0.523598775598299$$"
      ],
      "text/plain": [
       "0.523598775598299"
      ]
     },
     "execution_count": 51,
     "metadata": {},
     "output_type": "execute_result"
    }
   ],
   "source": [
    "asin(1/2)"
   ]
  },
  {
   "cell_type": "code",
   "execution_count": 52,
   "metadata": {
    "collapsed": false,
    "jupyter": {
     "outputs_hidden": false
    }
   },
   "outputs": [
    {
     "data": {
      "image/png": "[encoded data removed]",
      "text/latex": [
       "$$\\frac{\\pi}{6}$$"
      ],
      "text/plain": [
       "π\n",
       "─\n",
       "6"
      ]
     },
     "execution_count": 52,
     "metadata": {},
     "output_type": "execute_result"
    }
   ],
   "source": [
    "acos(sqrt(3)/2)"
   ]
  },
  {
   "cell_type": "markdown",
   "metadata": {},
   "source": [
    "Recall that $\\tan(x) \\equiv \\frac{\\sin(x)}{\\cos(x)}$. The inverse function of $\\tan(x)$ is $\\tan^{-1}(x) \\equiv \\arctan(x) \\equiv$ `atan(x)`"
   ]
  },
  {
   "cell_type": "code",
   "execution_count": 53,
   "metadata": {
    "collapsed": false,
    "jupyter": {
     "outputs_hidden": false
    }
   },
   "outputs": [
    {
     "data": {
      "image/png": "[encoded data removed]",
      "text/latex": [
       "$$\\frac{\\sqrt{3}}{3}$$"
      ],
      "text/plain": [
       "  ___\n",
       "╲╱ 3 \n",
       "─────\n",
       "  3  "
      ]
     },
     "execution_count": 53,
     "metadata": {},
     "output_type": "execute_result"
    }
   ],
   "source": [
    "tan(pi/6)"
   ]
  },
  {
   "cell_type": "code",
   "execution_count": 54,
   "metadata": {
    "collapsed": false,
    "jupyter": {
     "outputs_hidden": false
    }
   },
   "outputs": [
    {
     "data": {
      "image/png": "[encoded data removed]",
      "text/latex": [
       "$$\\frac{\\pi}{6}$$"
      ],
      "text/plain": [
       "π\n",
       "─\n",
       "6"
      ]
     },
     "execution_count": 54,
     "metadata": {},
     "output_type": "execute_result"
    }
   ],
   "source": [
    "atan( 1/sqrt(3) )"
   ]
  },
  {
   "cell_type": "markdown",
   "metadata": {},
   "source": [
    "The function `acos` returns angles in the range $[0, \\pi]$, while `asin` and\n",
    "`atan` return angles in the range $[-\\frac{\\pi}{2},\\frac{\\pi}{2}]$.\n",
    "\n",
    "Here are some trigonometric identities that `SymPy` knows:"
   ]
  },
  {
   "cell_type": "code",
   "execution_count": 55,
   "metadata": {
    "collapsed": false,
    "jupyter": {
     "outputs_hidden": false
    }
   },
   "outputs": [
    {
     "data": {
      "text/plain": [
       "True"
      ]
     },
     "execution_count": 55,
     "metadata": {},
     "output_type": "execute_result"
    }
   ],
   "source": [
    "sin(x) == cos(x - pi/2)"
   ]
  },
  {
   "cell_type": "code",
   "execution_count": 56,
   "metadata": {
    "collapsed": false,
    "jupyter": {
     "outputs_hidden": false
    }
   },
   "outputs": [
    {
     "data": {
      "image/png": "[encoded data removed]",
      "text/latex": [
       "$$\\sin{\\left (x + y \\right )}$$"
      ],
      "text/plain": [
       "sin(x + y)"
      ]
     },
     "execution_count": 56,
     "metadata": {},
     "output_type": "execute_result"
    }
   ],
   "source": [
    "simplify( sin(x)*cos(y)+cos(x)*sin(y) )"
   ]
  },
  {
   "cell_type": "code",
   "execution_count": 57,
   "metadata": {
    "collapsed": false,
    "jupyter": {
     "outputs_hidden": false
    }
   },
   "outputs": [
    {
     "data": {
      "image/png": "[encoded data removed]",
      "text/latex": [
       "$$2$$"
      ],
      "text/plain": [
       "2"
      ]
     },
     "execution_count": 57,
     "metadata": {},
     "output_type": "execute_result"
    }
   ],
   "source": [
    "e = 2*sin(x)**2 + 2*cos(x)**2\n",
    "trigsimp(e)"
   ]
  },
  {
   "cell_type": "code",
   "execution_count": 58,
   "metadata": {
    "collapsed": false,
    "jupyter": {
     "outputs_hidden": false
    }
   },
   "outputs": [
    {
     "data": {
      "image/png": "[encoded data removed]",
      "text/latex": [
       "$$\\log{\\left (2 \\right )}$$"
      ],
      "text/plain": [
       "log(2)"
      ]
     },
     "execution_count": 58,
     "metadata": {},
     "output_type": "execute_result"
    }
   ],
   "source": [
    "trigsimp(log(e))"
   ]
  },
  {
   "cell_type": "code",
   "execution_count": 59,
   "metadata": {
    "collapsed": false,
    "jupyter": {
     "outputs_hidden": false
    }
   },
   "outputs": [
    {
     "data": {
      "image/png": "[encoded data removed]",
      "text/latex": [
       "$$\\log{\\left (2 \\right )}$$"
      ],
      "text/plain": [
       "log(2)"
      ]
     },
     "execution_count": 59,
     "metadata": {},
     "output_type": "execute_result"
    }
   ],
   "source": [
    "trigsimp(log(e), deep=True)"
   ]
  },
  {
   "cell_type": "code",
   "execution_count": 60,
   "metadata": {
    "collapsed": false,
    "jupyter": {
     "outputs_hidden": false
    }
   },
   "outputs": [
    {
     "data": {
      "image/png": "[encoded data removed]",
      "text/latex": [
       "$$\\frac{1}{2} \\cos{\\left (4 x \\right )} + \\frac{1}{2}$$"
      ],
      "text/plain": [
       "cos(4⋅x)   1\n",
       "──────── + ─\n",
       "   2       2"
      ]
     },
     "execution_count": 60,
     "metadata": {},
     "output_type": "execute_result"
    }
   ],
   "source": [
    "simplify(sin(x)**4 - 2*cos(x)**2*sin(x)**2 + cos(x)**4)"
   ]
  },
  {
   "cell_type": "markdown",
   "metadata": {},
   "source": [
    "The function `trigsimp` does essentially the same job as `simplify`.\n",
    "\n",
    "If instead of simplifying you want to expand a trig expression, you\n",
    "should use `expand_trig`, because the default `expand` won't touch trig\n",
    "functions:"
   ]
  },
  {
   "cell_type": "code",
   "execution_count": 61,
   "metadata": {
    "collapsed": false,
    "jupyter": {
     "outputs_hidden": false
    }
   },
   "outputs": [
    {
     "data": {
      "image/png": "[encoded data removed]",
      "text/latex": [
       "$$\\sin{\\left (2 x \\right )}$$"
      ],
      "text/plain": [
       "sin(2⋅x)"
      ]
     },
     "execution_count": 61,
     "metadata": {},
     "output_type": "execute_result"
    }
   ],
   "source": [
    "expand(sin(2*x))       # = (sin(2*x)).expand()"
   ]
  },
  {
   "cell_type": "code",
   "execution_count": 62,
   "metadata": {
    "collapsed": false,
    "jupyter": {
     "outputs_hidden": false
    }
   },
   "outputs": [
    {
     "data": {
      "image/png": "[encoded data removed]",
      "text/latex": [
       "$$2 \\sin{\\left (x \\right )} \\cos{\\left (x \\right )}$$"
      ],
      "text/plain": [
       "2⋅sin(x)⋅cos(x)"
      ]
     },
     "execution_count": 62,
     "metadata": {},
     "output_type": "execute_result"
    }
   ],
   "source": [
    "expand_trig(sin(2*x))  # = (sin(2*x)).expand(trig=True)"
   ]
  },
  {
   "cell_type": "markdown",
   "metadata": {},
   "source": [
    "### Hyperbolic trigonometric functions"
   ]
  },
  {
   "cell_type": "markdown",
   "metadata": {},
   "source": [
    "The hyperbolic sine and cosine in `SymPy` are denoted `sinh` and `cosh`\n",
    "respectively and `SymPy` is smart enough to recognize them when\n",
    "simplifying expressions:"
   ]
  },
  {
   "cell_type": "code",
   "execution_count": 63,
   "metadata": {
    "collapsed": false,
    "jupyter": {
     "outputs_hidden": false
    }
   },
   "outputs": [
    {
     "data": {
      "image/png": "[encoded data removed]",
      "text/latex": [
       "$$\\cosh{\\left (x \\right )}$$"
      ],
      "text/plain": [
       "cosh(x)"
      ]
     },
     "execution_count": 63,
     "metadata": {},
     "output_type": "execute_result"
    }
   ],
   "source": [
    "simplify( (exp(x)+exp(-x))/2 )"
   ]
  },
  {
   "cell_type": "code",
   "execution_count": 64,
   "metadata": {
    "collapsed": false,
    "jupyter": {
     "outputs_hidden": false
    }
   },
   "outputs": [
    {
     "data": {
      "image/png": "[encoded data removed]",
      "text/latex": [
       "$$\\sinh{\\left (x \\right )}$$"
      ],
      "text/plain": [
       "sinh(x)"
      ]
     },
     "execution_count": 64,
     "metadata": {},
     "output_type": "execute_result"
    }
   ],
   "source": [
    "simplify( (exp(x)-exp(-x))/2 )"
   ]
  },
  {
   "cell_type": "markdown",
   "metadata": {},
   "source": [
    "Recall that $x = \\cosh(\\mu)$ and $y = \\sinh(\\mu)$ are defined as $x$ and $y$\n",
    "coordinates of a point on the the hyperbola with equation $x^2 - y^2 = 1$\n",
    "and therefore satisfy the identity $\\cosh^2 x - \\sinh^2 x = 1$:"
   ]
  },
  {
   "cell_type": "code",
   "execution_count": 65,
   "metadata": {
    "collapsed": false,
    "jupyter": {
     "outputs_hidden": false
    }
   },
   "outputs": [
    {
     "data": {
      "image/png": "[encoded data removed]",
      "text/latex": [
       "$$1$$"
      ],
      "text/plain": [
       "1"
      ]
     },
     "execution_count": 65,
     "metadata": {},
     "output_type": "execute_result"
    }
   ],
   "source": [
    "simplify( cosh(x)**2 - sinh(x)**2 )"
   ]
  },
  {
   "cell_type": "markdown",
   "metadata": {},
   "source": [
    "## Complex numbers"
   ]
  },
  {
   "cell_type": "markdown",
   "metadata": {},
   "source": [
    "Ever since Newton, the word &ldquo;number&rdquo; has been used to refer to one\n",
    "of the following types of math objects: the naturals $\\mathbb{N}$, the integers\n",
    "$\\mathbb{Z}$, the rationals $\\mathbb{Q}$, and the real numbers $\\mathbb{R}$. Each set of numbers is\n",
    "associated with a different class of equations. The natural numbers\n",
    "$\\mathbb{N}$ appear as solutions of the equation $m + n = x$, where $m$ and $n$ are\n",
    "natural numbers (denoted $m, n \\in \\mathbb{N}$). The integers $\\mathbb{Z}$ are the solutions\n",
    "to equations of the form $x + m = n$, where $m, n \\in \\mathbb{N}$. The rational\n",
    "numbers $\\mathbb{Q}$ are necessary to solve for $x$ in $mx = n$, with $m, n \\in \\mathbb{Z}$.\n",
    "The solutions to $x^2 = 2$ are irrational (so $\\not\\in \\mathbb{Q}$) so we need an even\n",
    "larger set that contains *all* possible numbers: real set of numbers $\\mathbb{R}$.\n",
    "A pattern emerges where more complicated equations require the\n",
    "invention of new types of numbers.\n",
    "\n",
    "Consider the quadratic equation $x^2 = -1$. There are no real solutions\n",
    "to this equation, but we can define an imaginary number $i = \\sqrt{-1}$\n",
    "(denoted `I` in `SymPy`) that satisfies this equation:"
   ]
  },
  {
   "cell_type": "code",
   "execution_count": 66,
   "metadata": {
    "collapsed": false,
    "jupyter": {
     "outputs_hidden": false
    }
   },
   "outputs": [
    {
     "data": {
      "image/png": "[encoded data removed]",
      "text/latex": [
       "$$-1$$"
      ],
      "text/plain": [
       "-1"
      ]
     },
     "execution_count": 66,
     "metadata": {},
     "output_type": "execute_result"
    }
   ],
   "source": [
    "I*I"
   ]
  },
  {
   "cell_type": "code",
   "execution_count": 67,
   "metadata": {
    "collapsed": false,
    "jupyter": {
     "outputs_hidden": false
    }
   },
   "outputs": [
    {
     "data": {
      "image/png": "[encoded data removed]",
      "text/latex": [
       "$$\\left [ - i, \\quad i\\right ]$$"
      ],
      "text/plain": [
       "[-ⅈ, ⅈ]"
      ]
     },
     "execution_count": 67,
     "metadata": {},
     "output_type": "execute_result"
    }
   ],
   "source": [
    "solve( x**2 + 1 , x)"
   ]
  },
  {
   "cell_type": "markdown",
   "metadata": {},
   "source": [
    "The solutions are $x = i$ and $x = -i$, and indeed we can verify that\n",
    "$i^2 + 1 = 0$ and $(-i)^2 + 1 = 0$ since $i^2 = -1$.\n",
    "\n",
    "The complex numbers $\\mathbb{C}$ are defined as $\\{ a+bi \\,|\\, a,b \\in \\mathbb{R} \\}$. Complex numbers\n",
    "contain a real part and an imaginary part:"
   ]
  },
  {
   "cell_type": "code",
   "execution_count": 68,
   "metadata": {
    "collapsed": false,
    "jupyter": {
     "outputs_hidden": false
    }
   },
   "outputs": [
    {
     "data": {
      "image/png": "[encoded data removed]",
      "text/latex": [
       "$$4 + 3 i$$"
      ],
      "text/plain": [
       "4 + 3⋅ⅈ"
      ]
     },
     "execution_count": 68,
     "metadata": {},
     "output_type": "execute_result"
    }
   ],
   "source": [
    "z = 4 + 3*I\n",
    "z"
   ]
  },
  {
   "cell_type": "code",
   "execution_count": 69,
   "metadata": {
    "collapsed": false,
    "jupyter": {
     "outputs_hidden": false
    }
   },
   "outputs": [
    {
     "data": {
      "image/png": "[encoded data removed]",
      "text/latex": [
       "$$4$$"
      ],
      "text/plain": [
       "4"
      ]
     },
     "execution_count": 69,
     "metadata": {},
     "output_type": "execute_result"
    }
   ],
   "source": [
    "re(z)"
   ]
  },
  {
   "cell_type": "code",
   "execution_count": 70,
   "metadata": {
    "collapsed": false,
    "jupyter": {
     "outputs_hidden": false
    }
   },
   "outputs": [
    {
     "data": {
      "image/png": "[encoded data removed]",
      "text/latex": [
       "$$3$$"
      ],
      "text/plain": [
       "3"
      ]
     },
     "execution_count": 70,
     "metadata": {},
     "output_type": "execute_result"
    }
   ],
   "source": [
    "im(z)"
   ]
  },
  {
   "cell_type": "markdown",
   "metadata": {},
   "source": [
    "The *polar* representation of a complex number is $z\\!\\equiv\\!|z|\\angle\\theta\\!\\equiv \\!|z|e^{i\\theta}$.\n",
    "For a complex number $z=a+bi$, \n",
    "the quantity $|z|=\\sqrt{a^2+b^2}$ is known as the absolute value of $z$,\n",
    "and $\\theta$ is its *phase* or its *argument*:"
   ]
  },
  {
   "cell_type": "code",
   "execution_count": 71,
   "metadata": {
    "collapsed": false,
    "jupyter": {
     "outputs_hidden": false
    }
   },
   "outputs": [
    {
     "data": {
      "image/png": "[encoded data removed]",
      "text/latex": [
       "$$5$$"
      ],
      "text/plain": [
       "5"
      ]
     },
     "execution_count": 71,
     "metadata": {},
     "output_type": "execute_result"
    }
   ],
   "source": [
    "Abs(z)"
   ]
  },
  {
   "cell_type": "code",
   "execution_count": 72,
   "metadata": {
    "collapsed": false,
    "jupyter": {
     "outputs_hidden": false
    }
   },
   "outputs": [
    {
     "data": {
      "image/png": "[encoded data removed]",
      "text/latex": [
       "$$\\operatorname{atan}{\\left (\\frac{3}{4} \\right )}$$"
      ],
      "text/plain": [
       "atan(3/4)"
      ]
     },
     "execution_count": 72,
     "metadata": {},
     "output_type": "execute_result"
    }
   ],
   "source": [
    "arg(z)"
   ]
  },
  {
   "cell_type": "markdown",
   "metadata": {},
   "source": [
    "The complex conjugate of $z = a + bi$ is the number $\\bar{z} = a - bi$:"
   ]
  },
  {
   "cell_type": "code",
   "execution_count": 73,
   "metadata": {
    "collapsed": false,
    "jupyter": {
     "outputs_hidden": false
    }
   },
   "outputs": [
    {
     "data": {
      "image/png": "[encoded data removed]",
      "text/latex": [
       "$$4 - 3 i$$"
      ],
      "text/plain": [
       "4 - 3⋅ⅈ"
      ]
     },
     "execution_count": 73,
     "metadata": {},
     "output_type": "execute_result"
    }
   ],
   "source": [
    "conjugate( z )"
   ]
  },
  {
   "cell_type": "markdown",
   "metadata": {},
   "source": [
    "Complex conjugation is important for computing the absolute value\n",
    "of $z$ $\\left(|z|\\equiv\\sqrt{z\\bar{z}}\\right)$ and for division by $z$ $\\left(\\frac{1}{z}\\equiv\\frac{\\bar{z}}{|z|^2}\\right)$."
   ]
  },
  {
   "cell_type": "markdown",
   "metadata": {},
   "source": [
    "### Euler's formula"
   ]
  },
  {
   "cell_type": "markdown",
   "metadata": {},
   "source": [
    "[Euler's formula](https://en.wikipedia.org/wiki/Euler's_formula) shows an important relation between the exponential\n",
    "function $e^x$ and the trigonometric functions $sin(x)$ and $cos(x)$:\n",
    "\n",
    "$$e^{ix} = \\cos x + i \\sin x.$$\n",
    "\n",
    "To obtain this result in `SymPy`, you must specify that the number $x$ is\n",
    "real and also tell `expand` that you're interested in complex expansions:"
   ]
  },
  {
   "cell_type": "code",
   "execution_count": 74,
   "metadata": {
    "collapsed": false,
    "jupyter": {
     "outputs_hidden": false
    }
   },
   "outputs": [
    {
     "data": {
      "image/png": "[encoded data removed]",
      "text/latex": [
       "$$i \\sin{\\left (x \\right )} + \\cos{\\left (x \\right )}$$"
      ],
      "text/plain": [
       "ⅈ⋅sin(x) + cos(x)"
      ]
     },
     "execution_count": 74,
     "metadata": {},
     "output_type": "execute_result"
    }
   ],
   "source": [
    "x = symbols('x', real=True)\n",
    "exp(I*x).expand(complex=True)"
   ]
  },
  {
   "cell_type": "code",
   "execution_count": 75,
   "metadata": {
    "collapsed": false,
    "jupyter": {
     "outputs_hidden": false
    }
   },
   "outputs": [
    {
     "data": {
      "image/png": "[encoded data removed]",
      "text/latex": [
       "$$\\cos{\\left (x \\right )}$$"
      ],
      "text/plain": [
       "cos(x)"
      ]
     },
     "execution_count": 75,
     "metadata": {},
     "output_type": "execute_result"
    }
   ],
   "source": [
    "re( exp(I*x) )"
   ]
  },
  {
   "cell_type": "code",
   "execution_count": 76,
   "metadata": {
    "collapsed": false,
    "jupyter": {
     "outputs_hidden": false
    }
   },
   "outputs": [
    {
     "data": {
      "image/png": "[encoded data removed]",
      "text/latex": [
       "$$\\sin{\\left (x \\right )}$$"
      ],
      "text/plain": [
       "sin(x)"
      ]
     },
     "execution_count": 76,
     "metadata": {},
     "output_type": "execute_result"
    }
   ],
   "source": [
    "im( exp(I*x) )"
   ]
  },
  {
   "cell_type": "markdown",
   "metadata": {},
   "source": [
    "Basically, $\\cos(x)$ is the real part of $e^{ix}$, and $\\sin(x)$ is the imaginary\n",
    "part of $e^{ix}$. Whaaat? I know it's weird, but weird things are bound\n",
    "to happen when you input imaginary numbers to functions.\n",
    "\n",
    "Euler's formula is often used to rewrite the functions `sin` and `cos` in\n",
    "terms of complex exponentials. For example,"
   ]
  },
  {
   "cell_type": "code",
   "execution_count": 77,
   "metadata": {
    "collapsed": false,
    "jupyter": {
     "outputs_hidden": false
    }
   },
   "outputs": [
    {
     "data": {
      "image/png": "[encoded data removed]",
      "text/latex": [
       "$$\\frac{e^{i x}}{2} + \\frac{1}{2} e^{- i x}$$"
      ],
      "text/plain": [
       " ⅈ⋅x    -ⅈ⋅x\n",
       "ℯ      ℯ    \n",
       "──── + ─────\n",
       " 2       2  "
      ]
     },
     "execution_count": 77,
     "metadata": {},
     "output_type": "execute_result"
    }
   ],
   "source": [
    "(cos(x)).rewrite(exp)"
   ]
  },
  {
   "cell_type": "markdown",
   "metadata": {},
   "source": [
    "Compare this expression with the definition of hyperbolic cosine."
   ]
  },
  {
   "cell_type": "markdown",
   "metadata": {},
   "source": [
    "## Calculus"
   ]
  },
  {
   "cell_type": "markdown",
   "metadata": {},
   "source": [
    "Calculus is the study of the properties of functions. The operations of\n",
    "calculus are used to describe the limit behaviour of functions, calculate\n",
    "their rates of change, and calculate the areas under their graphs. In\n",
    "this section we'll learn about the `SymPy` functions for calculating\n",
    "limits, derivatives, integrals, and summations."
   ]
  },
  {
   "cell_type": "markdown",
   "metadata": {},
   "source": [
    "### Infinity"
   ]
  },
  {
   "cell_type": "markdown",
   "metadata": {},
   "source": [
    "The infinity symbol is denoted `oo` (two lowercase `o`s) in `SymPy`. Infinity\n",
    "is not a number but a process: the process of counting forever. Thus,\n",
    "$\\infty + 1 = \\infty$, $\\infty$ is greater than any finite number, and $1/\\infty$ is an\n",
    "infinitely small number. `Sympy` knows how to correctly treat infinity\n",
    "in expressions:"
   ]
  },
  {
   "cell_type": "code",
   "execution_count": 78,
   "metadata": {
    "collapsed": false,
    "jupyter": {
     "outputs_hidden": false
    }
   },
   "outputs": [
    {
     "data": {
      "image/png": "[encoded data removed]",
      "text/latex": [
       "$$\\infty$$"
      ],
      "text/plain": [
       "∞"
      ]
     },
     "execution_count": 78,
     "metadata": {},
     "output_type": "execute_result"
    }
   ],
   "source": [
    "oo+1"
   ]
  },
  {
   "cell_type": "code",
   "execution_count": 79,
   "metadata": {
    "collapsed": false,
    "jupyter": {
     "outputs_hidden": false
    }
   },
   "outputs": [
    {
     "data": {
      "image/png": "[encoded data removed]",
      "text/latex": [
       "$$\\mathrm{True}$$"
      ],
      "text/plain": [
       "True"
      ]
     },
     "execution_count": 79,
     "metadata": {},
     "output_type": "execute_result"
    }
   ],
   "source": [
    "5000 < oo"
   ]
  },
  {
   "cell_type": "code",
   "execution_count": 80,
   "metadata": {
    "collapsed": false,
    "jupyter": {
     "outputs_hidden": false
    }
   },
   "outputs": [
    {
     "data": {
      "image/png": "[encoded data removed]",
      "text/latex": [
       "$$0$$"
      ],
      "text/plain": [
       "0"
      ]
     },
     "execution_count": 80,
     "metadata": {},
     "output_type": "execute_result"
    }
   ],
   "source": [
    "1/oo"
   ]
  },
  {
   "cell_type": "markdown",
   "metadata": {},
   "source": [
    "### Limits"
   ]
  },
  {
   "cell_type": "markdown",
   "metadata": {},
   "source": [
    "We use limits to describe, with mathematical precision, infinitely large\n",
    "quantities, infinitely small quantities, and procedures with infinitely\n",
    "many steps.\n",
    "\n",
    "The number $e$ is defined as the limit $e \\equiv \\lim_{n\\to\\infty}\\left(1+\\frac{1}{n}\\right)^n$:"
   ]
  },
  {
   "cell_type": "code",
   "execution_count": 81,
   "metadata": {
    "collapsed": false,
    "jupyter": {
     "outputs_hidden": false
    }
   },
   "outputs": [
    {
     "data": {
      "image/png": "[encoded data removed]",
      "text/latex": [
       "$$e$$"
      ],
      "text/plain": [
       "ℯ"
      ]
     },
     "execution_count": 81,
     "metadata": {},
     "output_type": "execute_result"
    }
   ],
   "source": [
    "limit( (1+1/n)**n, n, oo)"
   ]
  },
  {
   "cell_type": "markdown",
   "metadata": {},
   "source": [
    "This limit expression describes the annual growth rate of a loan with\n",
    "a nominal interest rate of 100% and infinitely frequent compounding.\n",
    "Borrow \\$1000 in such a scheme, and you'll owe $2718.28 after one year.\n",
    "\n",
    "Limits are also useful to describe the behaviour of functions. Consider\n",
    "the function $f(x) = \\frac{1}{x}$. The `limit` command shows us what happens\n",
    "to $f(x)$ near $x = 0$ and as $x$ goes to infinity:"
   ]
  },
  {
   "cell_type": "code",
   "execution_count": 82,
   "metadata": {
    "collapsed": false,
    "jupyter": {
     "outputs_hidden": false
    }
   },
   "outputs": [
    {
     "data": {
      "image/png": "[encoded data removed]",
      "text/latex": [
       "$$\\infty$$"
      ],
      "text/plain": [
       "∞"
      ]
     },
     "execution_count": 82,
     "metadata": {},
     "output_type": "execute_result"
    }
   ],
   "source": [
    "limit( 1/x, x, 0, dir=\"+\")"
   ]
  },
  {
   "cell_type": "code",
   "execution_count": 83,
   "metadata": {
    "collapsed": false,
    "jupyter": {
     "outputs_hidden": false
    }
   },
   "outputs": [
    {
     "data": {
      "image/png": "[encoded data removed]",
      "text/latex": [
       "$$-\\infty$$"
      ],
      "text/plain": [
       "-∞"
      ]
     },
     "execution_count": 83,
     "metadata": {},
     "output_type": "execute_result"
    }
   ],
   "source": [
    "limit( 1/x, x, 0, dir=\"-\")"
   ]
  },
  {
   "cell_type": "code",
   "execution_count": 84,
   "metadata": {
    "collapsed": false,
    "jupyter": {
     "outputs_hidden": false
    }
   },
   "outputs": [
    {
     "data": {
      "image/png": "[encoded data removed]",
      "text/latex": [
       "$$0$$"
      ],
      "text/plain": [
       "0"
      ]
     },
     "execution_count": 84,
     "metadata": {},
     "output_type": "execute_result"
    }
   ],
   "source": [
    "limit( 1/x, x, oo)"
   ]
  },
  {
   "cell_type": "markdown",
   "metadata": {},
   "source": [
    "As $x$ becomes larger and larger, the fraction $\\frac{1}{x}$ becomes smaller\n",
    "and smaller. In the limit where $x$ goes to infinity, $\\frac{1}{x}$ approaches\n",
    "zero: $\\lim_{x\\to\\infty}\\frac{1}{x} = 0$. On the other hand, when $x$ takes on smaller\n",
    "and smaller positive values, the expression $\\frac{1}{x}$ becomes infinite:\n",
    "$\\lim_{x\\to0^+}\\frac{1}{x} = \\infty$. When $x$ approaches 0 from the left, we have\n",
    "$\\lim_{x\\to0^-}\\frac{1}{x}=-\\infty$. If these calculations are not clear to you, study\n",
    "the graph of $f(x) = \\frac{1}{x}$.\n",
    "\n",
    "Here are some other examples of limits:"
   ]
  },
  {
   "cell_type": "code",
   "execution_count": 85,
   "metadata": {
    "collapsed": false,
    "jupyter": {
     "outputs_hidden": false
    }
   },
   "outputs": [
    {
     "data": {
      "image/png": "[encoded data removed]",
      "text/latex": [
       "$$1$$"
      ],
      "text/plain": [
       "1"
      ]
     },
     "execution_count": 85,
     "metadata": {},
     "output_type": "execute_result"
    }
   ],
   "source": [
    "limit(sin(x)/x, x, 0)"
   ]
  },
  {
   "cell_type": "code",
   "execution_count": 86,
   "metadata": {
    "collapsed": false,
    "jupyter": {
     "outputs_hidden": false
    }
   },
   "outputs": [
    {
     "data": {
      "image/png": "[encoded data removed]",
      "text/latex": [
       "$$0$$"
      ],
      "text/plain": [
       "0"
      ]
     },
     "execution_count": 86,
     "metadata": {},
     "output_type": "execute_result"
    }
   ],
   "source": [
    "limit(sin(x)**2/x, x, 0)"
   ]
  },
  {
   "cell_type": "code",
   "execution_count": 87,
   "metadata": {
    "collapsed": false,
    "jupyter": {
     "outputs_hidden": false
    }
   },
   "outputs": [
    {
     "data": {
      "image/png": "[encoded data removed]",
      "text/latex": [
       "$$\\infty$$"
      ],
      "text/plain": [
       "∞"
      ]
     },
     "execution_count": 87,
     "metadata": {},
     "output_type": "execute_result"
    }
   ],
   "source": [
    "limit(exp(x)/x**100,x,oo)  # which is bigger e^x or x^100 ?\n",
    "                           # exp f >> all poly f for big x"
   ]
  },
  {
   "cell_type": "markdown",
   "metadata": {},
   "source": [
    "Limits are used to define the derivative and the integral operations."
   ]
  },
  {
   "cell_type": "markdown",
   "metadata": {},
   "source": [
    "### Derivatives"
   ]
  },
  {
   "cell_type": "markdown",
   "metadata": {},
   "source": [
    "The derivative function, denoted $f'(x)$, $\\frac{d}{dx}f(x)$, $\\frac{df}{dx}$, or $\\frac{dy}{dx}$, \n",
    "describes the *rate of change* of the function $f(x)$.\n",
    "The `SymPy` function `diff` computes the derivative of any expression:"
   ]
  },
  {
   "cell_type": "code",
   "execution_count": 88,
   "metadata": {
    "collapsed": false,
    "jupyter": {
     "outputs_hidden": false
    }
   },
   "outputs": [
    {
     "data": {
      "image/png": "[encoded data removed]",
      "text/latex": [
       "$$3 x^{2}$$"
      ],
      "text/plain": [
       "   2\n",
       "3⋅x "
      ]
     },
     "execution_count": 88,
     "metadata": {},
     "output_type": "execute_result"
    }
   ],
   "source": [
    "diff(x**3, x)"
   ]
  },
  {
   "cell_type": "markdown",
   "metadata": {},
   "source": [
    "The differentiation operation knows about the product rule $[f(x)g(x)]^\\prime=f^\\prime(x)g(x)+f(x)g^\\prime(x)$, \n",
    "the chain rule $f(g(x))' = f'(g(x))g'(x)$, \n",
    "and the quotient rule $\\left[\\frac{f(x)}{g(x)}\\right]^\\prime = \\frac{f'(x)g(x) - f(x)g'(x)}{g(x)^2}$:"
   ]
  },
  {
   "cell_type": "code",
   "execution_count": 89,
   "metadata": {
    "collapsed": false,
    "jupyter": {
     "outputs_hidden": false
    }
   },
   "outputs": [
    {
     "data": {
      "image/png": "[encoded data removed]",
      "text/latex": [
       "$$x^{2} \\cos{\\left (x \\right )} + 2 x \\sin{\\left (x \\right )}$$"
      ],
      "text/plain": [
       " 2                    \n",
       "x ⋅cos(x) + 2⋅x⋅sin(x)"
      ]
     },
     "execution_count": 89,
     "metadata": {},
     "output_type": "execute_result"
    }
   ],
   "source": [
    "diff( x**2*sin(x), x )"
   ]
  },
  {
   "cell_type": "code",
   "execution_count": 90,
   "metadata": {
    "collapsed": false,
    "jupyter": {
     "outputs_hidden": false
    }
   },
   "outputs": [
    {
     "data": {
      "image/png": "[encoded data removed]",
      "text/latex": [
       "$$2 x \\cos{\\left (x^{2} \\right )}$$"
      ],
      "text/plain": [
       "       ⎛ 2⎞\n",
       "2⋅x⋅cos⎝x ⎠"
      ]
     },
     "execution_count": 90,
     "metadata": {},
     "output_type": "execute_result"
    }
   ],
   "source": [
    "diff( sin(x**2), x )"
   ]
  },
  {
   "cell_type": "code",
   "execution_count": 91,
   "metadata": {
    "collapsed": false,
    "jupyter": {
     "outputs_hidden": false
    }
   },
   "outputs": [
    {
     "data": {
      "image/png": "[encoded data removed]",
      "text/latex": [
       "$$- \\frac{x^{2} \\cos{\\left (x \\right )}}{\\sin^{2}{\\left (x \\right )}} + \\frac{2 x}{\\sin{\\left (x \\right )}}$$"
      ],
      "text/plain": [
       "   2                \n",
       "  x ⋅cos(x)    2⋅x  \n",
       "- ───────── + ──────\n",
       "      2       sin(x)\n",
       "   sin (x)          "
      ]
     },
     "execution_count": 91,
     "metadata": {},
     "output_type": "execute_result"
    }
   ],
   "source": [
    "diff( x**2/sin(x), x )"
   ]
  },
  {
   "cell_type": "markdown",
   "metadata": {},
   "source": [
    "The second derivative of a function `f` is `diff(f,x,2)`:"
   ]
  },
  {
   "cell_type": "code",
   "execution_count": 92,
   "metadata": {
    "collapsed": false,
    "jupyter": {
     "outputs_hidden": false
    }
   },
   "outputs": [
    {
     "data": {
      "image/png": "[encoded data removed]",
      "text/latex": [
       "$$6 x$$"
      ],
      "text/plain": [
       "6⋅x"
      ]
     },
     "execution_count": 92,
     "metadata": {},
     "output_type": "execute_result"
    }
   ],
   "source": [
    "diff(x**3, x, 2)   # same as diff(diff(x**3, x), x)"
   ]
  },
  {
   "cell_type": "markdown",
   "metadata": {},
   "source": [
    "The exponential function $f(x)=e^x$ is special because it is equal to its derivative:"
   ]
  },
  {
   "cell_type": "code",
   "execution_count": 93,
   "metadata": {
    "collapsed": false,
    "jupyter": {
     "outputs_hidden": false
    }
   },
   "outputs": [
    {
     "data": {
      "image/png": "[encoded data removed]",
      "text/latex": [
       "$$e^{x}$$"
      ],
      "text/plain": [
       " x\n",
       "ℯ "
      ]
     },
     "execution_count": 93,
     "metadata": {},
     "output_type": "execute_result"
    }
   ],
   "source": [
    "diff( exp(x), x )  # same as diff( E**x, x  )"
   ]
  },
  {
   "cell_type": "markdown",
   "metadata": {},
   "source": [
    "A differential equation is an equation that relates some unknown function $f(x)$ to its derivative. \n",
    "An example of a differential equation is $f'(x)=f(x)$.\n",
    "What is the function $f(x)$ which is equal to its derivative?\n",
    "You can either try to guess what $f(x)$ is or use the `dsolve` function:"
   ]
  },
  {
   "cell_type": "code",
   "execution_count": 94,
   "metadata": {
    "collapsed": false,
    "jupyter": {
     "outputs_hidden": false
    }
   },
   "outputs": [
    {
     "data": {
      "image/png": "[encoded data removed]",
      "text/latex": [
       "$$f{\\left (x \\right )} = C_{1} e^{x}$$"
      ],
      "text/plain": [
       "           x\n",
       "f(x) = C₁⋅ℯ "
      ]
     },
     "execution_count": 94,
     "metadata": {},
     "output_type": "execute_result"
    }
   ],
   "source": [
    "x = symbols('x')\n",
    "f = symbols('f', cls=Function)  # can now use f(x)\n",
    "dsolve( f(x) - diff(f(x),x), f(x) )"
   ]
  },
  {
   "cell_type": "markdown",
   "metadata": {},
   "source": [
    "We'll discuss `dsolve` again in the section on mechanics."
   ]
  },
  {
   "cell_type": "markdown",
   "metadata": {},
   "source": [
    "### Tangent lines"
   ]
  },
  {
   "cell_type": "markdown",
   "metadata": {},
   "source": [
    "The *tangent line* to the function $f(x)$ at $x=x_0$ is \n",
    "the line that passes through the point $(x_0, f(x_0))$ and has \n",
    "the same slope as the function at that point.\n",
    "The tangent line to the function $f(x)$ at the point $x=x_0$ is described by the equation\n",
    "\n",
    "$$\n",
    "   T_1(x) =  f(x_0) \\ + \\  f'(x_0)(x-x_0).\n",
    "$$\n",
    "\n",
    "What is the equation of the tangent line to $f(x)=\\frac{1}{2}x^2$ at $x_0=1$?"
   ]
  },
  {
   "cell_type": "code",
   "execution_count": 95,
   "metadata": {
    "collapsed": false,
    "jupyter": {
     "outputs_hidden": false
    }
   },
   "outputs": [
    {
     "data": {
      "image/png": "[encoded data removed]",
      "text/latex": [
       "$$\\frac{x^{2}}{2}$$"
      ],
      "text/plain": [
       " 2\n",
       "x \n",
       "──\n",
       "2 "
      ]
     },
     "execution_count": 95,
     "metadata": {},
     "output_type": "execute_result"
    }
   ],
   "source": [
    "f = S('1/2')*x**2\n",
    "f"
   ]
  },
  {
   "cell_type": "code",
   "execution_count": 96,
   "metadata": {
    "collapsed": false,
    "jupyter": {
     "outputs_hidden": false
    }
   },
   "outputs": [
    {
     "data": {
      "image/png": "[encoded data removed]",
      "text/latex": [
       "$$x$$"
      ],
      "text/plain": [
       "x"
      ]
     },
     "execution_count": 96,
     "metadata": {},
     "output_type": "execute_result"
    }
   ],
   "source": [
    "df = diff(f,x)\n",
    "df"
   ]
  },
  {
   "cell_type": "code",
   "execution_count": 97,
   "metadata": {
    "collapsed": false,
    "jupyter": {
     "outputs_hidden": false
    }
   },
   "outputs": [
    {
     "data": {
      "image/png": "[encoded data removed]",
      "text/latex": [
       "$$x - \\frac{1}{2}$$"
      ],
      "text/plain": [
       "x - 1/2"
      ]
     },
     "execution_count": 97,
     "metadata": {},
     "output_type": "execute_result"
    }
   ],
   "source": [
    "T_1 = f.subs({x:1}) + df.subs({x:1})*(x - 1)\n",
    "T_1"
   ]
  },
  {
   "cell_type": "markdown",
   "metadata": {},
   "source": [
    "The tangent line $T_1(x)$ has the same value and slope as the function $f(x)$ at $x=1$:"
   ]
  },
  {
   "cell_type": "code",
   "execution_count": 98,
   "metadata": {
    "collapsed": false,
    "jupyter": {
     "outputs_hidden": false
    }
   },
   "outputs": [
    {
     "data": {
      "text/plain": [
       "True"
      ]
     },
     "execution_count": 98,
     "metadata": {},
     "output_type": "execute_result"
    }
   ],
   "source": [
    "T_1.subs({x:1}) == f.subs({x:1})"
   ]
  },
  {
   "cell_type": "code",
   "execution_count": 99,
   "metadata": {
    "collapsed": false,
    "jupyter": {
     "outputs_hidden": false
    }
   },
   "outputs": [
    {
     "data": {
      "text/plain": [
       "True"
      ]
     },
     "execution_count": 99,
     "metadata": {},
     "output_type": "execute_result"
    }
   ],
   "source": [
    "diff(T_1,x).subs({x:1}) == diff(f,x).subs({x:1})"
   ]
  },
  {
   "cell_type": "markdown",
   "metadata": {},
   "source": [
    "### Optimization"
   ]
  },
  {
   "cell_type": "markdown",
   "metadata": {},
   "source": [
    "Optimization is about choosing an input for a function $f(x)$ that results in the best value for $f(x)$.\n",
    "The best value usually means the *maximum* value \n",
    "(if the function represents something desirable like profits) \n",
    "or the *minimum* value \n",
    "(if the function represents something undesirable like costs).\n",
    "\n",
    "The derivative $f'(x)$ encodes the information about the *slope* of $f(x)$.\n",
    "Positive slope $f'(x)>0$ means $f(x)$ is increasing,\n",
    "negative slope $f'(x)<0$ means $f(x)$ is decreasing, \n",
    "and zero slope $f'(x)=0$ means the graph of the function is horizontal.\n",
    "The *critical points* of a function $f(x)$ are the solutions to the equation $f'(x)=0$.\n",
    "Each critical point is a candidate to be either a maximum or a minimum of the function.\n",
    "\n",
    "The second derivative $f^{\\prime\\prime}(x)$ encodes the information about the *curvature* of $f(x)$.\n",
    "Positive curvature means the function looks like $x^2$,\n",
    "negative curvature means the function looks like $-x^2$.\n",
    "\n",
    "Let's find the critical points of the function $f(x)=x^3-2x^2+x$ \n",
    "and use the information from its second derivative \n",
    "to find the maximum of the function \n",
    "on the interval $x \\in [0,1]$."
   ]
  },
  {
   "cell_type": "code",
   "execution_count": 100,
   "metadata": {
    "collapsed": false,
    "jupyter": {
     "outputs_hidden": false
    }
   },
   "outputs": [
    {
     "data": {
      "image/png": "[encoded data removed]",
      "text/latex": [
       "$$3 x^{2} - 4 x + 1$$"
      ],
      "text/plain": [
       "   2          \n",
       "3⋅x  - 4⋅x + 1"
      ]
     },
     "execution_count": 100,
     "metadata": {},
     "output_type": "execute_result"
    }
   ],
   "source": [
    "x = Symbol('x')\n",
    "f = x**3-2*x**2+x\n",
    "diff(f, x)"
   ]
  },
  {
   "cell_type": "code",
   "execution_count": 101,
   "metadata": {
    "collapsed": false,
    "jupyter": {
     "outputs_hidden": false
    }
   },
   "outputs": [
    {
     "data": {
      "image/png": "[encoded data removed]",
      "text/latex": [
       "$$\\left [ \\frac{1}{3}, \\quad 1\\right ]$$"
      ],
      "text/plain": [
       "[1/3, 1]"
      ]
     },
     "execution_count": 101,
     "metadata": {},
     "output_type": "execute_result"
    }
   ],
   "source": [
    "sols = solve( diff(f,x),  x)\n",
    "sols"
   ]
  },
  {
   "cell_type": "code",
   "execution_count": 102,
   "metadata": {
    "collapsed": false,
    "jupyter": {
     "outputs_hidden": false
    }
   },
   "outputs": [
    {
     "data": {
      "image/png": "[encoded data removed]",
      "text/latex": [
       "$$-2$$"
      ],
      "text/plain": [
       "-2"
      ]
     },
     "execution_count": 102,
     "metadata": {},
     "output_type": "execute_result"
    }
   ],
   "source": [
    "diff(diff(f,x), x).subs( {x:sols[0]} )"
   ]
  },
  {
   "cell_type": "code",
   "execution_count": 103,
   "metadata": {
    "collapsed": false,
    "jupyter": {
     "outputs_hidden": false
    }
   },
   "outputs": [
    {
     "data": {
      "image/png": "[encoded data removed]",
      "text/latex": [
       "$$2$$"
      ],
      "text/plain": [
       "2"
      ]
     },
     "execution_count": 103,
     "metadata": {},
     "output_type": "execute_result"
    }
   ],
   "source": [
    "diff(diff(f,x), x).subs( {x:sols[1]} )"
   ]
  },
  {
   "cell_type": "markdown",
   "metadata": {},
   "source": [
    "[It will help to look at the graph of this function.](https://www.google.com/#safe=off&q=plot+x**3-2*x**2%2Bx)\n",
    "The point $x=\\frac{1}{3}$ is a local maximum because it is a critical point of $f(x)$\n",
    "where the curvature is negative, meaning $f(x)$ looks like the peak of a mountain at $x=\\frac{1}{3}$.\n",
    "The maximum value of $f(x)$ on the interval $x\\in [0,1]$ is $f\\!\\left(\\frac{1}{3}\\right)=\\frac{4}{27}$.\n",
    "The point $x=1$ is a local minimum because it is a critical point\n",
    "with positive curvature, meaning $f(x)$ looks like the bottom of a valley at $x=1$."
   ]
  },
  {
   "cell_type": "markdown",
   "metadata": {},
   "source": [
    "### Integrals"
   ]
  },
  {
   "cell_type": "markdown",
   "metadata": {},
   "source": [
    "The *integral* of $f(x)$ corresponds to the computation of the area under the graph of $f(x)$.\n",
    "The area under $f(x)$ between the points $x=a$ and $x=b$ is denoted as follows:\n",
    "\n",
    "$$\n",
    " A(a,b) = \\int_a^b f(x) \\: dx.\n",
    "$$\n",
    "\n",
    "The *integral function* $F$ corresponds to the area calculation as a function \n",
    "of the upper limit of integration:\n",
    "\n",
    "$$\n",
    "  F(c) \\equiv \\int_0^c \\! f(x)\\:dx\\,.\n",
    "$$\n",
    "\n",
    "The area under $f(x)$ between $x=a$ and $x=b$ is obtained by \n",
    "calculating the *change* in the integral function:\n",
    "\n",
    "$$\n",
    "   A(a,b) = \\int_a^b \\! f(x)\\:dx  =  F(b)-F(a).\n",
    "$$\n",
    "\n",
    "In `SymPy` we use `integrate(f, x)` to obtain the integral function $F(x)$ of any function $f(x)$:\n",
    "$F(x) = \\int_0^x f(u)\\,du$."
   ]
  },
  {
   "cell_type": "code",
   "execution_count": 104,
   "metadata": {
    "collapsed": false,
    "jupyter": {
     "outputs_hidden": false
    }
   },
   "outputs": [
    {
     "data": {
      "image/png": "[encoded data removed]",
      "text/latex": [
       "$$\\frac{x^{4}}{4}$$"
      ],
      "text/plain": [
       " 4\n",
       "x \n",
       "──\n",
       "4 "
      ]
     },
     "execution_count": 104,
     "metadata": {},
     "output_type": "execute_result"
    }
   ],
   "source": [
    "integrate(x**3, x)"
   ]
  },
  {
   "cell_type": "code",
   "execution_count": 105,
   "metadata": {
    "collapsed": false,
    "jupyter": {
     "outputs_hidden": false
    }
   },
   "outputs": [
    {
     "data": {
      "image/png": "[encoded data removed]",
      "text/latex": [
       "$$- \\cos{\\left (x \\right )}$$"
      ],
      "text/plain": [
       "-cos(x)"
      ]
     },
     "execution_count": 105,
     "metadata": {},
     "output_type": "execute_result"
    }
   ],
   "source": [
    "integrate(sin(x), x)"
   ]
  },
  {
   "cell_type": "code",
   "execution_count": 106,
   "metadata": {
    "collapsed": false,
    "jupyter": {
     "outputs_hidden": false
    }
   },
   "outputs": [
    {
     "data": {
      "image/png": "[encoded data removed]",
      "text/latex": [
       "$$x \\log{\\left (x \\right )} - x$$"
      ],
      "text/plain": [
       "x⋅log(x) - x"
      ]
     },
     "execution_count": 106,
     "metadata": {},
     "output_type": "execute_result"
    }
   ],
   "source": [
    "integrate(ln(x), x)"
   ]
  },
  {
   "cell_type": "markdown",
   "metadata": {},
   "source": [
    "This is known as an *indefinite integral* since the limits of integration are not defined. \n",
    "\n",
    "In contrast, \n",
    "a *definite integral* computes the area under $f(x)$ between $x=a$ and $x=b$.\n",
    "Use `integrate(f, (x,a,b))` to compute the definite integrals of the form $A(a,b)=\\int_a^b f(x) \\, dx$:"
   ]
  },
  {
   "cell_type": "code",
   "execution_count": 107,
   "metadata": {
    "collapsed": false,
    "jupyter": {
     "outputs_hidden": false
    }
   },
   "outputs": [
    {
     "data": {
      "image/png": "[encoded data removed]",
      "text/latex": [
       "$$\\frac{1}{4}$$"
      ],
      "text/plain": [
       "1/4"
      ]
     },
     "execution_count": 107,
     "metadata": {},
     "output_type": "execute_result"
    }
   ],
   "source": [
    "integrate(x**3, (x,0,1))  # the area under x^3 from x=0 to x=1"
   ]
  },
  {
   "cell_type": "markdown",
   "metadata": {},
   "source": [
    "We can obtain the same area by first calculating the indefinite integral $F(c)=\\int_0^c \\!f(x)\\,dx$,\n",
    "then using $A(a,b) = F(x)\\big\\vert_a^b \\equiv F(b) - F(a)$:"
   ]
  },
  {
   "cell_type": "code",
   "execution_count": 108,
   "metadata": {
    "collapsed": false,
    "jupyter": {
     "outputs_hidden": false
    }
   },
   "outputs": [
    {
     "data": {
      "image/png": "[encoded data removed]",
      "text/latex": [
       "$$\\frac{1}{4}$$"
      ],
      "text/plain": [
       "1/4"
      ]
     },
     "execution_count": 108,
     "metadata": {},
     "output_type": "execute_result"
    }
   ],
   "source": [
    "F = integrate(x**3, x)\n",
    "F.subs({x:1}) - F.subs({x:0})"
   ]
  },
  {
   "cell_type": "markdown",
   "metadata": {},
   "source": [
    "Integrals correspond to *signed* area calculations:"
   ]
  },
  {
   "cell_type": "code",
   "execution_count": 109,
   "metadata": {
    "collapsed": false,
    "jupyter": {
     "outputs_hidden": false
    }
   },
   "outputs": [
    {
     "data": {
      "image/png": "[encoded data removed]",
      "text/latex": [
       "$$2$$"
      ],
      "text/plain": [
       "2"
      ]
     },
     "execution_count": 109,
     "metadata": {},
     "output_type": "execute_result"
    }
   ],
   "source": [
    "integrate(sin(x), (x,0,pi))"
   ]
  },
  {
   "cell_type": "code",
   "execution_count": 110,
   "metadata": {
    "collapsed": false,
    "jupyter": {
     "outputs_hidden": false
    }
   },
   "outputs": [
    {
     "data": {
      "image/png": "[encoded data removed]",
      "text/latex": [
       "$$-2$$"
      ],
      "text/plain": [
       "-2"
      ]
     },
     "execution_count": 110,
     "metadata": {},
     "output_type": "execute_result"
    }
   ],
   "source": [
    "integrate(sin(x), (x,pi,2*pi))"
   ]
  },
  {
   "cell_type": "code",
   "execution_count": 111,
   "metadata": {
    "collapsed": false,
    "jupyter": {
     "outputs_hidden": false
    }
   },
   "outputs": [
    {
     "data": {
      "image/png": "[encoded data removed]",
      "text/latex": [
       "$$0$$"
      ],
      "text/plain": [
       "0"
      ]
     },
     "execution_count": 111,
     "metadata": {},
     "output_type": "execute_result"
    }
   ],
   "source": [
    "integrate(sin(x), (x,0,2*pi))"
   ]
  },
  {
   "cell_type": "markdown",
   "metadata": {},
   "source": [
    "During the first half of its $2\\pi$-cycle,\n",
    "the graph of $\\sin(x)$ is above the $x$-axis, so it has a positive contribution to the area under the curve.\n",
    "During the second half of its cycle (from $x=\\pi$ to $x=2\\pi$),\n",
    "$\\sin(x)$ is below the $x$-axis, so it contributes negative area.\n",
    "Draw a graph of $\\sin(x)$ to see what is going on."
   ]
  },
  {
   "cell_type": "markdown",
   "metadata": {},
   "source": [
    "### Fundamental theorem of calculus"
   ]
  },
  {
   "cell_type": "markdown",
   "metadata": {},
   "source": [
    "The integral is the &ldquo;inverse operation&rdquo; of the derivative.\n",
    "If you perform the integral operation followed by the derivative operation on some function, \n",
    "you'll obtain the same function:\n",
    "\n",
    "$$\n",
    "  \\left(\\frac{d}{dx} \\circ \\int dx \\right) f(x) \\equiv \\frac{d}{dx} \\int_c^x f(u)\\:du = f(x).\n",
    "$$"
   ]
  },
  {
   "cell_type": "code",
   "execution_count": 112,
   "metadata": {
    "collapsed": false,
    "jupyter": {
     "outputs_hidden": false
    }
   },
   "outputs": [
    {
     "data": {
      "image/png": "[encoded data removed]",
      "text/latex": [
       "$$\\frac{x^{3}}{3}$$"
      ],
      "text/plain": [
       " 3\n",
       "x \n",
       "──\n",
       "3 "
      ]
     },
     "execution_count": 112,
     "metadata": {},
     "output_type": "execute_result"
    }
   ],
   "source": [
    "f = x**2\n",
    "F = integrate(f, x)\n",
    "F"
   ]
  },
  {
   "cell_type": "code",
   "execution_count": 113,
   "metadata": {
    "collapsed": false,
    "jupyter": {
     "outputs_hidden": false
    }
   },
   "outputs": [
    {
     "data": {
      "image/png": "[encoded data removed]",
      "text/latex": [
       "$$x^{2}$$"
      ],
      "text/plain": [
       " 2\n",
       "x "
      ]
     },
     "execution_count": 113,
     "metadata": {},
     "output_type": "execute_result"
    }
   ],
   "source": [
    "diff(F,x)"
   ]
  },
  {
   "cell_type": "markdown",
   "metadata": {},
   "source": [
    "Alternately, if you compute the derivative of a function followed by the integral,\n",
    "you will obtain the original function $f(x)$ (up to a constant):\n",
    "\n",
    "$$\n",
    "  \\left( \\int dx \\circ \\frac{d}{dx}\\right) f(x) \\equiv \\int_c^x f'(u)\\;du = f(x) + C.\n",
    "$$"
   ]
  },
  {
   "cell_type": "code",
   "execution_count": 114,
   "metadata": {
    "collapsed": false,
    "jupyter": {
     "outputs_hidden": false
    }
   },
   "outputs": [
    {
     "data": {
      "image/png": "[encoded data removed]",
      "text/latex": [
       "$$2 x$$"
      ],
      "text/plain": [
       "2⋅x"
      ]
     },
     "execution_count": 114,
     "metadata": {},
     "output_type": "execute_result"
    }
   ],
   "source": [
    "f = x**2\n",
    "df = diff(f,x)\n",
    "df"
   ]
  },
  {
   "cell_type": "code",
   "execution_count": 115,
   "metadata": {
    "collapsed": false,
    "jupyter": {
     "outputs_hidden": false
    }
   },
   "outputs": [
    {
     "data": {
      "image/png": "[encoded data removed]",
      "text/latex": [
       "$$x^{2}$$"
      ],
      "text/plain": [
       " 2\n",
       "x "
      ]
     },
     "execution_count": 115,
     "metadata": {},
     "output_type": "execute_result"
    }
   ],
   "source": [
    "integrate(df, x)"
   ]
  },
  {
   "cell_type": "markdown",
   "metadata": {},
   "source": [
    "The fundamental theorem of calculus is important because it tells us how to solve differential equations.\n",
    "If we have to solve for $f(x)$ in the differential equation $\\frac{d}{dx}f(x) = g(x)$,\n",
    "we can take the integral on both sides of the equation to obtain the answer $f(x) = \\int g(x)\\,dx + C$."
   ]
  },
  {
   "cell_type": "markdown",
   "metadata": {},
   "source": [
    "### Sequences"
   ]
  },
  {
   "cell_type": "markdown",
   "metadata": {},
   "source": [
    "Sequences are functions that take whole numbers as inputs.\n",
    "Instead of continuous inputs $x\\in \\mathbb{R}$,\n",
    "sequences take natural numbers $n\\in\\mathbb{N}$ as inputs.\n",
    "We denote sequences as $a_n$ instead of the usual function notation $a(n)$.\n",
    "\n",
    "We define a sequence by specifying an expression for its $n^\\mathrm{th}$ term:"
   ]
  },
  {
   "cell_type": "code",
   "execution_count": 116,
   "metadata": {
    "collapsed": false,
    "jupyter": {
     "outputs_hidden": false
    }
   },
   "outputs": [],
   "source": [
    "a_n = 1/n\n",
    "b_n = 1/factorial(n)"
   ]
  },
  {
   "cell_type": "markdown",
   "metadata": {},
   "source": [
    "Substitute the desired value of $n$ to see the value of the $n^\\mathrm{th}$ term:"
   ]
  },
  {
   "cell_type": "code",
   "execution_count": 117,
   "metadata": {
    "collapsed": false,
    "jupyter": {
     "outputs_hidden": false
    }
   },
   "outputs": [
    {
     "data": {
      "image/png": "[encoded data removed]",
      "text/latex": [
       "$$\\frac{1}{5}$$"
      ],
      "text/plain": [
       "1/5"
      ]
     },
     "execution_count": 117,
     "metadata": {},
     "output_type": "execute_result"
    }
   ],
   "source": [
    "a_n.subs({n:5})"
   ]
  },
  {
   "cell_type": "markdown",
   "metadata": {},
   "source": [
    "The `Python` list comprehension syntax `[item for item in list]`\n",
    "can be used to print the sequence values for some range of indices:"
   ]
  },
  {
   "cell_type": "code",
   "execution_count": 118,
   "metadata": {
    "collapsed": false,
    "jupyter": {
     "outputs_hidden": false
    }
   },
   "outputs": [
    {
     "data": {
      "image/png": "[encoded data removed]",
      "text/latex": [
       "$$\\left [ \\tilde{\\infty}, \\quad 1, \\quad \\frac{1}{2}, \\quad \\frac{1}{3}, \\quad \\frac{1}{4}, \\quad \\frac{1}{5}, \\quad \\frac{1}{6}, \\quad \\frac{1}{7}\\right ]$$"
      ],
      "text/plain": [
       "[zoo, 1, 1/2, 1/3, 1/4, 1/5, 1/6, 1/7]"
      ]
     },
     "execution_count": 118,
     "metadata": {},
     "output_type": "execute_result"
    }
   ],
   "source": [
    "[ a_n.subs({n:i}) for i in range(0,8) ]"
   ]
  },
  {
   "cell_type": "code",
   "execution_count": 119,
   "metadata": {
    "collapsed": false,
    "jupyter": {
     "outputs_hidden": false
    }
   },
   "outputs": [
    {
     "data": {
      "image/png": "[encoded data removed]",
      "text/latex": [
       "$$\\left [ 1, \\quad 1, \\quad \\frac{1}{2}, \\quad \\frac{1}{6}, \\quad \\frac{1}{24}, \\quad \\frac{1}{120}, \\quad \\frac{1}{720}, \\quad \\frac{1}{5040}\\right ]$$"
      ],
      "text/plain": [
       "[1, 1, 1/2, 1/6, 1/24, 1/120, 1/720, 1/5040]"
      ]
     },
     "execution_count": 119,
     "metadata": {},
     "output_type": "execute_result"
    }
   ],
   "source": [
    "[ b_n.subs({n:i}) for i in range(0,8) ]"
   ]
  },
  {
   "cell_type": "markdown",
   "metadata": {},
   "source": [
    "Observe that $a_n$ is not properly defined for $n=0$ since $\\frac{1}{0}$ is a division-by-zero error.\n",
    "To be precise, we should say $a_n$'s domain is the positive naturals $a_n:\\mathbb{N}^+ \\to \\mathbb{R}$.\n",
    "Observe how quickly the `factorial` function $n!=1\\cdot2\\cdot3\\cdots(n-1)\\cdot n$ grows:\n",
    "$7!= 5040$, $10!=3628800$, $20! > 10^{18}$.\n",
    "\n",
    "We're often interested in calculating the limits of sequences as $n\\to \\infty$.\n",
    "What happens to the terms in the sequence when $n$ becomes large?"
   ]
  },
  {
   "cell_type": "code",
   "execution_count": 120,
   "metadata": {
    "collapsed": false,
    "jupyter": {
     "outputs_hidden": false
    }
   },
   "outputs": [
    {
     "data": {
      "image/png": "[encoded data removed]",
      "text/latex": [
       "$$0$$"
      ],
      "text/plain": [
       "0"
      ]
     },
     "execution_count": 120,
     "metadata": {},
     "output_type": "execute_result"
    }
   ],
   "source": [
    "limit(a_n, n, oo)"
   ]
  },
  {
   "cell_type": "code",
   "execution_count": 121,
   "metadata": {
    "collapsed": false,
    "jupyter": {
     "outputs_hidden": false
    }
   },
   "outputs": [
    {
     "data": {
      "image/png": "[encoded data removed]",
      "text/latex": [
       "$$0$$"
      ],
      "text/plain": [
       "0"
      ]
     },
     "execution_count": 121,
     "metadata": {},
     "output_type": "execute_result"
    }
   ],
   "source": [
    "limit(b_n, n, oo)"
   ]
  },
  {
   "cell_type": "markdown",
   "metadata": {},
   "source": [
    "Both $a_n=\\frac{1}{n}$ and $b_n = \\frac{1}{n!}$ *converge* to $0$ as $n\\to\\infty$. \n",
    "\n",
    "Many important math quantities are defined as limit expressions.\n",
    "An interesting example to consider is the number $\\pi$, \n",
    "which is defined as the area of a circle of radius $1$.\n",
    "We can approximate the area of the unit circle by drawing a many-sided regular polygon around the circle.\n",
    "Splitting the $n$-sided regular polygon into identical triangular splices,\n",
    "we can obtain a formula for its area $A_n$.\n",
    "In the limit as $n\\to \\infty$, \n",
    "the $n$-sided-polygon approximation to the area of the unit-circle becomes exact:"
   ]
  },
  {
   "cell_type": "code",
   "execution_count": 122,
   "metadata": {
    "collapsed": false,
    "jupyter": {
     "outputs_hidden": false
    }
   },
   "outputs": [
    {
     "data": {
      "image/png": "[encoded data removed]",
      "text/latex": [
       "$$\\pi$$"
      ],
      "text/plain": [
       "π"
      ]
     },
     "execution_count": 122,
     "metadata": {},
     "output_type": "execute_result"
    }
   ],
   "source": [
    "A_n = n*tan(2*pi/(2*n))\n",
    "limit(A_n, n, oo)"
   ]
  },
  {
   "cell_type": "markdown",
   "metadata": {},
   "source": [
    "### Series"
   ]
  },
  {
   "cell_type": "markdown",
   "metadata": {},
   "source": [
    "Suppose we're given a sequence $a_n$ and we want to compute the sum of all the values in this sequence $\\sum_{n}^\\infty a_n$.\n",
    "Series are sums of sequences.\n",
    "Summing the values of a sequence $a_n:\\mathbb{N}\\to \\mathbb{R}$\n",
    "is analogous to taking the integral of a function $f:\\mathbb{R}\\to \\mathbb{R}$.\n",
    "\n",
    "To work with series in `SymPy`,\n",
    "use the `summation` function whose syntax is analogous to the `integrate` function: "
   ]
  },
  {
   "cell_type": "code",
   "execution_count": 123,
   "metadata": {
    "collapsed": false,
    "jupyter": {
     "outputs_hidden": false
    }
   },
   "outputs": [
    {
     "data": {
      "image/png": "[encoded data removed]",
      "text/latex": [
       "$$\\infty$$"
      ],
      "text/plain": [
       "∞"
      ]
     },
     "execution_count": 123,
     "metadata": {},
     "output_type": "execute_result"
    }
   ],
   "source": [
    "a_n = 1/n\n",
    "summation(a_n, [n, 1, oo])"
   ]
  },
  {
   "cell_type": "code",
   "execution_count": 124,
   "metadata": {
    "collapsed": false,
    "jupyter": {
     "outputs_hidden": false
    }
   },
   "outputs": [
    {
     "data": {
      "image/png": "[encoded data removed]",
      "text/latex": [
       "$$e$$"
      ],
      "text/plain": [
       "ℯ"
      ]
     },
     "execution_count": 124,
     "metadata": {},
     "output_type": "execute_result"
    }
   ],
   "source": [
    "b_n = 1/factorial(n)\n",
    "summation(b_n, [n, 0, oo])"
   ]
  },
  {
   "cell_type": "markdown",
   "metadata": {},
   "source": [
    "We say the series $\\sum a_n$ *diverges* to infinity (or *is divergent*) while the series $\\sum b_n$ converges (or *is convergent*).\n",
    "As we sum together more and more terms of the sequence $b_n$, the total becomes closer and closer to some finite number.\n",
    "In this case, the infinite sum $\\sum_{n=0}^\\infty \\frac{1}{n!}$ converges to the number $e=2.71828\\ldots$.\n",
    "\n",
    "\n",
    "The `summation` command is useful because it allows us to compute `infinite` sums,\n",
    "but for most practical applications we don't need to take an infinite number of terms in a series to obtain a good approximation. \n",
    "This is why series are so neat: they represent a great way to obtain approximations.\n",
    "\n",
    "Using standard `Python` commands,  \n",
    "we can obtain an approximation to $e$ that is accurate to six decimals by summing 10 terms in the series:"
   ]
  },
  {
   "cell_type": "code",
   "execution_count": 125,
   "metadata": {
    "collapsed": false,
    "jupyter": {
     "outputs_hidden": false
    }
   },
   "outputs": [
    {
     "data": {
      "image/png": "[encoded data removed]",
      "text/latex": [
       "$$2.7182815255731922$$"
      ],
      "text/plain": [
       "2.7182815255731922"
      ]
     },
     "execution_count": 125,
     "metadata": {},
     "output_type": "execute_result"
    }
   ],
   "source": [
    "import math\n",
    "def b_nf(n): \n",
    "    return 1.0/math.factorial(n)\n",
    "sum( [b_nf(n) for n in range(0,10)] )"
   ]
  },
  {
   "cell_type": "code",
   "execution_count": 126,
   "metadata": {
    "collapsed": false,
    "jupyter": {
     "outputs_hidden": false
    }
   },
   "outputs": [
    {
     "data": {
      "image/png": "[encoded data removed]",
      "text/latex": [
       "$$2.71828182845905$$"
      ],
      "text/plain": [
       "2.71828182845905"
      ]
     },
     "execution_count": 126,
     "metadata": {},
     "output_type": "execute_result"
    }
   ],
   "source": [
    "E.evalf()  # true value"
   ]
  },
  {
   "cell_type": "markdown",
   "metadata": {},
   "source": [
    "### Taylor series"
   ]
  },
  {
   "cell_type": "markdown",
   "metadata": {},
   "source": [
    "Wait, there's more! \n",
    "Not only can we use series to approximate numbers,\n",
    "we can also use them to approximate functions.\n",
    "\n",
    "A *power series* is a series whose terms contain different powers of the variable $x$.\n",
    "The $n^\\mathrm{th}$ term in a power series is a function of both the sequence index $n$ and the input variable $x$.\n",
    "\n",
    "For example, the power series of the function $\\exp(x)=e^x$ is \n",
    "\n",
    "$$\n",
    " \\exp(x) \\equiv  1 + x + \\frac{x^2}{2} + \\frac{x^3}{3!} + \\frac{x^4}{4!} + \\frac{x^5}{5!} + \\cdots         \n",
    "  =       \\sum_{n=0}^\\infty \\frac{x^n}{n!}.\n",
    "$$\n",
    "\n",
    "This is, IMHO, one of the most important ideas in calculus:\n",
    "you can compute the value of $\\exp(5)$ by taking the infinite sum of the terms in the power series with $x=5$:"
   ]
  },
  {
   "cell_type": "code",
   "execution_count": 127,
   "metadata": {
    "collapsed": false,
    "jupyter": {
     "outputs_hidden": false
    }
   },
   "outputs": [
    {
     "data": {
      "image/png": "[encoded data removed]",
      "text/latex": [
       "$$148.413159102577$$"
      ],
      "text/plain": [
       "148.413159102577"
      ]
     },
     "execution_count": 127,
     "metadata": {},
     "output_type": "execute_result"
    }
   ],
   "source": [
    "exp_xn = x**n/factorial(n)\n",
    "summation( exp_xn.subs({x:5}), [n, 0, oo] ).evalf()"
   ]
  },
  {
   "cell_type": "code",
   "execution_count": 128,
   "metadata": {
    "collapsed": false,
    "jupyter": {
     "outputs_hidden": false
    }
   },
   "outputs": [
    {
     "data": {
      "image/png": "[encoded data removed]",
      "text/latex": [
       "$$148.413159102577$$"
      ],
      "text/plain": [
       "148.413159102577"
      ]
     },
     "execution_count": 128,
     "metadata": {},
     "output_type": "execute_result"
    }
   ],
   "source": [
    "exp(5).evalf()  # the true value"
   ]
  },
  {
   "cell_type": "markdown",
   "metadata": {},
   "source": [
    "Note that `SymPy` is actually smart enough to recognize that the infinite series\n",
    "you're computing corresponds to the closed-form expression $e^5$:"
   ]
  },
  {
   "cell_type": "code",
   "execution_count": 129,
   "metadata": {
    "collapsed": false,
    "jupyter": {
     "outputs_hidden": false
    }
   },
   "outputs": [
    {
     "data": {
      "image/png": "[encoded data removed]",
      "text/latex": [
       "$$e^{5}$$"
      ],
      "text/plain": [
       " 5\n",
       "ℯ "
      ]
     },
     "execution_count": 129,
     "metadata": {},
     "output_type": "execute_result"
    }
   ],
   "source": [
    "summation( exp_xn.subs({x:5}), [n, 0, oo])"
   ]
  },
  {
   "cell_type": "markdown",
   "metadata": {},
   "source": [
    "Taking as few as 35 terms in the series is sufficient to obtain an approximation to $e$\n",
    "that is accurate to 16 decimals:"
   ]
  },
  {
   "cell_type": "code",
   "execution_count": 130,
   "metadata": {
    "collapsed": false,
    "jupyter": {
     "outputs_hidden": false
    }
   },
   "outputs": [
    {
     "data": {
      "image/png": "[encoded data removed]",
      "text/latex": [
       "$$148.41315910257657$$"
      ],
      "text/plain": [
       "148.41315910257657"
      ]
     },
     "execution_count": 130,
     "metadata": {},
     "output_type": "execute_result"
    }
   ],
   "source": [
    "import math  # redo using only python \n",
    "def exp_xnf(x,n): \n",
    "    return x**n/math.factorial(n)\n",
    "sum( [exp_xnf(5.0,i) for i in range(0,35)] )"
   ]
  },
  {
   "cell_type": "markdown",
   "metadata": {},
   "source": [
    "The coefficients in the power series of a function (also known as the *Taylor series*) \n",
    "The formula for the $n^\\mathrm{th}$ term in the Taylor series of $f(x)$ expanded at $x=c$ is $a_n(x) = \\frac{f^{(n)}(c)}{n!}(x-c)^n$,\n",
    "where $f^{(n)}(c)$ is the value of the $n^\\mathrm{th}$ derivative of $f(x)$ evaluated at $x=c$.\n",
    "The term *Maclaurin series* refers to Taylor series expansions at $x=0$.\n",
    "\n",
    "The `SymPy` function `series` is a convenient way to obtain the series of any function.\n",
    "Calling `series(expr,var,at,nmax)` \n",
    "will show you the series expansion of `expr` \n",
    "near `var`=`at` \n",
    "up to power `nmax`:"
   ]
  },
  {
   "cell_type": "code",
   "execution_count": 131,
   "metadata": {
    "collapsed": false,
    "jupyter": {
     "outputs_hidden": false
    }
   },
   "outputs": [
    {
     "data": {
      "image/png": "[encoded data removed]",
      "text/latex": [
       "$$x - \\frac{x^{3}}{6} + \\frac{x^{5}}{120} - \\frac{x^{7}}{5040} + \\mathcal{O}\\left(x^{8}\\right)$$"
      ],
      "text/plain": [
       "     3     5     7         \n",
       "    x     x     x      ⎛ 8⎞\n",
       "x - ── + ─── - ──── + O⎝x ⎠\n",
       "    6    120   5040        "
      ]
     },
     "execution_count": 131,
     "metadata": {},
     "output_type": "execute_result"
    }
   ],
   "source": [
    "series( sin(x), x, 0, 8)"
   ]
  },
  {
   "cell_type": "code",
   "execution_count": 132,
   "metadata": {
    "collapsed": false,
    "jupyter": {
     "outputs_hidden": false
    }
   },
   "outputs": [
    {
     "data": {
      "image/png": "[encoded data removed]",
      "text/latex": [
       "$$1 - \\frac{x^{2}}{2} + \\frac{x^{4}}{24} - \\frac{x^{6}}{720} + \\mathcal{O}\\left(x^{8}\\right)$$"
      ],
      "text/plain": [
       "     2    4     6        \n",
       "    x    x     x     ⎛ 8⎞\n",
       "1 - ── + ── - ─── + O⎝x ⎠\n",
       "    2    24   720        "
      ]
     },
     "execution_count": 132,
     "metadata": {},
     "output_type": "execute_result"
    }
   ],
   "source": [
    "series( cos(x), x, 0, 8)"
   ]
  },
  {
   "cell_type": "code",
   "execution_count": 133,
   "metadata": {
    "collapsed": false,
    "jupyter": {
     "outputs_hidden": false
    }
   },
   "outputs": [
    {
     "data": {
      "image/png": "[encoded data removed]",
      "text/latex": [
       "$$x + \\frac{x^{3}}{6} + \\frac{x^{5}}{120} + \\frac{x^{7}}{5040} + \\mathcal{O}\\left(x^{8}\\right)$$"
      ],
      "text/plain": [
       "     3     5     7         \n",
       "    x     x     x      ⎛ 8⎞\n",
       "x + ── + ─── + ──── + O⎝x ⎠\n",
       "    6    120   5040        "
      ]
     },
     "execution_count": 133,
     "metadata": {},
     "output_type": "execute_result"
    }
   ],
   "source": [
    "series( sinh(x), x, 0, 8)"
   ]
  },
  {
   "cell_type": "code",
   "execution_count": 134,
   "metadata": {
    "collapsed": false,
    "jupyter": {
     "outputs_hidden": false
    }
   },
   "outputs": [
    {
     "data": {
      "image/png": "[encoded data removed]",
      "text/latex": [
       "$$1 + \\frac{x^{2}}{2} + \\frac{x^{4}}{24} + \\frac{x^{6}}{720} + \\mathcal{O}\\left(x^{8}\\right)$$"
      ],
      "text/plain": [
       "     2    4     6        \n",
       "    x    x     x     ⎛ 8⎞\n",
       "1 + ── + ── + ─── + O⎝x ⎠\n",
       "    2    24   720        "
      ]
     },
     "execution_count": 134,
     "metadata": {},
     "output_type": "execute_result"
    }
   ],
   "source": [
    "series( cosh(x), x, 0, 8)"
   ]
  },
  {
   "cell_type": "markdown",
   "metadata": {},
   "source": [
    "Some functions are not defined at $x=0$, so we expand them at a different value of $x$.\n",
    "For example, the power series of $\\ln(x)$ expanded at $x=1$ is"
   ]
  },
  {
   "cell_type": "code",
   "execution_count": 135,
   "metadata": {
    "collapsed": false,
    "jupyter": {
     "outputs_hidden": false
    }
   },
   "outputs": [
    {
     "data": {
      "image/png": "[encoded data removed]",
      "text/latex": [
       "$$-1 - \\frac{1}{2} \\left(x - 1\\right)^{2} + \\frac{1}{3} \\left(x - 1\\right)^{3} - \\frac{1}{4} \\left(x - 1\\right)^{4} + \\frac{1}{5} \\left(x - 1\\right)^{5} + x + \\mathcal{O}\\left(\\left(x - 1\\right)^{6}; x\\rightarrow1\\right)$$"
      ],
      "text/plain": [
       "            2          3          4          5                         \n",
       "     (x - 1)    (x - 1)    (x - 1)    (x - 1)         ⎛       6       ⎞\n",
       "-1 - ──────── + ──────── - ──────── + ──────── + x + O⎝(x - 1) ; x → 1⎠\n",
       "        2          3          4          5                             "
      ]
     },
     "execution_count": 135,
     "metadata": {},
     "output_type": "execute_result"
    }
   ],
   "source": [
    "series(ln(x), x, 1, 6)  # Taylor series of ln(x) at x=1"
   ]
  },
  {
   "cell_type": "markdown",
   "metadata": {},
   "source": [
    "Here, the result `SymPy` returns is misleading.\n",
    "The Taylor series of $\\ln(x)$ expanded at $x=1$ has terms of the form $(x-1)^n$:\n",
    "\n",
    "$$\n",
    "  \\ln(x) = (x-1) - \\frac{(x-1)^2}{2} + \\frac{(x-1)^3}{3} - \\frac{(x-1)^4}{4} + \\frac{(x-1)^5}{5} + \\cdots.\n",
    "$$\n",
    "\n",
    "Verify this is the correct formula by substituting $x=1$.\n",
    "`SymPy` returns an answer in terms of coordinates `relative` to $x=1$.\n",
    "\n",
    "Instead of expanding $\\ln(x)$ around $x=1$,\n",
    "we can obtain an equivalent expression if we expand $\\ln(x+1)$ around $x=0$:"
   ]
  },
  {
   "cell_type": "code",
   "execution_count": 136,
   "metadata": {
    "collapsed": false,
    "jupyter": {
     "outputs_hidden": false
    }
   },
   "outputs": [
    {
     "data": {
      "image/png": "[encoded data removed]",
      "text/latex": [
       "$$x - \\frac{x^{2}}{2} + \\frac{x^{3}}{3} - \\frac{x^{4}}{4} + \\frac{x^{5}}{5} + \\mathcal{O}\\left(x^{6}\\right)$$"
      ],
      "text/plain": [
       "     2    3    4    5        \n",
       "    x    x    x    x     ⎛ 6⎞\n",
       "x - ── + ── - ── + ── + O⎝x ⎠\n",
       "    2    3    4    5         "
      ]
     },
     "execution_count": 136,
     "metadata": {},
     "output_type": "execute_result"
    }
   ],
   "source": [
    "series(ln(x+1), x, 0, 6)  # Maclaurin series of ln(x+1)"
   ]
  },
  {
   "cell_type": "markdown",
   "metadata": {},
   "source": [
    "## Vectors"
   ]
  },
  {
   "cell_type": "markdown",
   "metadata": {},
   "source": [
    "A vector $\\vec{v} \\in \\mathbb{R}^n$ is an $n$-tuple of real numbers. \n",
    "For example, consider a vector that has three components:  \n",
    "\n",
    "$$\n",
    " \\vec{v} = (v_1,v_2,v_3) \\  \\in \\  (\\mathbb{R},\\mathbb{R},\\mathbb{R}) \\equiv \\mathbb{R}^3.\n",
    "$$\n",
    "\n",
    "To specify the vector $\\vec{v}$, \n",
    "we specify the values for its three components $v_1$, $v_2$, and $v_3$. \n",
    "\n",
    "A matrix $A \\in \\mathbb{R}^{m\\times n}$ is a rectangular array of real numbers with $m$ rows and $n$ columns.\n",
    "A vector is a special type of matrix; we can think of a vector $\\vec{v}\\in \\mathbb{R}^n$\n",
    "either as a row vector ($1\\times n$ matrix) or a column vector ($n \\times 1$ matrix).\n",
    "Because of this equivalence between vectors and matrices,\n",
    "there is no need for a special vector object in `SymPy`, \n",
    "and `Matrix` objects are used for vectors as well.\n",
    "\n",
    "This is how we define vectors\n",
    "and compute their properties:"
   ]
  },
  {
   "cell_type": "code",
   "execution_count": 137,
   "metadata": {
    "collapsed": false,
    "jupyter": {
     "outputs_hidden": false
    }
   },
   "outputs": [],
   "source": [
    "u = Matrix([[4,5,6]])  # a row vector = 1x3 matrix\n",
    "v = Matrix([[7],\n",
    "            [8],       # a col vector = 3x1 matrix \n",
    "            [9]])"
   ]
  },
  {
   "cell_type": "code",
   "execution_count": 138,
   "metadata": {
    "collapsed": false,
    "jupyter": {
     "outputs_hidden": false
    }
   },
   "outputs": [
    {
     "data": {
      "image/png": "[encoded data removed]",
      "text/latex": [
       "$$\\left[\\begin{matrix}7 & 8 & 9\\end{matrix}\\right]$$"
      ],
      "text/plain": [
       "[7  8  9]"
      ]
     },
     "execution_count": 138,
     "metadata": {},
     "output_type": "execute_result"
    }
   ],
   "source": [
    "v.T                    # use the transpose operation to convert a col vec to a row vec"
   ]
  },
  {
   "cell_type": "code",
   "execution_count": 139,
   "metadata": {
    "collapsed": false,
    "jupyter": {
     "outputs_hidden": false
    }
   },
   "outputs": [
    {
     "data": {
      "image/png": "[encoded data removed]",
      "text/latex": [
       "$$4$$"
      ],
      "text/plain": [
       "4"
      ]
     },
     "execution_count": 139,
     "metadata": {},
     "output_type": "execute_result"
    }
   ],
   "source": [
    "u[0]                   # 0-based indexing for entries"
   ]
  },
  {
   "cell_type": "code",
   "execution_count": 140,
   "metadata": {
    "collapsed": false,
    "jupyter": {
     "outputs_hidden": false
    }
   },
   "outputs": [
    {
     "data": {
      "image/png": "[encoded data removed]",
      "text/latex": [
       "$$\\sqrt{77}$$"
      ],
      "text/plain": [
       "  ____\n",
       "╲╱ 77 "
      ]
     },
     "execution_count": 140,
     "metadata": {},
     "output_type": "execute_result"
    }
   ],
   "source": [
    "u.norm()               # length of u"
   ]
  },
  {
   "cell_type": "code",
   "execution_count": 141,
   "metadata": {
    "collapsed": false,
    "jupyter": {
     "outputs_hidden": false
    }
   },
   "outputs": [
    {
     "data": {
      "image/png": "[encoded data removed]",
      "text/latex": [
       "$$\\left[\\begin{matrix}\\frac{4 \\sqrt{77}}{77} & \\frac{5 \\sqrt{77}}{77} & \\frac{6 \\sqrt{77}}{77}\\end{matrix}\\right]$$"
      ],
      "text/plain": [
       "⎡    ____      ____      ____⎤\n",
       "⎢4⋅╲╱ 77   5⋅╲╱ 77   6⋅╲╱ 77 ⎥\n",
       "⎢────────  ────────  ────────⎥\n",
       "⎣   77        77        77   ⎦"
      ]
     },
     "execution_count": 141,
     "metadata": {},
     "output_type": "execute_result"
    }
   ],
   "source": [
    "uhat = u/u.norm()      # unit-length vec in same dir as u\n",
    "uhat"
   ]
  },
  {
   "cell_type": "code",
   "execution_count": 142,
   "metadata": {
    "collapsed": false,
    "jupyter": {
     "outputs_hidden": false
    }
   },
   "outputs": [
    {
     "data": {
      "image/png": "[encoded data removed]",
      "text/latex": [
       "$$1$$"
      ],
      "text/plain": [
       "1"
      ]
     },
     "execution_count": 142,
     "metadata": {},
     "output_type": "execute_result"
    }
   ],
   "source": [
    "uhat.norm()"
   ]
  },
  {
   "cell_type": "markdown",
   "metadata": {},
   "source": [
    "### Dot product"
   ]
  },
  {
   "cell_type": "markdown",
   "metadata": {},
   "source": [
    "The dot product of the 3-vectors $\\vec{u}$ and $\\vec{v}$ can be defined two ways:\n",
    "\n",
    "$$\n",
    "  \\vec{u}\\cdot\\vec{v}\n",
    "  \t\\equiv \n",
    "\t\\underbrace{u_xv_x+u_yv_y+u_zv_z}_{\\textrm{algebraic def.}} \n",
    "\t\\equiv \n",
    "\t\\underbrace{\\|\\vec{u}\\|\\|\\vec{v}\\|\\cos(\\varphi)}_{\\textrm{geometric def.}} \n",
    "\t\\quad \\in \\mathbb{R},\n",
    "$$\n",
    "\n",
    "where $\\varphi$ is the angle between the vectors $\\vec{u}$ and $\\vec{v}$.\n",
    "In `SymPy`,"
   ]
  },
  {
   "cell_type": "code",
   "execution_count": 143,
   "metadata": {
    "collapsed": false,
    "jupyter": {
     "outputs_hidden": false
    }
   },
   "outputs": [
    {
     "data": {
      "image/png": "[encoded data removed]",
      "text/latex": [
       "$$13$$"
      ],
      "text/plain": [
       "13"
      ]
     },
     "execution_count": 143,
     "metadata": {},
     "output_type": "execute_result"
    }
   ],
   "source": [
    "u = Matrix([ 4,5,6])\n",
    "v = Matrix([-1,1,2])\n",
    "u.dot(v)"
   ]
  },
  {
   "cell_type": "markdown",
   "metadata": {},
   "source": [
    "We can combine the algebraic and geometric formulas for the dot product\n",
    "to obtain the cosine of the angle between the vectors \n",
    "\n",
    "$$\n",
    "    \\cos(\\varphi)\n",
    "        = \\frac{ \\vec{u}\\cdot\\vec{v} }{  \\|\\vec{u}\\|\\|\\vec{v}\\| }\n",
    "        = \\frac{ u_xv_x+u_yv_y+u_zv_z  }{  \\|\\vec{u}\\|\\|\\vec{v}\\| },\n",
    "$$\n",
    "\n",
    "and use the `acos` function to find the angle measure:"
   ]
  },
  {
   "cell_type": "code",
   "execution_count": 144,
   "metadata": {
    "collapsed": false,
    "jupyter": {
     "outputs_hidden": false
    }
   },
   "outputs": [
    {
     "data": {
      "image/png": "[encoded data removed]",
      "text/latex": [
       "$$0.921263115666387$$"
      ],
      "text/plain": [
       "0.921263115666387"
      ]
     },
     "execution_count": 144,
     "metadata": {},
     "output_type": "execute_result"
    }
   ],
   "source": [
    "acos(u.dot(v)/(u.norm()*v.norm())).evalf()  # in radians = 52.76 degrees"
   ]
  },
  {
   "cell_type": "markdown",
   "metadata": {},
   "source": [
    "Just by looking at the coordinates of the vectors $\\vec{u}$ and $\\vec{v}$,\n",
    "it's difficult to determine their relative direction. \n",
    "Thanks to the dot product, however,\n",
    "we know the angle between the vectors is $52.76^\\circ$,\n",
    "which means they *kind of* point in the same direction.\n",
    "Vectors that are at an angle $\\varphi=90^\\circ$ are called *orthogonal*, meaning at right angles with each other.\n",
    "The dot product of vectors for which $\\varphi > 90^\\circ$ is negative because they point *mostly* in opposite directions.\n",
    "\n",
    "The notion of the &ldquo;angle between vectors&rdquo; applies more generally to vectors with any number of dimensions.\n",
    "The dot product for $n$-dimensional vectors is $\\vec{u}\\cdot\\vec{v}=\\sum_{i=1}^n u_iv_i$.\n",
    "This means we can talk about &ldquo;the angle between&rdquo; 1000-dimensional vectors.\n",
    "That's pretty crazy if you think about it&mdash;there is no way we could possibly &ldquo;visualize&rdquo; 1000-dimensional vectors,\n",
    "yet given two such vectors we can tell if they point mostly in the same direction,\n",
    "in perpendicular directions, or mostly in opposite directions. \n",
    "\n",
    "The dot product is a commutative operation $\\vec{u}\\cdot\\vec{v} = \\vec{v}\\cdot\\vec{u}$:"
   ]
  },
  {
   "cell_type": "code",
   "execution_count": 145,
   "metadata": {
    "collapsed": false,
    "jupyter": {
     "outputs_hidden": false
    }
   },
   "outputs": [
    {
     "data": {
      "text/plain": [
       "True"
      ]
     },
     "execution_count": 145,
     "metadata": {},
     "output_type": "execute_result"
    }
   ],
   "source": [
    "u.dot(v) == v.dot(u)"
   ]
  },
  {
   "cell_type": "markdown",
   "metadata": {},
   "source": [
    "### Projections"
   ]
  },
  {
   "cell_type": "markdown",
   "metadata": {},
   "source": [
    "Dot products are used for computing projections.\n",
    "Assume you're given two vectors $\\vec{u}$ and $\\vec{n}$ and you want to find the component\n",
    "of $\\vec{u}$ that points in the $\\vec{n}$ direction.\n",
    "The following formula based on the dot product will give you the answer:\n",
    "\n",
    "$$\n",
    " \\Pi_{\\vec{n}}( \\vec{u} ) \\equiv \\frac{  \\vec{u} \\cdot \\vec{n}  }{ \\| \\vec{n} \\|^2 } \\vec{n}.\n",
    "$$\n",
    "\n",
    "This is how to implement this formula in `SymPy`:"
   ]
  },
  {
   "cell_type": "code",
   "execution_count": 146,
   "metadata": {
    "collapsed": false,
    "jupyter": {
     "outputs_hidden": false
    }
   },
   "outputs": [
    {
     "data": {
      "image/png": "[encoded data removed]",
      "text/latex": [
       "$$\\left[\\begin{matrix}5\\\\5\\\\5\\end{matrix}\\right]$$"
      ],
      "text/plain": [
       "⎡5⎤\n",
       "⎢ ⎥\n",
       "⎢5⎥\n",
       "⎢ ⎥\n",
       "⎣5⎦"
      ]
     },
     "execution_count": 146,
     "metadata": {},
     "output_type": "execute_result"
    }
   ],
   "source": [
    "u = Matrix([4,5,6])\n",
    "n = Matrix([1,1,1])\n",
    "(u.dot(n) / n.norm()**2)*n  # projection of v in the n dir"
   ]
  },
  {
   "cell_type": "markdown",
   "metadata": {},
   "source": [
    "In the case where the direction vector $\\hat{n}$ is of unit length $\\|\\hat{n}\\| = 1$,\n",
    "the projection formula simplifies to $\\Pi_{\\hat{n}}( \\vec{u} ) \\equiv (\\vec{u}\\cdot\\hat{n})\\hat{n}$.\n",
    "\n",
    "Consider now the plane $P$ defined by $(1,1,1)\\cdot[(x,y,z)-(0,0,0)]=0$.\n",
    "A plane is a two dimensional subspace of $\\mathbb{R}^3$.\n",
    "We can decompose any vector $\\vec{u} \\in \\mathbb{R}^3$ into two parts $\\vec{u}=\\vec{v} + \\vec{w}$\n",
    "such that $\\vec{v}$ lies inside the plane and $\\vec{w}$ is perpendicular to the plane (parallel to $\\vec{n}=(1,1,1)$).\n",
    "\n",
    "To obtain the perpendicular-to-$P$ component of $\\vec{u}$,\n",
    "compute the projection of $\\vec{u}$ in the direction $\\vec{n}$:"
   ]
  },
  {
   "cell_type": "code",
   "execution_count": 147,
   "metadata": {
    "collapsed": false,
    "jupyter": {
     "outputs_hidden": false
    }
   },
   "outputs": [
    {
     "data": {
      "image/png": "[encoded data removed]",
      "text/latex": [
       "$$\\left[\\begin{matrix}5\\\\5\\\\5\\end{matrix}\\right]$$"
      ],
      "text/plain": [
       "⎡5⎤\n",
       "⎢ ⎥\n",
       "⎢5⎥\n",
       "⎢ ⎥\n",
       "⎣5⎦"
      ]
     },
     "execution_count": 147,
     "metadata": {},
     "output_type": "execute_result"
    }
   ],
   "source": [
    "w = (u.dot(n) / n.norm()**2)*n\n",
    "w"
   ]
  },
  {
   "cell_type": "markdown",
   "metadata": {},
   "source": [
    "To obtain the in-the-plane-$P$ component of $\\vec{u}$,\n",
    "start with $\\vec{u}$ and subtract the perpendicular-to-$P$ part:"
   ]
  },
  {
   "cell_type": "code",
   "execution_count": 148,
   "metadata": {
    "collapsed": false,
    "jupyter": {
     "outputs_hidden": false
    }
   },
   "outputs": [
    {
     "data": {
      "image/png": "[encoded data removed]",
      "text/latex": [
       "$$\\left[\\begin{matrix}-1\\\\0\\\\1\\end{matrix}\\right]$$"
      ],
      "text/plain": [
       "⎡-1⎤\n",
       "⎢  ⎥\n",
       "⎢0 ⎥\n",
       "⎢  ⎥\n",
       "⎣1 ⎦"
      ]
     },
     "execution_count": 148,
     "metadata": {},
     "output_type": "execute_result"
    }
   ],
   "source": [
    "v = u - (u.dot(n)/n.norm()**2)*n  # same as u - w\n",
    "v"
   ]
  },
  {
   "cell_type": "markdown",
   "metadata": {},
   "source": [
    "You should check on your own that $\\vec{v}+\\vec{w}=\\vec{u}$ as claimed."
   ]
  },
  {
   "cell_type": "markdown",
   "metadata": {},
   "source": [
    "### Cross product"
   ]
  },
  {
   "cell_type": "markdown",
   "metadata": {},
   "source": [
    "The *cross product*, denoted $\\times$, takes two vectors as inputs and produces a vector as output.\n",
    "The cross products of individual basis elements are defined as follows:\n",
    "\n",
    "$$\n",
    " \\hat{\\imath}\\times\\hat{\\jmath} =\\hat{k}, \\qquad\n",
    " \\hat{\\jmath}\\times\\hat{k} =\\hat{\\imath}, \\qquad\n",
    " \\hat{k}\\times \\hat{\\imath}= \\hat{\\jmath}.\n",
    "$$\n",
    "\n",
    "Here is how to compute the cross product of two vectors in `SymPy`:"
   ]
  },
  {
   "cell_type": "code",
   "execution_count": 149,
   "metadata": {
    "collapsed": false,
    "jupyter": {
     "outputs_hidden": false
    }
   },
   "outputs": [
    {
     "data": {
      "image/png": "[encoded data removed]",
      "text/latex": [
       "$$\\left[\\begin{matrix}4\\\\-14\\\\9\\end{matrix}\\right]$$"
      ],
      "text/plain": [
       "⎡ 4 ⎤\n",
       "⎢   ⎥\n",
       "⎢-14⎥\n",
       "⎢   ⎥\n",
       "⎣ 9 ⎦"
      ]
     },
     "execution_count": 149,
     "metadata": {},
     "output_type": "execute_result"
    }
   ],
   "source": [
    "u = Matrix([ 4,5,6])\n",
    "v = Matrix([-1,1,2])\n",
    "u.cross(v)"
   ]
  },
  {
   "cell_type": "markdown",
   "metadata": {},
   "source": [
    "The vector $\\vec{u}\\times \\vec{v}$ is orthogonal to both $\\vec{u}$ and $\\vec{v}$.\n",
    "The norm of the cross product  $\\|\\vec{u}\\times \\vec{v}\\|$ is proportional to the lengths of the vectors \n",
    "and the sine of the angle between them:"
   ]
  },
  {
   "cell_type": "code",
   "execution_count": 150,
   "metadata": {
    "collapsed": false,
    "jupyter": {
     "outputs_hidden": false
    }
   },
   "outputs": [
    {
     "data": {
      "image/png": "[encoded data removed]",
      "text/latex": [
       "$$0.796366206088088$$"
      ],
      "text/plain": [
       "0.796366206088088"
      ]
     },
     "execution_count": 150,
     "metadata": {},
     "output_type": "execute_result"
    }
   ],
   "source": [
    "(u.cross(v).norm()/(u.norm()*v.norm())).n()"
   ]
  },
  {
   "cell_type": "markdown",
   "metadata": {},
   "source": [
    "The name &ldquo;cross product&rdquo; is well-suited for this operation since it is\n",
    "calculated by &ldquo;cross-multiplying&rdquo; the coefficients of the vectors:\n",
    "\n",
    "$$\n",
    "   \\vec{u}\\times\\vec{v}=\n",
    "   \\left( \n",
    "     u_yv_z-u_zv_y, \\ u_zv_x-u_xv_z, \\ u_xv_y-u_yv_x \n",
    "    \\right).\n",
    "$$\n",
    "\n",
    "By defining individual symbols for the entries of two vectors,\n",
    "we can make `SymPy` show us the cross-product formula:"
   ]
  },
  {
   "cell_type": "code",
   "execution_count": 151,
   "metadata": {
    "collapsed": false,
    "jupyter": {
     "outputs_hidden": false
    }
   },
   "outputs": [
    {
     "data": {
      "image/png": "[encoded data removed]",
      "text/latex": [
       "$$\\left[\\begin{matrix}u_{2} v_{3} - u_{3} v_{2}\\\\- u_{1} v_{3} + u_{3} v_{1}\\\\u_{1} v_{2} - u_{2} v_{1}\\end{matrix}\\right]$$"
      ],
      "text/plain": [
       "⎡u₂⋅v₃ - u₃⋅v₂ ⎤\n",
       "⎢              ⎥\n",
       "⎢-u₁⋅v₃ + u₃⋅v₁⎥\n",
       "⎢              ⎥\n",
       "⎣u₁⋅v₂ - u₂⋅v₁ ⎦"
      ]
     },
     "execution_count": 151,
     "metadata": {},
     "output_type": "execute_result"
    }
   ],
   "source": [
    "u1,u2,u3 = symbols('u1:4')\n",
    "v1,v2,v3 = symbols('v1:4')\n",
    "Matrix([u1,u2,u3]).cross(Matrix([v1,v2,v3]))"
   ]
  },
  {
   "cell_type": "markdown",
   "metadata": {},
   "source": [
    "The dot product is anti-commutative $\\vec{u}\\times\\vec{v} = -\\vec{v}\\times\\vec{u}$:"
   ]
  },
  {
   "cell_type": "code",
   "execution_count": 152,
   "metadata": {
    "collapsed": false,
    "jupyter": {
     "outputs_hidden": false
    }
   },
   "outputs": [
    {
     "data": {
      "image/png": "[encoded data removed]",
      "text/latex": [
       "$$\\left[\\begin{matrix}4\\\\-14\\\\9\\end{matrix}\\right]$$"
      ],
      "text/plain": [
       "⎡ 4 ⎤\n",
       "⎢   ⎥\n",
       "⎢-14⎥\n",
       "⎢   ⎥\n",
       "⎣ 9 ⎦"
      ]
     },
     "execution_count": 152,
     "metadata": {},
     "output_type": "execute_result"
    }
   ],
   "source": [
    "u.cross(v)"
   ]
  },
  {
   "cell_type": "code",
   "execution_count": 153,
   "metadata": {
    "collapsed": false,
    "jupyter": {
     "outputs_hidden": false
    }
   },
   "outputs": [
    {
     "data": {
      "image/png": "[encoded data removed]",
      "text/latex": [
       "$$\\left[\\begin{matrix}-4\\\\14\\\\-9\\end{matrix}\\right]$$"
      ],
      "text/plain": [
       "⎡-4⎤\n",
       "⎢  ⎥\n",
       "⎢14⎥\n",
       "⎢  ⎥\n",
       "⎣-9⎦"
      ]
     },
     "execution_count": 153,
     "metadata": {},
     "output_type": "execute_result"
    }
   ],
   "source": [
    "v.cross(u)"
   ]
  },
  {
   "cell_type": "markdown",
   "metadata": {},
   "source": [
    "The product of two numbers and the dot product of two vectors are commutative operations.\n",
    "The cross product, however, is not commutative: $\\vec{u}\\times\\vec{v} \\neq \\vec{v}\\times\\vec{u}$."
   ]
  },
  {
   "cell_type": "markdown",
   "metadata": {},
   "source": [
    "## Mechanics"
   ]
  },
  {
   "cell_type": "markdown",
   "metadata": {},
   "source": [
    "The module called [`sympy.physics.mechanics`](http://pyvideo.org/video/2653/dynamics-and-control-with-python) \n",
    "contains elaborate tools for describing mechanical systems,\n",
    "manipulating reference frames, forces, and torques.\n",
    "These specialized functions are not necessary for a first-year mechanics course.\n",
    "The basic `SymPy` functions like `solve`,\n",
    "and the vector operations you learned in the previous sections are powerful enough for basic Newtonian mechanics."
   ]
  },
  {
   "cell_type": "markdown",
   "metadata": {},
   "source": [
    "### Dynamics"
   ]
  },
  {
   "cell_type": "markdown",
   "metadata": {},
   "source": [
    "The net force acting on an object is the sum of all the external forces acting on it $\\vec{F}_{\\textrm{net}} = \\sum \\vec{F}$.\n",
    "Since forces are vectors, \n",
    "we need to use vector addition to compute the net force.\n",
    "\n",
    "Compute\n",
    "$\\vec{F}_{\\textrm{net}}=\\vec{F}_1 + \\vec{F}_2$,\n",
    "where $\\vec{F}_1=4\\hat{\\imath}[\\mathrm{N}]$ and $\\vec{F}_2 = 5\\angle 30^\\circ[\\mathrm{N}]$:"
   ]
  },
  {
   "cell_type": "code",
   "execution_count": 154,
   "metadata": {
    "collapsed": false,
    "jupyter": {
     "outputs_hidden": false
    }
   },
   "outputs": [
    {
     "data": {
      "image/png": "[encoded data removed]",
      "text/latex": [
       "$$\\left[\\begin{matrix}4 + \\frac{5 \\sqrt{3}}{2}\\\\\\frac{5}{2}\\end{matrix}\\right]$$"
      ],
      "text/plain": [
       "⎡        ___⎤\n",
       "⎢    5⋅╲╱ 3 ⎥\n",
       "⎢4 + ───────⎥\n",
       "⎢       2   ⎥\n",
       "⎢           ⎥\n",
       "⎣    5/2    ⎦"
      ]
     },
     "execution_count": 154,
     "metadata": {},
     "output_type": "execute_result"
    }
   ],
   "source": [
    "F_1 =  Matrix( [4,0] ) \n",
    "F_2 =  Matrix( [5*cos(30*pi/180), 5*sin(30*pi/180) ] )\n",
    "F_net = F_1 + F_2\n",
    "F_net                                    # in Newtons"
   ]
  },
  {
   "cell_type": "code",
   "execution_count": 155,
   "metadata": {
    "collapsed": false,
    "jupyter": {
     "outputs_hidden": false
    }
   },
   "outputs": [
    {
     "data": {
      "image/png": "[encoded data removed]",
      "text/latex": [
       "$$\\left[\\begin{matrix}8.33012701892219\\\\2.5\\end{matrix}\\right]$$"
      ],
      "text/plain": [
       "⎡8.33012701892219⎤\n",
       "⎢                ⎥\n",
       "⎣      2.5       ⎦"
      ]
     },
     "execution_count": 155,
     "metadata": {},
     "output_type": "execute_result"
    }
   ],
   "source": [
    "F_net.evalf()                            # in Newtons"
   ]
  },
  {
   "cell_type": "markdown",
   "metadata": {},
   "source": [
    "To express the answer in length-and-direction notation,\n",
    "use `norm` to find the length of $\\vec{F}_{\\textrm{net}}$\n",
    "and `atan2` (The function `atan2(y,x)` computes the correct direction \n",
    "for all vectors $(x,y)$, unlike `atan(y/x)` which requires corrections for angles in the range $[\\frac{\\pi}{2}, \\frac{3\\pi}{2}]$.) to find its direction:"
   ]
  },
  {
   "cell_type": "code",
   "execution_count": 156,
   "metadata": {
    "collapsed": false,
    "jupyter": {
     "outputs_hidden": false
    }
   },
   "outputs": [
    {
     "data": {
      "image/png": "[encoded data removed]",
      "text/latex": [
       "$$8.69718438067042$$"
      ],
      "text/plain": [
       "8.69718438067042"
      ]
     },
     "execution_count": 156,
     "metadata": {},
     "output_type": "execute_result"
    }
   ],
   "source": [
    "F_net.norm().evalf()                     # |F_net| in [N]"
   ]
  },
  {
   "cell_type": "code",
   "execution_count": 157,
   "metadata": {
    "collapsed": false,
    "jupyter": {
     "outputs_hidden": false
    }
   },
   "outputs": [
    {
     "data": {
      "image/png": "[encoded data removed]",
      "text/latex": [
       "$$16.70531380601$$"
      ],
      "text/plain": [
       "16.7053138060100"
      ]
     },
     "execution_count": 157,
     "metadata": {},
     "output_type": "execute_result"
    }
   ],
   "source": [
    "(atan2( F_net[1],F_net[0] )*180/pi).n()  # angle in degrees"
   ]
  },
  {
   "cell_type": "markdown",
   "metadata": {},
   "source": [
    "The net force on the object is $\\vec{F}_{\\textrm{net}}= 8.697\\angle 16.7^\\circ$[N]."
   ]
  },
  {
   "cell_type": "markdown",
   "metadata": {},
   "source": [
    "### Kinematics"
   ]
  },
  {
   "cell_type": "markdown",
   "metadata": {},
   "source": [
    "Let $x(t)$ denote the position of an object,\n",
    "$v(t)$ denote its velocity,\n",
    "and $a(t)$ denote its acceleration.\n",
    "Together $x(t)$, $v(t)$, and $a(t)$ are known as the *equations of motion* of the object.\n",
    "\n",
    "The equations of motion are related by the derivative operation:\n",
    "\n",
    "$$\n",
    "  a(t) \\overset{\\frac{d}{dt} }{\\longleftarrow} v(t) \\overset{\\frac{d}{dt} }{\\longleftarrow} x(t).\n",
    "$$\n",
    "\n",
    "Assume we know the initial position $x_i\\equiv x(0)$ and the initial velocity $v_i\\equiv v(0)$ of the object \n",
    "and we want to find $x(t)$ for all later times.\n",
    "We can do this starting from the dynamics of the problem&mdash;the forces acting on the object.\n",
    "\n",
    "Newton's second law $\\vec{F}_{\\textrm{net}} = m\\vec{a}$ states that a net force $\\vec{F}_{\\textrm{net}}$\n",
    "applied on an object of mass $m$ produces acceleration $\\vec{a}$.\n",
    "Thus, we can obtain an objects acceleration if we know the net force acting on it.\n",
    "Starting from the knowledge of $a(t)$, we can obtain $v(t)$ by integrating\n",
    "then find $x(t)$ by integrating $v(t)$:\n",
    "\n",
    "$$\n",
    "a(t) \\ \\ \\ \\overset{v_i+ \\int\\!dt }{\\longrightarrow} \\ \\ \\ v(t) \\ \\ \\ \\overset{x_i+ \\int\\!dt }{\\longrightarrow} \\ \\ \\ x(t).\n",
    "$$\n",
    "\n",
    "The reasoning follows from the fundamental theorem of calculus:\n",
    "if $a(t)$ represents the change in $v(t)$, \n",
    "then the total of $a(t)$ accumulated between $t=t_1$ and $t=t_2$\n",
    "is equal to the total change in $v(t)$ between these times: $\\Delta v = v(t_2) - v(t_1)$.\n",
    "Similarly, the integral of $v(t)$ from $t=0$ until $t=\\tau$ is equal to $x(\\tau) - x(0)$."
   ]
  },
  {
   "cell_type": "markdown",
   "metadata": {},
   "source": [
    "### Uniform acceleration motion (UAM)"
   ]
  },
  {
   "cell_type": "markdown",
   "metadata": {},
   "source": [
    "Let's analyze the case where the net force on the object is constant.\n",
    "A constant force causes a constant acceleration $a = \\frac{F}{m} = \\textrm{constant}$.\n",
    "If the acceleration function is constant over time $a(t)=a$.\n",
    "We find $v(t)$ and $x(t)$ as follows:"
   ]
  },
  {
   "cell_type": "code",
   "execution_count": 158,
   "metadata": {
    "collapsed": false,
    "jupyter": {
     "outputs_hidden": false
    }
   },
   "outputs": [
    {
     "data": {
      "image/png": "[encoded data removed]",
      "text/latex": [
       "$$a t + v_{i}$$"
      ],
      "text/plain": [
       "a⋅t + vᵢ"
      ]
     },
     "execution_count": 158,
     "metadata": {},
     "output_type": "execute_result"
    }
   ],
   "source": [
    "t, a, v_i, x_i = symbols('t a v_i x_i')\n",
    "v = v_i + integrate(a, (t, 0,t) )\n",
    "v"
   ]
  },
  {
   "cell_type": "code",
   "execution_count": 159,
   "metadata": {
    "collapsed": false,
    "jupyter": {
     "outputs_hidden": false
    }
   },
   "outputs": [
    {
     "data": {
      "image/png": "[encoded data removed]",
      "text/latex": [
       "$$\\frac{a t^{2}}{2} + t v_{i} + x_{i}$$"
      ],
      "text/plain": [
       "   2            \n",
       "a⋅t             \n",
       "──── + t⋅vᵢ + xᵢ\n",
       " 2              "
      ]
     },
     "execution_count": 159,
     "metadata": {},
     "output_type": "execute_result"
    }
   ],
   "source": [
    "x = x_i + integrate(v, (t, 0,t) )\n",
    "x"
   ]
  },
  {
   "cell_type": "markdown",
   "metadata": {},
   "source": [
    "You may remember these equations from your high school physics class.\n",
    "They are the *uniform accelerated motion* (UAM) equations:\n",
    "\n",
    "\\begin{align*}\n",
    " a(t) &= a,                                  \\\\ \n",
    " v(t) &= v_i  + at,                          \\\\[-2mm] \n",
    " x(t) &= x_i + v_it + \\frac{1}{2}at^2.\n",
    "\\end{align*}\n",
    "\n",
    "In high school, you probably had to memorize these equations.\n",
    "Now you know how to derive them yourself starting from first principles.\n",
    "\n",
    "For the sake of completeness, we'll now derive the fourth UAM equation,\n",
    "which relates the object's final velocity to the initial velocity,\n",
    "the displacement, and the acceleration, without reference to time:"
   ]
  },
  {
   "cell_type": "code",
   "execution_count": 160,
   "metadata": {
    "collapsed": false,
    "jupyter": {
     "outputs_hidden": false
    }
   },
   "outputs": [
    {
     "data": {
      "image/png": "[encoded data removed]",
      "text/latex": [
       "$$a^{2} t^{2} + 2 a t v_{i} + v_{i}^{2}$$"
      ],
      "text/plain": [
       " 2  2                2\n",
       "a ⋅t  + 2⋅a⋅t⋅vᵢ + vᵢ "
      ]
     },
     "execution_count": 160,
     "metadata": {},
     "output_type": "execute_result"
    }
   ],
   "source": [
    "(v*v).expand()"
   ]
  },
  {
   "cell_type": "code",
   "execution_count": 161,
   "metadata": {
    "collapsed": false,
    "jupyter": {
     "outputs_hidden": false
    }
   },
   "outputs": [
    {
     "data": {
      "image/png": "[encoded data removed]",
      "text/latex": [
       "$$- 2 a x_{i} + v_{i}^{2}$$"
      ],
      "text/plain": [
       "            2\n",
       "-2⋅a⋅xᵢ + vᵢ "
      ]
     },
     "execution_count": 161,
     "metadata": {},
     "output_type": "execute_result"
    }
   ],
   "source": [
    "((v*v).expand() - 2*a*x).simplify()"
   ]
  },
  {
   "cell_type": "markdown",
   "metadata": {},
   "source": [
    "The above calculation shows $v_f^2 - 2ax_f = -2ax_i + v_i^2$.\n",
    "After moving the term $2ax_f$ to the other side of the equation, we obtain\n",
    "\n",
    "\\begin{align*}\n",
    " (v(t))^2 \\ = \\ v_f^2 =  v_i^2  + 2a\\Delta x \\ = \\  v_i^2  + 2a(x_f-x_i).\n",
    "\\end{align*}\n",
    "\n",
    "The fourth equation is important for practical purposes\n",
    "because it allows us to solve physics problems in a time-less manner."
   ]
  },
  {
   "cell_type": "markdown",
   "metadata": {},
   "source": [
    "#### Example"
   ]
  },
  {
   "cell_type": "markdown",
   "metadata": {},
   "source": [
    "Find the position function of an object at time $t=3[\\mathrm{s}]$, \n",
    "if it starts from $x_i=20[\\mathrm{m}]$ with $v_i=10[\\mathrm{m/s}]$ and undergoes \n",
    "a constant acceleration of $a=5[\\mathrm{m/s^2}]$.\n",
    "What is the object's velocity at $t=3[\\mathrm{s}]$?"
   ]
  },
  {
   "cell_type": "code",
   "execution_count": 162,
   "metadata": {
    "collapsed": false,
    "jupyter": {
     "outputs_hidden": false
    }
   },
   "outputs": [
    {
     "data": {
      "image/png": "[encoded data removed]",
      "text/latex": [
       "$$\\frac{5 t^{2}}{2} + 10 t + 20$$"
      ],
      "text/plain": [
       "   2            \n",
       "5⋅t             \n",
       "──── + 10⋅t + 20\n",
       " 2              "
      ]
     },
     "execution_count": 162,
     "metadata": {},
     "output_type": "execute_result"
    }
   ],
   "source": [
    "x_i = 20  # initial position\n",
    "v_i = 10  # initial velocity\n",
    "a   = 5   # acceleration (constant during motion)\n",
    "x = x_i + integrate( v_i+integrate(a,(t,0,t)), (t,0,t) )   \n",
    "x"
   ]
  },
  {
   "cell_type": "code",
   "execution_count": 163,
   "metadata": {
    "collapsed": false,
    "jupyter": {
     "outputs_hidden": false
    }
   },
   "outputs": [
    {
     "data": {
      "image/png": "[encoded data removed]",
      "text/latex": [
       "$$72.5$$"
      ],
      "text/plain": [
       "72.5000000000000"
      ]
     },
     "execution_count": 163,
     "metadata": {},
     "output_type": "execute_result"
    }
   ],
   "source": [
    "x.subs({t:3}).n()          # x(3) in [m]"
   ]
  },
  {
   "cell_type": "code",
   "execution_count": 164,
   "metadata": {
    "collapsed": false,
    "jupyter": {
     "outputs_hidden": false
    }
   },
   "outputs": [
    {
     "data": {
      "image/png": "[encoded data removed]",
      "text/latex": [
       "$$25.0$$"
      ],
      "text/plain": [
       "25.0000000000000"
      ]
     },
     "execution_count": 164,
     "metadata": {},
     "output_type": "execute_result"
    }
   ],
   "source": [
    "diff(x,t).subs({t:3}).n()  # v(3) in [m/s]"
   ]
  },
  {
   "cell_type": "markdown",
   "metadata": {},
   "source": [
    "If you think about it,\n",
    "physics knowledge combined with computer skills is like a superpower!"
   ]
  },
  {
   "cell_type": "markdown",
   "metadata": {},
   "source": [
    "### General equations of motion"
   ]
  },
  {
   "cell_type": "markdown",
   "metadata": {},
   "source": [
    "The procedure \n",
    "$a(t) \\ \\overset{v_i+ \\int\\!dt }{\\longrightarrow} \\ v(t) \\ \\overset{x_i+ \\int\\!dt }{\\longrightarrow} \\ x(t)$\n",
    "can be used to obtain the position function $x(t)$ even when the acceleration is not constant.\n",
    "Suppose the acceleration of an object is $a(t)=\\sqrt{k t}$; \n",
    "what is its $x(t)$?"
   ]
  },
  {
   "cell_type": "code",
   "execution_count": 165,
   "metadata": {
    "collapsed": false,
    "jupyter": {
     "outputs_hidden": false
    }
   },
   "outputs": [
    {
     "data": {
      "image/png": "[encoded data removed]",
      "text/latex": [
       "$$t v_{i} + x_{i} + \\frac{4 \\left(k t\\right)^{\\frac{5}{2}}}{15 k^{2}}$$"
      ],
      "text/plain": [
       "                   5/2\n",
       "            4⋅(k⋅t)   \n",
       "t⋅vᵢ + xᵢ + ──────────\n",
       "                  2   \n",
       "              15⋅k    "
      ]
     },
     "execution_count": 165,
     "metadata": {},
     "output_type": "execute_result"
    }
   ],
   "source": [
    "t, v_i, x_i, k = symbols('t v_i x_i k')\n",
    "a = sqrt(k*t)\n",
    "x = x_i + integrate( v_i+integrate(a,(t,0,t)), (t, 0,t) )\n",
    "x"
   ]
  },
  {
   "cell_type": "markdown",
   "metadata": {},
   "source": [
    "### Potential energy"
   ]
  },
  {
   "cell_type": "markdown",
   "metadata": {},
   "source": [
    "Instead of working with the kinematic equations of motion $x(t)$, $v(t)$, and $a(t)$ which depend on time,\n",
    "we can solve physics problems using *energy* calculations.\n",
    "A key connection between the world of forces and the world of energy is the concept of *potential energy*.\n",
    "If you move an object against a conservative force (think raising a ball in the air against the force of gravity),\n",
    "you can think of the work you do agains the force as being stored in the potential energy of the object.\n",
    "\n",
    "For each force $\\vec{F}(x)$ there is a corresponding potential energy $U_F(x)$.\n",
    "The change in potential energy associated with the force $\\vec{F}(x)$ and displacement $\\vec{d}$\n",
    "is defined as the negative of the work done by the force during the displacement: $U_F(x) = - W = - \\int_{\\vec{d}} \\vec{F}(x)\\cdot d\\vec{x}$.\n",
    "\n",
    "The potential energies associated with gravity $\\vec{F}_g = -mg\\hat{\\jmath}$\n",
    "and the force of a spring $\\vec{F}_s = -k\\vec{x}$ are calculated as follows:"
   ]
  },
  {
   "cell_type": "code",
   "execution_count": 166,
   "metadata": {
    "collapsed": false,
    "jupyter": {
     "outputs_hidden": false
    }
   },
   "outputs": [
    {
     "data": {
      "image/png": "[encoded data removed]",
      "text/latex": [
       "$$g h m$$"
      ],
      "text/plain": [
       "g⋅h⋅m"
      ]
     },
     "execution_count": 166,
     "metadata": {},
     "output_type": "execute_result"
    }
   ],
   "source": [
    "x, y = symbols('x y')\n",
    "m, g, k, h = symbols('m g k h')\n",
    "F_g = -m*g  # Force of gravity on mass m \n",
    "U_g = - integrate( F_g, (y,0,h) )\n",
    "U_g         # Grav. potential energy"
   ]
  },
  {
   "cell_type": "code",
   "execution_count": 167,
   "metadata": {
    "collapsed": false,
    "jupyter": {
     "outputs_hidden": false
    }
   },
   "outputs": [
    {
     "data": {
      "image/png": "[encoded data removed]",
      "text/latex": [
       "$$\\frac{k x^{2}}{2}$$"
      ],
      "text/plain": [
       "   2\n",
       "k⋅x \n",
       "────\n",
       " 2  "
      ]
     },
     "execution_count": 167,
     "metadata": {},
     "output_type": "execute_result"
    }
   ],
   "source": [
    "F_s = -k*x  # Spring force for displacement x \n",
    "U_s = - integrate( F_s, (x,0,x) )\n",
    "U_s         # Spring potential energy"
   ]
  },
  {
   "cell_type": "markdown",
   "metadata": {},
   "source": [
    "Note the negative sign in the formula defining the potential energy.\n",
    "This negative is canceled by the negative sign of the dot product $\\vec{F}\\cdot d\\vec{x}$:\n",
    "when the force acts in the direction opposite to the displacement, \n",
    "the work done by the force is negative."
   ]
  },
  {
   "cell_type": "markdown",
   "metadata": {},
   "source": [
    "### Simple harmonic motion"
   ]
  },
  {
   "cell_type": "markdown",
   "metadata": {},
   "source": [
    "The force exerted by a spring is given by the formula $F=-kx$.\n",
    "If the only force acting on a mass $m$ is the force of a spring,\n",
    "we can use Newton's second law to obtain the following equation:\n",
    "\n",
    "$$\n",
    "  F=ma  \n",
    "  \\quad \\Rightarrow \\quad\n",
    "  -kx = ma   \n",
    "  \\quad \\Rightarrow \\quad\n",
    "  -kx(t) = m\\frac{d^2}{dt^2}\\Big[x(t)\\Big].\n",
    "$$\n",
    "\n",
    "The motion of a mass-spring system is described by the *differential equation* $\\frac{d^2}{dt^2}x(t) + \\omega^2 x(t)=0$,\n",
    "where the constant $\\omega = \\sqrt{\\frac{k}{m}}$ is called the angular frequency.\n",
    "We can find the position function $x(t)$ using the `dsolve` method:"
   ]
  },
  {
   "cell_type": "code",
   "execution_count": 168,
   "metadata": {
    "collapsed": false,
    "jupyter": {
     "outputs_hidden": false
    }
   },
   "outputs": [
    {
     "data": {
      "image/png": "[encoded data removed]",
      "text/latex": [
       "$$x{\\left (t \\right )} = C_{1} \\sin{\\left (t w \\right )} + C_{2} \\cos{\\left (t w \\right )}$$"
      ],
      "text/plain": [
       "x(t) = C₁⋅sin(t⋅w) + C₂⋅cos(t⋅w)"
      ]
     },
     "execution_count": 168,
     "metadata": {},
     "output_type": "execute_result"
    }
   ],
   "source": [
    "t = Symbol('t')                 # time t\n",
    "x = Function('x')               # position function x(t)\n",
    "w = Symbol('w', positive=True)  # angular frequency w\n",
    "sol = dsolve( diff(x(t),t,t) + w**2*x(t), x(t) )\n",
    "sol"
   ]
  },
  {
   "cell_type": "code",
   "execution_count": 169,
   "metadata": {
    "collapsed": false,
    "jupyter": {
     "outputs_hidden": false
    }
   },
   "outputs": [
    {
     "data": {
      "image/png": "[encoded data removed]",
      "text/latex": [
       "$$C_{1} \\sin{\\left (t w \\right )} + C_{2} \\cos{\\left (t w \\right )}$$"
      ],
      "text/plain": [
       "C₁⋅sin(t⋅w) + C₂⋅cos(t⋅w)"
      ]
     },
     "execution_count": 169,
     "metadata": {},
     "output_type": "execute_result"
    }
   ],
   "source": [
    "x = sol.rhs           \n",
    "x"
   ]
  },
  {
   "cell_type": "markdown",
   "metadata": {},
   "source": [
    "Note the solution $x(t)=C_1\\sin(\\omega t)+C_2 \\cos(\\omega t)$ is equivalent to $x(t) = A\\cos(\\omega t + \\phi)$, \n",
    "which is more commonly used to describe simple harmonic motion. \n",
    "We can use the `expand` function with the argument `trig=True` to convince ourselves of this equivalence:"
   ]
  },
  {
   "cell_type": "code",
   "execution_count": 170,
   "metadata": {
    "collapsed": false,
    "jupyter": {
     "outputs_hidden": false
    }
   },
   "outputs": [
    {
     "data": {
      "image/png": "[encoded data removed]",
      "text/latex": [
       "$$A \\sin{\\left (\\phi \\right )} \\sin{\\left (t w \\right )} + A \\cos{\\left (\\phi \\right )} \\cos{\\left (t w \\right )}$$"
      ],
      "text/plain": [
       "A⋅sin(φ)⋅sin(t⋅w) + A⋅cos(φ)⋅cos(t⋅w)"
      ]
     },
     "execution_count": 170,
     "metadata": {},
     "output_type": "execute_result"
    }
   ],
   "source": [
    "A, phi = symbols(\"A phi\")\n",
    "(A*cos(w*t - phi)).expand(trig=True)"
   ]
  },
  {
   "cell_type": "markdown",
   "metadata": {},
   "source": [
    "If we define $C_1=A\\sin(\\phi)$ and $C_2=A\\cos(\\phi)$, \n",
    "we obtain the form $x(t)=C_1\\sin(\\omega t)+C_2 \\cos(\\omega t)$ that `SymPy` found."
   ]
  },
  {
   "cell_type": "markdown",
   "metadata": {},
   "source": [
    "### Conservation of energy"
   ]
  },
  {
   "cell_type": "markdown",
   "metadata": {},
   "source": [
    "We can verify that the total energy of the mass-spring system is conserved by showing \n",
    "$E_T(t) = U_s(t) + K(t) = \\textrm{constant}$:"
   ]
  },
  {
   "cell_type": "code",
   "execution_count": 171,
   "metadata": {
    "collapsed": false,
    "jupyter": {
     "outputs_hidden": false
    }
   },
   "outputs": [
    {
     "data": {
      "image/png": "[encoded data removed]",
      "text/latex": [
       "$$A \\cos{\\left (t w \\right )}$$"
      ],
      "text/plain": [
       "A⋅cos(t⋅w)"
      ]
     },
     "execution_count": 171,
     "metadata": {},
     "output_type": "execute_result"
    }
   ],
   "source": [
    "x = sol.rhs.subs({\"C1\":0,\"C2\":A}) \n",
    "x"
   ]
  },
  {
   "cell_type": "code",
   "execution_count": 172,
   "metadata": {
    "collapsed": false,
    "jupyter": {
     "outputs_hidden": false
    }
   },
   "outputs": [
    {
     "data": {
      "image/png": "[encoded data removed]",
      "text/latex": [
       "$$- A w \\sin{\\left (t w \\right )}$$"
      ],
      "text/plain": [
       "-A⋅w⋅sin(t⋅w)"
      ]
     },
     "execution_count": 172,
     "metadata": {},
     "output_type": "execute_result"
    }
   ],
   "source": [
    "v = diff(x, t)\n",
    "v"
   ]
  },
  {
   "cell_type": "code",
   "execution_count": 173,
   "metadata": {
    "collapsed": false,
    "jupyter": {
     "outputs_hidden": false
    }
   },
   "outputs": [
    {
     "data": {
      "image/png": "[encoded data removed]",
      "text/latex": [
       "$$0.5 A^{2} \\left(k \\cos^{2}{\\left (t w \\right )} + m w^{2} \\sin^{2}{\\left (t w \\right )}\\right)$$"
      ],
      "text/plain": [
       "     2 ⎛     2           2    2     ⎞\n",
       "0.5⋅A ⋅⎝k⋅cos (t⋅w) + m⋅w ⋅sin (t⋅w)⎠"
      ]
     },
     "execution_count": 173,
     "metadata": {},
     "output_type": "execute_result"
    }
   ],
   "source": [
    "E_T = (0.5*k*x**2 + 0.5*m*v**2).simplify()\n",
    "E_T"
   ]
  },
  {
   "cell_type": "code",
   "execution_count": 174,
   "metadata": {
    "collapsed": false,
    "jupyter": {
     "outputs_hidden": false
    }
   },
   "outputs": [
    {
     "data": {
      "image/png": "[encoded data removed]",
      "text/latex": [
       "$$0.5 A^{2} m w^{2}$$"
      ],
      "text/plain": [
       "     2    2\n",
       "0.5⋅A ⋅m⋅w "
      ]
     },
     "execution_count": 174,
     "metadata": {},
     "output_type": "execute_result"
    }
   ],
   "source": [
    "E_T.subs({k:m*w**2}).simplify()     # = K_max"
   ]
  },
  {
   "cell_type": "code",
   "execution_count": 175,
   "metadata": {
    "collapsed": false,
    "jupyter": {
     "outputs_hidden": false
    }
   },
   "outputs": [
    {
     "data": {
      "image/png": "[encoded data removed]",
      "text/latex": [
       "$$0.5 A^{2} k$$"
      ],
      "text/plain": [
       "     2  \n",
       "0.5⋅A ⋅k"
      ]
     },
     "execution_count": 175,
     "metadata": {},
     "output_type": "execute_result"
    }
   ],
   "source": [
    "E_T.subs({w:sqrt(k/m)}).simplify()  # = U_max"
   ]
  },
  {
   "cell_type": "markdown",
   "metadata": {},
   "source": [
    "## Linear algebra"
   ]
  },
  {
   "cell_type": "markdown",
   "metadata": {},
   "source": [
    "A matrix $A \\in \\mathbb{R}^{m\\times n}$ is a rectangular array of real numbers with $m$ rows and $n$ columns.\n",
    "To specify a matrix $A$, we specify the values for its $mn$ components $a_{11}, a_{12}, \\ldots, a_{mn}$\n",
    "as a list of lists:"
   ]
  },
  {
   "cell_type": "code",
   "execution_count": 176,
   "metadata": {
    "collapsed": false,
    "jupyter": {
     "outputs_hidden": false
    }
   },
   "outputs": [],
   "source": [
    "A = Matrix( [[ 2,-3,-8, 7],\n",
    "             [-2,-1, 2,-7],\n",
    "             [ 1, 0,-3, 6]] )"
   ]
  },
  {
   "cell_type": "markdown",
   "metadata": {},
   "source": [
    "Use the square brackets to access the matrix elements or to obtain a submatrix:"
   ]
  },
  {
   "cell_type": "code",
   "execution_count": 177,
   "metadata": {
    "collapsed": false,
    "jupyter": {
     "outputs_hidden": false
    }
   },
   "outputs": [
    {
     "data": {
      "image/png": "[encoded data removed]",
      "text/latex": [
       "$$-3$$"
      ],
      "text/plain": [
       "-3"
      ]
     },
     "execution_count": 177,
     "metadata": {},
     "output_type": "execute_result"
    }
   ],
   "source": [
    "A[0,1]         # row 0, col 1 of A"
   ]
  },
  {
   "cell_type": "code",
   "execution_count": 178,
   "metadata": {
    "collapsed": false,
    "jupyter": {
     "outputs_hidden": false
    }
   },
   "outputs": [
    {
     "data": {
      "image/png": "[encoded data removed]",
      "text/latex": [
       "$$\\left[\\begin{matrix}2 & -3 & -8\\\\-2 & -1 & 2\\end{matrix}\\right]$$"
      ],
      "text/plain": [
       "⎡2   -3  -8⎤\n",
       "⎢          ⎥\n",
       "⎣-2  -1  2 ⎦"
      ]
     },
     "execution_count": 178,
     "metadata": {},
     "output_type": "execute_result"
    }
   ],
   "source": [
    "A[0:2,0:3]     # top-left 2x3 submatrix of A"
   ]
  },
  {
   "cell_type": "markdown",
   "metadata": {},
   "source": [
    "Some commonly used matrices can be created with shortcut methods:"
   ]
  },
  {
   "cell_type": "code",
   "execution_count": 179,
   "metadata": {
    "collapsed": false,
    "jupyter": {
     "outputs_hidden": false
    }
   },
   "outputs": [
    {
     "data": {
      "image/png": "[encoded data removed]",
      "text/latex": [
       "$$\\left[\\begin{matrix}1 & 0\\\\0 & 1\\end{matrix}\\right]$$"
      ],
      "text/plain": [
       "⎡1  0⎤\n",
       "⎢    ⎥\n",
       "⎣0  1⎦"
      ]
     },
     "execution_count": 179,
     "metadata": {},
     "output_type": "execute_result"
    }
   ],
   "source": [
    "eye(2)         # 2x2 identity matrix"
   ]
  },
  {
   "cell_type": "code",
   "execution_count": 180,
   "metadata": {
    "collapsed": false,
    "jupyter": {
     "outputs_hidden": false
    }
   },
   "outputs": [
    {
     "data": {
      "image/png": "[encoded data removed]",
      "text/latex": [
       "$$\\left[\\begin{matrix}0 & 0 & 0\\\\0 & 0 & 0\\end{matrix}\\right]$$"
      ],
      "text/plain": [
       "⎡0  0  0⎤\n",
       "⎢       ⎥\n",
       "⎣0  0  0⎦"
      ]
     },
     "execution_count": 180,
     "metadata": {},
     "output_type": "execute_result"
    }
   ],
   "source": [
    "zeros(2, 3)"
   ]
  },
  {
   "cell_type": "markdown",
   "metadata": {},
   "source": [
    "Standard algebraic operations like \n",
    "addition `+`, subtraction `-`, multiplication `*`,\n",
    "and exponentiation `**` work as expected for `Matrix` objects.\n",
    "The `transpose` operation flips the matrix through its diagonal:"
   ]
  },
  {
   "cell_type": "code",
   "execution_count": 181,
   "metadata": {
    "collapsed": false,
    "jupyter": {
     "outputs_hidden": false
    }
   },
   "outputs": [
    {
     "data": {
      "image/png": "[encoded data removed]",
      "text/latex": [
       "$$\\left[\\begin{matrix}2 & -2 & 1\\\\-3 & -1 & 0\\\\-8 & 2 & -3\\\\7 & -7 & 6\\end{matrix}\\right]$$"
      ],
      "text/plain": [
       "⎡2   -2  1 ⎤\n",
       "⎢          ⎥\n",
       "⎢-3  -1  0 ⎥\n",
       "⎢          ⎥\n",
       "⎢-8  2   -3⎥\n",
       "⎢          ⎥\n",
       "⎣7   -7  6 ⎦"
      ]
     },
     "execution_count": 181,
     "metadata": {},
     "output_type": "execute_result"
    }
   ],
   "source": [
    "A.transpose()  # the same as A.T"
   ]
  },
  {
   "cell_type": "markdown",
   "metadata": {},
   "source": [
    "Recall that the transpose is also used to convert row vectors into column vectors and vice versa."
   ]
  },
  {
   "cell_type": "markdown",
   "metadata": {},
   "source": [
    "### Row operations"
   ]
  },
  {
   "cell_type": "code",
   "execution_count": 182,
   "metadata": {
    "collapsed": false,
    "jupyter": {
     "outputs_hidden": false
    }
   },
   "outputs": [
    {
     "data": {
      "image/png": "[encoded data removed]",
      "text/latex": [
       "$$\\left[\\begin{matrix}1 & 0 & 0\\\\3 & 1 & 0\\\\0 & 0 & 1\\end{matrix}\\right]$$"
      ],
      "text/plain": [
       "⎡1  0  0⎤\n",
       "⎢       ⎥\n",
       "⎢3  1  0⎥\n",
       "⎢       ⎥\n",
       "⎣0  0  1⎦"
      ]
     },
     "execution_count": 182,
     "metadata": {},
     "output_type": "execute_result"
    }
   ],
   "source": [
    "M = eye(3)\n",
    "M.row_op(1, lambda v,j: v+3*M[0,j] )\n",
    "M"
   ]
  },
  {
   "cell_type": "markdown",
   "metadata": {},
   "source": [
    "The method `row_op` takes two arguments as inputs:\n",
    "the first argument specifies the 0-based index of the row you want to act on,\n",
    "while the second argument is a function of the form `f(val,j)`\n",
    "that describes how you want the value `val=M[i,j]` to be transformed.\n",
    "The above call to `row_op` implements the row operation $R_2 \\gets R_2 + 3R_1$."
   ]
  },
  {
   "cell_type": "markdown",
   "metadata": {},
   "source": [
    "### Reduced row echelon form"
   ]
  },
  {
   "cell_type": "markdown",
   "metadata": {},
   "source": [
    "The Gauss&mdash;Jordan elimination procedure is a sequence of row operations you can perform\n",
    "on any matrix to bring it to its *reduced row echelon form* (RREF).\n",
    "In `SymPy`, matrices have a `rref` method that computes their RREF:"
   ]
  },
  {
   "cell_type": "code",
   "execution_count": 183,
   "metadata": {
    "collapsed": false,
    "jupyter": {
     "outputs_hidden": false
    }
   },
   "outputs": [
    {
     "data": {
      "image/png": "[encoded data removed]",
      "text/latex": [
       "$$\\left ( \\left[\\begin{matrix}1 & 0 & 0 & 0\\\\0 & 1 & 0 & 3\\\\0 & 0 & 1 & -2\\end{matrix}\\right], \\quad \\left [ 0, \\quad 1, \\quad 2\\right ]\\right )$$"
      ],
      "text/plain": [
       "⎛⎡1  0  0  0 ⎤, [0, 1, 2]⎞\n",
       "⎜⎢           ⎥           ⎟\n",
       "⎜⎢0  1  0  3 ⎥           ⎟\n",
       "⎜⎢           ⎥           ⎟\n",
       "⎝⎣0  0  1  -2⎦           ⎠"
      ]
     },
     "execution_count": 183,
     "metadata": {},
     "output_type": "execute_result"
    }
   ],
   "source": [
    "A = Matrix( [[2,-3,-8, 7],\n",
    "             [-2,-1,2,-7],\n",
    "             [1, 0,-3, 6]])\n",
    "A.rref()  # RREF of A, location of pivots"
   ]
  },
  {
   "cell_type": "markdown",
   "metadata": {},
   "source": [
    "Note the `rref` method returns a tuple of values:\n",
    "the first value is the RREF of $A$,\n",
    "while the second tells you the indices of the leading ones (also known as pivots) in the RREF of $A$.\n",
    "To get just the RREF of $A$, select the $0^\\mathrm{th}$ entry form the tuple: `A.rref()[0]`."
   ]
  },
  {
   "cell_type": "markdown",
   "metadata": {},
   "source": [
    "### Matrix fundamental spaces"
   ]
  },
  {
   "cell_type": "markdown",
   "metadata": {},
   "source": [
    "Consider the matrix $A \\in \\mathbb{R}^{m\\times n}$.\n",
    "The fundamental spaces of a matrix are its column space $\\mathcal{C}(A)$, \n",
    "its null space $\\mathcal{N}(A)$,\n",
    "and its row space $\\mathcal{R}(A)$.\n",
    "These vector spaces are important when you consider the matrix product\n",
    "$A\\vec{x}=\\vec{y}$ as &ldquo;applying&rdquo; the linear transformation $T_A:\\mathbb{R}^n \\to \\mathbb{R}^m$\n",
    "to an input vector $\\vec{x} \\in \\mathbb{R}^n$ to produce the output vector $\\vec{y} \\in \\mathbb{R}^m$.\n",
    "\n",
    "**Linear transformations** $T_A:\\mathbb{R}^n \\to \\mathbb{R}^m$ (vector functions)\n",
    "**are equivalent to $m\\times n$ matrices**.\n",
    "This is one of the fundamental ideas in linear algebra.\n",
    "You can think of $T_A$ as the abstract description of the transformation \n",
    "and $A \\in \\mathbb{R}^{m\\times n}$ as a concrete implementation of $T_A$.\n",
    "By this equivalence, \n",
    "the fundamental spaces of a matrix $A$\n",
    "tell us facts about the domain and image of the linear transformation $T_A$.\n",
    "The columns space $\\mathcal{C}(A)$ is the same as the image space space $\\textrm{Im}(T_A)$ (the set of all possible outputs).\n",
    "The null space $\\mathcal{N}(A)$ is the same as the kernel $\\textrm{Ker}(T_A)$ (the set of inputs that $T_A$ maps to the zero vector).\n",
    "The row space $\\mathcal{R}(A)$ is the orthogonal complement of the null space.\n",
    "Input vectors in the row space of $A$ are in one-to-one correspondence with the output vectors in the column space of $A$.\n",
    "\n",
    "Okay, enough theory! Let's see how to compute the fundamental spaces of the matrix $A$ defined above.\n",
    "The non-zero rows in the reduced row echelon form of $A$ are a basis for its row space:"
   ]
  },
  {
   "cell_type": "code",
   "execution_count": 184,
   "metadata": {
    "collapsed": false,
    "jupyter": {
     "outputs_hidden": false
    }
   },
   "outputs": [
    {
     "data": {
      "image/png": "[encoded data removed]",
      "text/latex": [
       "$$\\left [ \\left[\\begin{matrix}1 & 0 & 0 & 0\\end{matrix}\\right], \\quad \\left[\\begin{matrix}0 & 1 & 0 & 3\\end{matrix}\\right], \\quad \\left[\\begin{matrix}0 & 0 & 1 & -2\\end{matrix}\\right]\\right ]$$"
      ],
      "text/plain": [
       "[[1  0  0  0], [0  1  0  3], [0  0  1  -2]]"
      ]
     },
     "execution_count": 184,
     "metadata": {},
     "output_type": "execute_result"
    }
   ],
   "source": [
    "[ A.rref()[0][r,:] for r in A.rref()[1] ]  # R(A)"
   ]
  },
  {
   "cell_type": "markdown",
   "metadata": {},
   "source": [
    "The column space of $A$ is the span of the columns of $A$ that contain the pivots\n",
    "in the reduced row echelon form of $A$:"
   ]
  },
  {
   "cell_type": "code",
   "execution_count": 185,
   "metadata": {
    "collapsed": false,
    "jupyter": {
     "outputs_hidden": false
    }
   },
   "outputs": [
    {
     "data": {
      "image/png": "[encoded data removed]",
      "text/latex": [
       "$$\\left [ \\left[\\begin{matrix}2\\\\-2\\\\1\\end{matrix}\\right], \\quad \\left[\\begin{matrix}-3\\\\-1\\\\0\\end{matrix}\\right], \\quad \\left[\\begin{matrix}-8\\\\2\\\\-3\\end{matrix}\\right]\\right ]$$"
      ],
      "text/plain": [
       "⎡⎡2 ⎤, ⎡-3⎤, ⎡-8⎤⎤\n",
       "⎢⎢  ⎥  ⎢  ⎥  ⎢  ⎥⎥\n",
       "⎢⎢-2⎥  ⎢-1⎥  ⎢2 ⎥⎥\n",
       "⎢⎢  ⎥  ⎢  ⎥  ⎢  ⎥⎥\n",
       "⎣⎣1 ⎦  ⎣0 ⎦  ⎣-3⎦⎦"
      ]
     },
     "execution_count": 185,
     "metadata": {},
     "output_type": "execute_result"
    }
   ],
   "source": [
    "[ A[:,c] for c in  A.rref()[1] ]           # C(A)"
   ]
  },
  {
   "cell_type": "markdown",
   "metadata": {},
   "source": [
    "Note we took columns from the original matrix $A$ and not its RREF.\n",
    "\n",
    "To find the null space of $A$, call its `nullspace` method:"
   ]
  },
  {
   "cell_type": "code",
   "execution_count": 186,
   "metadata": {
    "collapsed": false,
    "jupyter": {
     "outputs_hidden": false
    }
   },
   "outputs": [
    {
     "data": {
      "image/png": "[encoded data removed]",
      "text/latex": [
       "$$\\left [ \\left[\\begin{matrix}0\\\\-3\\\\2\\\\1\\end{matrix}\\right]\\right ]$$"
      ],
      "text/plain": [
       "⎡⎡0 ⎤⎤\n",
       "⎢⎢  ⎥⎥\n",
       "⎢⎢-3⎥⎥\n",
       "⎢⎢  ⎥⎥\n",
       "⎢⎢2 ⎥⎥\n",
       "⎢⎢  ⎥⎥\n",
       "⎣⎣1 ⎦⎦"
      ]
     },
     "execution_count": 186,
     "metadata": {},
     "output_type": "execute_result"
    }
   ],
   "source": [
    "A.nullspace()                              # N(A)"
   ]
  },
  {
   "cell_type": "markdown",
   "metadata": {},
   "source": [
    "### Determinants"
   ]
  },
  {
   "cell_type": "markdown",
   "metadata": {},
   "source": [
    "The determinant of a matrix, \n",
    "denoted $\\det(A)$ or $|A|$, \n",
    "is a particular way to multiply the entries of the matrix to produce a single number."
   ]
  },
  {
   "cell_type": "code",
   "execution_count": 187,
   "metadata": {
    "collapsed": false,
    "jupyter": {
     "outputs_hidden": false
    }
   },
   "outputs": [
    {
     "data": {
      "image/png": "[encoded data removed]",
      "text/latex": [
       "$$2$$"
      ],
      "text/plain": [
       "2"
      ]
     },
     "execution_count": 187,
     "metadata": {},
     "output_type": "execute_result"
    }
   ],
   "source": [
    "M = Matrix( [[1, 2, 3], \n",
    "             [2,-2, 4],\n",
    "             [2, 2, 5]] )\n",
    "M.det()"
   ]
  },
  {
   "cell_type": "markdown",
   "metadata": {},
   "source": [
    "Determinants are used for all kinds of tasks:\n",
    "to compute areas and volumes,\n",
    "to solve systems of equations, \n",
    "and to check whether a matrix is invertible or not."
   ]
  },
  {
   "cell_type": "markdown",
   "metadata": {},
   "source": [
    "### Matrix inverse"
   ]
  },
  {
   "cell_type": "markdown",
   "metadata": {},
   "source": [
    "For every invertible matrix $A$,\n",
    "there exists an inverse matrix $A^{-1}$ which *undoes* the effect of $A$.\n",
    "The cumulative effect of the product of $A$ and $A^{-1}$ (in any order)\n",
    "is the identity matrix: $AA^{-1}= A^{-1}A=\\mathbb{1}$."
   ]
  },
  {
   "cell_type": "code",
   "execution_count": 188,
   "metadata": {
    "collapsed": false,
    "jupyter": {
     "outputs_hidden": false
    }
   },
   "outputs": [
    {
     "data": {
      "image/png": "[encoded data removed]",
      "text/latex": [
       "$$\\left[\\begin{matrix}3 & - \\frac{2}{3}\\\\-1 & \\frac{1}{3}\\end{matrix}\\right]$$"
      ],
      "text/plain": [
       "⎡3   -2/3⎤\n",
       "⎢        ⎥\n",
       "⎣-1  1/3 ⎦"
      ]
     },
     "execution_count": 188,
     "metadata": {},
     "output_type": "execute_result"
    }
   ],
   "source": [
    "A = Matrix( [[1,2], \n",
    "             [3,9]] ) \n",
    "A.inv()"
   ]
  },
  {
   "cell_type": "code",
   "execution_count": 189,
   "metadata": {
    "collapsed": false,
    "jupyter": {
     "outputs_hidden": false
    }
   },
   "outputs": [
    {
     "data": {
      "image/png": "[encoded data removed]",
      "text/latex": [
       "$$\\left[\\begin{matrix}1 & 0\\\\0 & 1\\end{matrix}\\right]$$"
      ],
      "text/plain": [
       "⎡1  0⎤\n",
       "⎢    ⎥\n",
       "⎣0  1⎦"
      ]
     },
     "execution_count": 189,
     "metadata": {},
     "output_type": "execute_result"
    }
   ],
   "source": [
    "A.inv()*A"
   ]
  },
  {
   "cell_type": "code",
   "execution_count": 190,
   "metadata": {
    "collapsed": false,
    "jupyter": {
     "outputs_hidden": false
    }
   },
   "outputs": [
    {
     "data": {
      "image/png": "[encoded data removed]",
      "text/latex": [
       "$$\\left[\\begin{matrix}1 & 0\\\\0 & 1\\end{matrix}\\right]$$"
      ],
      "text/plain": [
       "⎡1  0⎤\n",
       "⎢    ⎥\n",
       "⎣0  1⎦"
      ]
     },
     "execution_count": 190,
     "metadata": {},
     "output_type": "execute_result"
    }
   ],
   "source": [
    "A*A.inv()"
   ]
  },
  {
   "cell_type": "markdown",
   "metadata": {},
   "source": [
    "The matrix inverse $A^{-1}$ plays the role of division by $A$."
   ]
  },
  {
   "cell_type": "markdown",
   "metadata": {},
   "source": [
    "### Eigenvectors and eigenvalues"
   ]
  },
  {
   "cell_type": "markdown",
   "metadata": {},
   "source": [
    "When a matrix is multiplied by one of its eigenvectors the output\n",
    "is the same eigenvector multiplied by a constant $A\\vec{e}_\\lambda =\\lambda\\vec{e}_\\lambda$.\n",
    "The constant $\\lambda$ (the Greek letter *lambda*) is called an *eigenvalue* of $A$.\n",
    "\n",
    "To find the eigenvalues of a matrix, start from the definition $A\\vec{e}_\\lambda =\\lambda\\vec{e}_\\lambda$,\n",
    "insert the identity $\\mathbb{1}$, \n",
    "and rewrite it as a null-space problem:\n",
    "\n",
    "$$\n",
    "A\\vec{e}_\\lambda =\\lambda\\mathbb{1}\\vec{e}_\\lambda\n",
    "\\qquad\n",
    "\\Rightarrow\n",
    "\\qquad\n",
    "\\left(A - \\lambda\\mathbb{1}\\right)\\vec{e}_\\lambda = \\vec{0}.\n",
    "$$\n",
    "\n",
    "This equation will have a solution whenever $|A - \\lambda\\mathbb{1}|=0$.(The invertible matrix theorem states\n",
    "that a matrix has a non-empty null space if and only if its determinant is zero.)\n",
    "The eigenvalues of $A \\in \\mathbb{R}^{n \\times n}$, \n",
    "denoted $\\{ \\lambda_1, \\lambda_2, \\ldots, \\lambda_n \\}$,\\\n",
    "are the roots of the *characteristic polynomial* $p(\\lambda)=|A - \\lambda \\mathbb{1}|$."
   ]
  },
  {
   "cell_type": "code",
   "execution_count": 191,
   "metadata": {
    "collapsed": false,
    "jupyter": {
     "outputs_hidden": false
    }
   },
   "outputs": [
    {
     "data": {
      "image/png": "[encoded data removed]",
      "text/latex": [
       "$$\\left \\{ 5 : 1, \\quad 10 : 1\\right \\}$$"
      ],
      "text/plain": [
       "{5: 1, 10: 1}"
      ]
     },
     "execution_count": 191,
     "metadata": {},
     "output_type": "execute_result"
    }
   ],
   "source": [
    "A = Matrix( [[ 9, -2],\n",
    "             [-2,  6]] )\n",
    "A.eigenvals()  # same as solve(det(A-eye(2)*x), x)\n",
    "               # return eigenvalues with their multiplicity"
   ]
  },
  {
   "cell_type": "code",
   "execution_count": 192,
   "metadata": {
    "collapsed": false,
    "jupyter": {
     "outputs_hidden": false
    }
   },
   "outputs": [
    {
     "data": {
      "image/png": "[encoded data removed]",
      "text/latex": [
       "$$\\left [ \\left ( 5, \\quad 1, \\quad \\left [ \\left[\\begin{matrix}\\frac{1}{2}\\\\1\\end{matrix}\\right]\\right ]\\right ), \\quad \\left ( 10, \\quad 1, \\quad \\left [ \\left[\\begin{matrix}-2\\\\1\\end{matrix}\\right]\\right ]\\right )\\right ]$$"
      ],
      "text/plain": [
       "⎡⎛5, 1, ⎡⎡1/2⎤⎤⎞, ⎛10, 1, ⎡⎡-2⎤⎤⎞⎤\n",
       "⎢⎜      ⎢⎢   ⎥⎥⎟  ⎜       ⎢⎢  ⎥⎥⎟⎥\n",
       "⎣⎝      ⎣⎣ 1 ⎦⎦⎠  ⎝       ⎣⎣1 ⎦⎦⎠⎦"
      ]
     },
     "execution_count": 192,
     "metadata": {},
     "output_type": "execute_result"
    }
   ],
   "source": [
    "A.eigenvects()"
   ]
  },
  {
   "cell_type": "markdown",
   "metadata": {},
   "source": [
    "Certain matrices can be written entirely in terms of their eigenvectors and their eigenvalues.\n",
    "Consider the matrix $\\Lambda$ (capital Greek *L*) that has the eigenvalues of the matrix $A$ on the diagonal, \n",
    "and the matrix $Q$ constructed from the eigenvectors of $A$ as columns:\n",
    "\n",
    "$$\n",
    "\\Lambda = \n",
    "\\begin{bmatrix}\n",
    "\\lambda_1\t&  \\cdots  &  0 \\\\\n",
    "\\vdots \t&  \\ddots  &  0  \\\\\n",
    "0  \t&   0      &  \\lambda_n\n",
    "\\end{bmatrix}\\!,\n",
    "\\ \\ \n",
    "Q \\: = \n",
    "\\begin{bmatrix}\n",
    "|  &  & | \\\\\n",
    "\\vec{e}_{\\lambda_1}  & \\!  \\cdots \\! &  \\large\\vec{e}_{\\lambda_n} \\\\\n",
    "|  &  & | \n",
    "\\end{bmatrix}\\!,\n",
    "\\ \\ \n",
    "\\textrm{then}\n",
    "\\ \\ \n",
    "A = Q \\Lambda Q^{-1}.\n",
    "$$\n",
    "\n",
    "Matrices that can be written this way are called *diagonalizable*.\n",
    "To *diagonalize* a matrix $A$ is to find its $Q$ and $\\Lambda$ matrices:"
   ]
  },
  {
   "cell_type": "code",
   "execution_count": 193,
   "metadata": {
    "collapsed": false,
    "jupyter": {
     "outputs_hidden": false
    }
   },
   "outputs": [
    {
     "data": {
      "image/png": "[encoded data removed]",
      "text/latex": [
       "$$\\left[\\begin{matrix}1 & -2\\\\2 & 1\\end{matrix}\\right]$$"
      ],
      "text/plain": [
       "⎡1  -2⎤\n",
       "⎢     ⎥\n",
       "⎣2  1 ⎦"
      ]
     },
     "execution_count": 193,
     "metadata": {},
     "output_type": "execute_result"
    }
   ],
   "source": [
    "Q, L = A.diagonalize()\n",
    "Q            # the matrix of eigenvectors as columns "
   ]
  },
  {
   "cell_type": "code",
   "execution_count": 194,
   "metadata": {
    "collapsed": false,
    "jupyter": {
     "outputs_hidden": false
    }
   },
   "outputs": [
    {
     "data": {
      "image/png": "[encoded data removed]",
      "text/latex": [
       "$$\\left[\\begin{matrix}\\frac{1}{5} & \\frac{2}{5}\\\\- \\frac{2}{5} & \\frac{1}{5}\\end{matrix}\\right]$$"
      ],
      "text/plain": [
       "⎡1/5   2/5⎤\n",
       "⎢         ⎥\n",
       "⎣-2/5  1/5⎦"
      ]
     },
     "execution_count": 194,
     "metadata": {},
     "output_type": "execute_result"
    }
   ],
   "source": [
    "Q.inv()"
   ]
  },
  {
   "cell_type": "code",
   "execution_count": 195,
   "metadata": {
    "collapsed": false,
    "jupyter": {
     "outputs_hidden": false
    }
   },
   "outputs": [
    {
     "data": {
      "image/png": "[encoded data removed]",
      "text/latex": [
       "$$\\left[\\begin{matrix}5 & 0\\\\0 & 10\\end{matrix}\\right]$$"
      ],
      "text/plain": [
       "⎡5  0 ⎤\n",
       "⎢     ⎥\n",
       "⎣0  10⎦"
      ]
     },
     "execution_count": 195,
     "metadata": {},
     "output_type": "execute_result"
    }
   ],
   "source": [
    "L            # the matrix of eigenvalues"
   ]
  },
  {
   "cell_type": "code",
   "execution_count": 196,
   "metadata": {
    "collapsed": false,
    "jupyter": {
     "outputs_hidden": false
    }
   },
   "outputs": [
    {
     "data": {
      "image/png": "[encoded data removed]",
      "text/latex": [
       "$$\\left[\\begin{matrix}9 & -2\\\\-2 & 6\\end{matrix}\\right]$$"
      ],
      "text/plain": [
       "⎡9   -2⎤\n",
       "⎢      ⎥\n",
       "⎣-2  6 ⎦"
      ]
     },
     "execution_count": 196,
     "metadata": {},
     "output_type": "execute_result"
    }
   ],
   "source": [
    "Q*L*Q.inv()  # eigendecomposition of A"
   ]
  },
  {
   "cell_type": "code",
   "execution_count": 197,
   "metadata": {
    "collapsed": false,
    "jupyter": {
     "outputs_hidden": false
    }
   },
   "outputs": [
    {
     "data": {
      "image/png": "[encoded data removed]",
      "text/latex": [
       "$$\\left[\\begin{matrix}5 & 0\\\\0 & 10\\end{matrix}\\right]$$"
      ],
      "text/plain": [
       "⎡5  0 ⎤\n",
       "⎢     ⎥\n",
       "⎣0  10⎦"
      ]
     },
     "execution_count": 197,
     "metadata": {},
     "output_type": "execute_result"
    }
   ],
   "source": [
    "Q.inv()*A*Q  # obtain L from A and Q"
   ]
  },
  {
   "cell_type": "markdown",
   "metadata": {},
   "source": [
    "Not all matrices are diagonalizable.\n",
    "You can check if a matrix is diagonalizable by calling its `is_diagonalizable` method:"
   ]
  },
  {
   "cell_type": "code",
   "execution_count": 198,
   "metadata": {
    "collapsed": false,
    "jupyter": {
     "outputs_hidden": false
    }
   },
   "outputs": [
    {
     "data": {
      "text/plain": [
       "True"
      ]
     },
     "execution_count": 198,
     "metadata": {},
     "output_type": "execute_result"
    }
   ],
   "source": [
    "A.is_diagonalizable()"
   ]
  },
  {
   "cell_type": "code",
   "execution_count": 199,
   "metadata": {
    "collapsed": false,
    "jupyter": {
     "outputs_hidden": false
    }
   },
   "outputs": [
    {
     "data": {
      "text/plain": [
       "False"
      ]
     },
     "execution_count": 199,
     "metadata": {},
     "output_type": "execute_result"
    }
   ],
   "source": [
    "B = Matrix( [[1, 3],\n",
    "            [0, 1]] )\n",
    "B.is_diagonalizable()"
   ]
  },
  {
   "cell_type": "code",
   "execution_count": 200,
   "metadata": {
    "collapsed": false,
    "jupyter": {
     "outputs_hidden": false
    }
   },
   "outputs": [
    {
     "data": {
      "image/png": "[encoded data removed]",
      "text/latex": [
       "$$\\left \\{ 1 : 2\\right \\}$$"
      ],
      "text/plain": [
       "{1: 2}"
      ]
     },
     "execution_count": 200,
     "metadata": {},
     "output_type": "execute_result"
    }
   ],
   "source": [
    "B.eigenvals()  # eigenvalue 1 with multiplicity 2"
   ]
  },
  {
   "cell_type": "code",
   "execution_count": 201,
   "metadata": {
    "collapsed": false,
    "jupyter": {
     "outputs_hidden": false
    }
   },
   "outputs": [
    {
     "data": {
      "image/png": "[encoded data removed]",
      "text/latex": [
       "$$\\left [ \\left ( 1, \\quad 2, \\quad \\left [ \\left[\\begin{matrix}1\\\\0\\end{matrix}\\right]\\right ]\\right )\\right ]$$"
      ],
      "text/plain": [
       "⎡⎛1, 2, ⎡⎡1⎤⎤⎞⎤\n",
       "⎢⎜      ⎢⎢ ⎥⎥⎟⎥\n",
       "⎣⎝      ⎣⎣0⎦⎦⎠⎦"
      ]
     },
     "execution_count": 201,
     "metadata": {},
     "output_type": "execute_result"
    }
   ],
   "source": [
    "B.eigenvects()"
   ]
  },
  {
   "cell_type": "markdown",
   "metadata": {},
   "source": [
    "The matrix $B$ is not diagonalizable because it doesn't have a full set of eigenvectors.\n",
    "To diagonalize a $2\\times 2$ matrix, we need two orthogonal eigenvectors but $B$ has only a single eigenvector.\n",
    "Therefore, we can't construct the matrix of eigenvectors $Q$ (we're missing a column!) \n",
    "and so $B$ is not diagonalizable.\n",
    "\n",
    "Non-square matrices don't have eigenvectors and therefore don't have an eigendecomposition.\n",
    "Instead, we can use the *singular value decomposition* to break up a non-square matrix $A$ into \n",
    "left singular vectors,\n",
    "right singular vectors, \n",
    "and a diagonal matrix of singular values.\n",
    "Use the `singular_values` method on any matrix to find its singular values."
   ]
  },
  {
   "cell_type": "markdown",
   "metadata": {},
   "source": [
    "## Conclusion"
   ]
  },
  {
   "cell_type": "markdown",
   "metadata": {},
   "source": [
    "I would like to conclude with some words of caution about the overuse of computers.\n",
    "Computer technology is very powerful and is everywhere around us,\n",
    "but let's not forget that computers are actually very dumb:\n",
    "computers are mere calculators and they depend on your knowledge to direct them.\n",
    "It's important that you learn how to do complicated math by hand in order to be \n",
    "able to instruct computers to do math for you and to check the results of your computer calculations.\n",
    "I don't want you to use the tricks you learned in this tutorial to avoid math problems from now on\n",
    "and simply rely blindly on `SymPy` for all your math needs.\n",
    "I want both you and the computer to become math powerhouses!\n",
    "The computer will help you with tedious calculations (they're good at that)\n",
    "and you'll help the computer by guiding it when it gets  stuck (humans are good at that)."
   ]
  },
  {
   "cell_type": "markdown",
   "metadata": {},
   "source": [
    "## Links"
   ]
  },
  {
   "cell_type": "markdown",
   "metadata": {},
   "source": [
    "* [Installation instructions for `ipython notebook`](http://ipython.org/install.html)\n",
    "* [The official `SymPy` tutorial](http://docs.sympy.org/latest/tutorial/intro.html)\n",
    "* [A list of `SymPy` gotchas](http://docs.sympy.org/dev/gotchas.html)\n",
    "* [`SymPy` video tutorials by Matthew Rocklin](http://pyvideo.org/speaker/583/matthew-rocklin)"
   ]
  },
  {
   "cell_type": "markdown",
   "metadata": {},
   "source": [
    "## Book plug"
   ]
  },
  {
   "cell_type": "markdown",
   "metadata": {},
   "source": [
    "![Cover](http://minireference.com/miniref/lib/tpl/miniref/dist/images/productshots/noBSguide_math_physics_softcover.png)\n",
    "\n",
    "The examples and math explanations in this tutorial are sourced from the \n",
    "*No bullshit guide* series of books published by Minireference&nbsp;Co.\n",
    "We publish textbooks that make math and physics accessible and affordable for everyone.\n",
    "If you're interested in learning more about the math, physics, and calculus topics discussed in this tutorial,\n",
    "check out the **No bullshit guide to math and physics**.\n",
    "The book contains the distilled information that normally comes in two first-year university books:\n",
    "the introductory physics book (1000+ pages) and the first-year calculus book (1000+ pages).\n",
    "Would you believe me if I told you that you can learn the \n",
    "same material from a single book that is 1/7<sup>th</sup> the size and 1/10<sup>th</sup> of the \n",
    "price of mainstream textbooks?\n",
    "\n",
    "This book contains short lessons on math and physics, calculus.\n",
    "Often calculus and mechanics are taught as separate subjects.\n",
    "It shouldn't be like that.\n",
    "If you learn calculus without mechanics, it will be boring.\n",
    "If you learn mechanics without calculus, you won't truly understand what is going on.\n",
    "This textbook covers both subjects in an integrated manner.\n",
    "    \n",
    "Contents:\n",
    "\n",
    "* High school math\n",
    "* Vectors\n",
    "* Mechanics\n",
    "* Differential calculus\n",
    "* Integral calculus\n",
    "* 250+ practice problems\n",
    "\n",
    "For more information, see the book's website at [minireference.com](http://minireference.com/)\n",
    "\n",
    "The presented linear algebra examples are \n",
    "sourced from the [**No bullshit guide to linear algebra**](https://gum.co/noBSLA).\n",
    "Check out the book if you're taking a linear algebra course of if you're missing the prerequisites \n",
    "for learning machine learning, computer graphics, or quantum mechanics.\n",
    "\n",
    "I'll close on a note for potential readers who suffer from math-phobia.\n",
    "Both books start with an introductory chapter that reviews all \n",
    "high school math concepts needed to make math and physics \n",
    "accessible to everyone.\n",
    "Don't worry, we'll fix this math-phobia thing right up for you;\n",
    "**when you've got `SymPy` skills, math fears *you*!**\n",
    "\n",
    "To stay informed about upcoming titles,\n",
    "follow [@minireference](https://twitter.com/minireference) on twitter \n",
    "and check out the facebook page at [fb.me/noBSguide](http://fb.me/noBSguide)."
   ]
  }
 ],
 "metadata": {
  "kernelspec": {
   "display_name": "Python 3",
   "language": "python",
   "name": "python3"
  },
  "language_info": {
   "codemirror_mode": {
    "name": "ipython",
    "version": 3
   },
   "file_extension": ".py",
   "mimetype": "text/x-python",
   "name": "python",
   "nbconvert_exporter": "python",
   "pygments_lexer": "ipython3",
   "version": "3.6.9"
  }
 },
 "nbformat": 4,
 "nbformat_minor": 4
}
